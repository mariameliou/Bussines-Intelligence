{
  "cells": [
    {
      "cell_type": "markdown",
      "source": [
        "The task of the project is to predict Customers Lifetime Value on new customers. The CLV can be computed as:\n",
        "```\n",
        "CLV =  expected number of transactions x expected average transaction value\n",
        "```\n",
        "\n"
      ],
      "metadata": {
        "id": "qyH9E3oX2AL1"
      }
    },
    {
      "cell_type": "markdown",
      "metadata": {
        "id": "C2ev9z7DDVh5"
      },
      "source": [
        "## Importing Libraries and installing packages"
      ]
    },
    {
      "cell_type": "code",
      "execution_count": null,
      "metadata": {
        "colab": {
          "base_uri": "https://localhost:8080/"
        },
        "id": "Bqjy024u8bpi",
        "outputId": "a3ca4fae-a51a-4fb9-e370-9332e80fd317"
      },
      "outputs": [
        {
          "output_type": "stream",
          "name": "stdout",
          "text": [
            "Looking in indexes: https://pypi.org/simple, https://us-python.pkg.dev/colab-wheels/public/simple/\n",
            "Collecting lifetimes\n",
            "  Downloading Lifetimes-0.11.3-py3-none-any.whl (584 kB)\n",
            "\u001b[2K     \u001b[90m━━━━━━━━━━━━━━━━━━━━━━━━━━━━━━━━━━━━━━\u001b[0m \u001b[32m584.2/584.2 KB\u001b[0m \u001b[31m36.2 MB/s\u001b[0m eta \u001b[36m0:00:00\u001b[0m\n",
            "\u001b[?25hRequirement already satisfied: dill>=0.2.6 in /usr/local/lib/python3.8/dist-packages (from lifetimes) (0.3.6)\n",
            "Requirement already satisfied: autograd>=1.2.0 in /usr/local/lib/python3.8/dist-packages (from lifetimes) (1.5)\n",
            "Requirement already satisfied: numpy>=1.10.0 in /usr/local/lib/python3.8/dist-packages (from lifetimes) (1.21.6)\n",
            "Requirement already satisfied: scipy>=1.0.0 in /usr/local/lib/python3.8/dist-packages (from lifetimes) (1.7.3)\n",
            "Requirement already satisfied: pandas>=0.24.0 in /usr/local/lib/python3.8/dist-packages (from lifetimes) (1.3.5)\n",
            "Requirement already satisfied: future>=0.15.2 in /usr/local/lib/python3.8/dist-packages (from autograd>=1.2.0->lifetimes) (0.16.0)\n",
            "Requirement already satisfied: python-dateutil>=2.7.3 in /usr/local/lib/python3.8/dist-packages (from pandas>=0.24.0->lifetimes) (2.8.2)\n",
            "Requirement already satisfied: pytz>=2017.3 in /usr/local/lib/python3.8/dist-packages (from pandas>=0.24.0->lifetimes) (2022.7)\n",
            "Requirement already satisfied: six>=1.5 in /usr/local/lib/python3.8/dist-packages (from python-dateutil>=2.7.3->pandas>=0.24.0->lifetimes) (1.15.0)\n",
            "Installing collected packages: lifetimes\n",
            "Successfully installed lifetimes-0.11.3\n"
          ]
        }
      ],
      "source": [
        "! pip install lifetimes"
      ]
    },
    {
      "cell_type": "code",
      "execution_count": null,
      "metadata": {
        "id": "QPG3sadThs0A"
      },
      "outputs": [],
      "source": [
        "import pandas as pd\n",
        "import seaborn as sns\n",
        "import matplotlib.pyplot as plt\n",
        "import plotly.express as px\n",
        "from sklearn.cluster import KMeans\n",
        "from matplotlib.pyplot import figure\n",
        "import lifetimes\n",
        "from lifetimes import BetaGeoFitter\n",
        "import sklearn\n",
        "from sklearn.linear_model import LinearRegression\n",
        "from sklearn.metrics import r2_score, median_absolute_error\n",
        "from lifetimes import GammaGammaFitter\n",
        "from lifetimes.utils import calibration_and_holdout_data\n",
        "from lifetimes.utils import summary_data_from_transaction_data\n",
        "from lifetimes.plotting import plot_frequency_recency_matrix\n",
        "from lifetimes.plotting import plot_probability_alive_matrix\n",
        "from lifetimes.plotting import plot_calibration_purchases_vs_holdout_purchases\n",
        "from lifetimes.plotting import plot_period_transactions\n",
        "from lifetimes.plotting import plot_history_alive\n",
        "\n",
        "import warnings\n",
        "\n",
        "warnings.filterwarnings('ignore')"
      ]
    },
    {
      "cell_type": "markdown",
      "metadata": {
        "id": "tbF4n_5ggfKa"
      },
      "source": [
        "We first open the json file:"
      ]
    },
    {
      "cell_type": "code",
      "execution_count": null,
      "metadata": {
        "id": "-LzZILRf4_DU"
      },
      "outputs": [],
      "source": [
        "with open('/content/drive/MyDrive/Colab Notebooks/raw_customer_data.json') as f:\n",
        "    lines = f.readlines()"
      ]
    },
    {
      "cell_type": "code",
      "execution_count": null,
      "metadata": {
        "colab": {
          "base_uri": "https://localhost:8080/",
          "height": 53
        },
        "id": "AOyVzxqA5GgE",
        "outputId": "ff766510-0b90-4c60-8916-8dc7a4de73ed"
      },
      "outputs": [
        {
          "output_type": "execute_result",
          "data": {
            "text/plain": [
              "'{\"id\": 128867, \"transactions\": [{\"settledAt\": \"2022-03-10T14:14:34.583+0000\", \"ftd\": true, \"amount\": 40.0, \"status\": \"SUCCESS\", \"type\": \"deposit\"}]}\\n'"
            ],
            "application/vnd.google.colaboratory.intrinsic+json": {
              "type": "string"
            }
          },
          "metadata": {},
          "execution_count": 4
        }
      ],
      "source": [
        "# the first line looks like this :\n",
        "lines[0]"
      ]
    },
    {
      "cell_type": "code",
      "execution_count": null,
      "metadata": {
        "colab": {
          "base_uri": "https://localhost:8080/"
        },
        "id": "5kX4AZmi5yjZ",
        "outputId": "1bf7f421-e91b-4a33-f3f3-5ad6ae334806"
      },
      "outputs": [
        {
          "output_type": "execute_result",
          "data": {
            "text/plain": [
              "6677"
            ]
          },
          "metadata": {},
          "execution_count": 5
        }
      ],
      "source": [
        "len(lines) # the file has 6677 lines"
      ]
    },
    {
      "cell_type": "markdown",
      "metadata": {
        "id": "W_CxYVlHbeas"
      },
      "source": [
        "We will save the data into a pandas dataframe :"
      ]
    },
    {
      "cell_type": "code",
      "execution_count": null,
      "metadata": {
        "colab": {
          "base_uri": "https://localhost:8080/",
          "height": 424
        },
        "id": "B4yxg_Zd5ygd",
        "outputId": "310a312d-7c23-44d7-8336-a9b6a6eded77"
      },
      "outputs": [
        {
          "output_type": "execute_result",
          "data": {
            "text/plain": [
              "            id                     settledAt    ftd  amount   status  \\\n",
              "0       128867  2022-03-10T14:14:34.583+0000   True    40.0  SUCCESS   \n",
              "1       128853  2022-03-10T11:30:45.292+0000  False    50.0  SUCCESS   \n",
              "2       128853  2022-03-10T09:55:57.469+0000    1.0    50.0  SUCCESS   \n",
              "3       128850  2022-03-10T11:06:32.510+0000   True   159.0  SUCCESS   \n",
              "4       128850  2022-03-10T11:32:38.318+0000    0.0   180.0     FAIL   \n",
              "...        ...                           ...    ...     ...      ...   \n",
              "180746    5825  2020-03-23T08:26:33.212+0000    0.0    20.0   CANCEL   \n",
              "180747    5825  2020-03-20T13:38:59.789+0000    0.0    25.0     FAIL   \n",
              "180748    5774  2019-12-15T20:09:26.286+0000  False    50.0    ERROR   \n",
              "180749    5774  2019-12-16T06:49:49.786+0000    0.0    50.0  SUCCESS   \n",
              "180750    5774  2019-12-09T10:05:27.783+0000    1.0    50.0  SUCCESS   \n",
              "\n",
              "              type  \n",
              "0          deposit  \n",
              "1          deposit  \n",
              "2          deposit  \n",
              "3          deposit  \n",
              "4          deposit  \n",
              "...            ...  \n",
              "180746     deposit  \n",
              "180747     deposit  \n",
              "180748  withdrawal  \n",
              "180749  withdrawal  \n",
              "180750     deposit  \n",
              "\n",
              "[180751 rows x 6 columns]"
            ],
            "text/html": [
              "\n",
              "  <div id=\"df-56c5f4e3-2440-4ba7-a4e9-1ddc564a86d6\">\n",
              "    <div class=\"colab-df-container\">\n",
              "      <div>\n",
              "<style scoped>\n",
              "    .dataframe tbody tr th:only-of-type {\n",
              "        vertical-align: middle;\n",
              "    }\n",
              "\n",
              "    .dataframe tbody tr th {\n",
              "        vertical-align: top;\n",
              "    }\n",
              "\n",
              "    .dataframe thead th {\n",
              "        text-align: right;\n",
              "    }\n",
              "</style>\n",
              "<table border=\"1\" class=\"dataframe\">\n",
              "  <thead>\n",
              "    <tr style=\"text-align: right;\">\n",
              "      <th></th>\n",
              "      <th>id</th>\n",
              "      <th>settledAt</th>\n",
              "      <th>ftd</th>\n",
              "      <th>amount</th>\n",
              "      <th>status</th>\n",
              "      <th>type</th>\n",
              "    </tr>\n",
              "  </thead>\n",
              "  <tbody>\n",
              "    <tr>\n",
              "      <th>0</th>\n",
              "      <td>128867</td>\n",
              "      <td>2022-03-10T14:14:34.583+0000</td>\n",
              "      <td>True</td>\n",
              "      <td>40.0</td>\n",
              "      <td>SUCCESS</td>\n",
              "      <td>deposit</td>\n",
              "    </tr>\n",
              "    <tr>\n",
              "      <th>1</th>\n",
              "      <td>128853</td>\n",
              "      <td>2022-03-10T11:30:45.292+0000</td>\n",
              "      <td>False</td>\n",
              "      <td>50.0</td>\n",
              "      <td>SUCCESS</td>\n",
              "      <td>deposit</td>\n",
              "    </tr>\n",
              "    <tr>\n",
              "      <th>2</th>\n",
              "      <td>128853</td>\n",
              "      <td>2022-03-10T09:55:57.469+0000</td>\n",
              "      <td>1.0</td>\n",
              "      <td>50.0</td>\n",
              "      <td>SUCCESS</td>\n",
              "      <td>deposit</td>\n",
              "    </tr>\n",
              "    <tr>\n",
              "      <th>3</th>\n",
              "      <td>128850</td>\n",
              "      <td>2022-03-10T11:06:32.510+0000</td>\n",
              "      <td>True</td>\n",
              "      <td>159.0</td>\n",
              "      <td>SUCCESS</td>\n",
              "      <td>deposit</td>\n",
              "    </tr>\n",
              "    <tr>\n",
              "      <th>4</th>\n",
              "      <td>128850</td>\n",
              "      <td>2022-03-10T11:32:38.318+0000</td>\n",
              "      <td>0.0</td>\n",
              "      <td>180.0</td>\n",
              "      <td>FAIL</td>\n",
              "      <td>deposit</td>\n",
              "    </tr>\n",
              "    <tr>\n",
              "      <th>...</th>\n",
              "      <td>...</td>\n",
              "      <td>...</td>\n",
              "      <td>...</td>\n",
              "      <td>...</td>\n",
              "      <td>...</td>\n",
              "      <td>...</td>\n",
              "    </tr>\n",
              "    <tr>\n",
              "      <th>180746</th>\n",
              "      <td>5825</td>\n",
              "      <td>2020-03-23T08:26:33.212+0000</td>\n",
              "      <td>0.0</td>\n",
              "      <td>20.0</td>\n",
              "      <td>CANCEL</td>\n",
              "      <td>deposit</td>\n",
              "    </tr>\n",
              "    <tr>\n",
              "      <th>180747</th>\n",
              "      <td>5825</td>\n",
              "      <td>2020-03-20T13:38:59.789+0000</td>\n",
              "      <td>0.0</td>\n",
              "      <td>25.0</td>\n",
              "      <td>FAIL</td>\n",
              "      <td>deposit</td>\n",
              "    </tr>\n",
              "    <tr>\n",
              "      <th>180748</th>\n",
              "      <td>5774</td>\n",
              "      <td>2019-12-15T20:09:26.286+0000</td>\n",
              "      <td>False</td>\n",
              "      <td>50.0</td>\n",
              "      <td>ERROR</td>\n",
              "      <td>withdrawal</td>\n",
              "    </tr>\n",
              "    <tr>\n",
              "      <th>180749</th>\n",
              "      <td>5774</td>\n",
              "      <td>2019-12-16T06:49:49.786+0000</td>\n",
              "      <td>0.0</td>\n",
              "      <td>50.0</td>\n",
              "      <td>SUCCESS</td>\n",
              "      <td>withdrawal</td>\n",
              "    </tr>\n",
              "    <tr>\n",
              "      <th>180750</th>\n",
              "      <td>5774</td>\n",
              "      <td>2019-12-09T10:05:27.783+0000</td>\n",
              "      <td>1.0</td>\n",
              "      <td>50.0</td>\n",
              "      <td>SUCCESS</td>\n",
              "      <td>deposit</td>\n",
              "    </tr>\n",
              "  </tbody>\n",
              "</table>\n",
              "<p>180751 rows × 6 columns</p>\n",
              "</div>\n",
              "      <button class=\"colab-df-convert\" onclick=\"convertToInteractive('df-56c5f4e3-2440-4ba7-a4e9-1ddc564a86d6')\"\n",
              "              title=\"Convert this dataframe to an interactive table.\"\n",
              "              style=\"display:none;\">\n",
              "        \n",
              "  <svg xmlns=\"http://www.w3.org/2000/svg\" height=\"24px\"viewBox=\"0 0 24 24\"\n",
              "       width=\"24px\">\n",
              "    <path d=\"M0 0h24v24H0V0z\" fill=\"none\"/>\n",
              "    <path d=\"M18.56 5.44l.94 2.06.94-2.06 2.06-.94-2.06-.94-.94-2.06-.94 2.06-2.06.94zm-11 1L8.5 8.5l.94-2.06 2.06-.94-2.06-.94L8.5 2.5l-.94 2.06-2.06.94zm10 10l.94 2.06.94-2.06 2.06-.94-2.06-.94-.94-2.06-.94 2.06-2.06.94z\"/><path d=\"M17.41 7.96l-1.37-1.37c-.4-.4-.92-.59-1.43-.59-.52 0-1.04.2-1.43.59L10.3 9.45l-7.72 7.72c-.78.78-.78 2.05 0 2.83L4 21.41c.39.39.9.59 1.41.59.51 0 1.02-.2 1.41-.59l7.78-7.78 2.81-2.81c.8-.78.8-2.07 0-2.86zM5.41 20L4 18.59l7.72-7.72 1.47 1.35L5.41 20z\"/>\n",
              "  </svg>\n",
              "      </button>\n",
              "      \n",
              "  <style>\n",
              "    .colab-df-container {\n",
              "      display:flex;\n",
              "      flex-wrap:wrap;\n",
              "      gap: 12px;\n",
              "    }\n",
              "\n",
              "    .colab-df-convert {\n",
              "      background-color: #E8F0FE;\n",
              "      border: none;\n",
              "      border-radius: 50%;\n",
              "      cursor: pointer;\n",
              "      display: none;\n",
              "      fill: #1967D2;\n",
              "      height: 32px;\n",
              "      padding: 0 0 0 0;\n",
              "      width: 32px;\n",
              "    }\n",
              "\n",
              "    .colab-df-convert:hover {\n",
              "      background-color: #E2EBFA;\n",
              "      box-shadow: 0px 1px 2px rgba(60, 64, 67, 0.3), 0px 1px 3px 1px rgba(60, 64, 67, 0.15);\n",
              "      fill: #174EA6;\n",
              "    }\n",
              "\n",
              "    [theme=dark] .colab-df-convert {\n",
              "      background-color: #3B4455;\n",
              "      fill: #D2E3FC;\n",
              "    }\n",
              "\n",
              "    [theme=dark] .colab-df-convert:hover {\n",
              "      background-color: #434B5C;\n",
              "      box-shadow: 0px 1px 3px 1px rgba(0, 0, 0, 0.15);\n",
              "      filter: drop-shadow(0px 1px 2px rgba(0, 0, 0, 0.3));\n",
              "      fill: #FFFFFF;\n",
              "    }\n",
              "  </style>\n",
              "\n",
              "      <script>\n",
              "        const buttonEl =\n",
              "          document.querySelector('#df-56c5f4e3-2440-4ba7-a4e9-1ddc564a86d6 button.colab-df-convert');\n",
              "        buttonEl.style.display =\n",
              "          google.colab.kernel.accessAllowed ? 'block' : 'none';\n",
              "\n",
              "        async function convertToInteractive(key) {\n",
              "          const element = document.querySelector('#df-56c5f4e3-2440-4ba7-a4e9-1ddc564a86d6');\n",
              "          const dataTable =\n",
              "            await google.colab.kernel.invokeFunction('convertToInteractive',\n",
              "                                                     [key], {});\n",
              "          if (!dataTable) return;\n",
              "\n",
              "          const docLinkHtml = 'Like what you see? Visit the ' +\n",
              "            '<a target=\"_blank\" href=https://colab.research.google.com/notebooks/data_table.ipynb>data table notebook</a>'\n",
              "            + ' to learn more about interactive tables.';\n",
              "          element.innerHTML = '';\n",
              "          dataTable['output_type'] = 'display_data';\n",
              "          await google.colab.output.renderOutput(dataTable, element);\n",
              "          const docLink = document.createElement('div');\n",
              "          docLink.innerHTML = docLinkHtml;\n",
              "          element.appendChild(docLink);\n",
              "        }\n",
              "      </script>\n",
              "    </div>\n",
              "  </div>\n",
              "  "
            ]
          },
          "metadata": {},
          "execution_count": 6
        }
      ],
      "source": [
        "# Empty lists for the data to be saved\n",
        "id = []\n",
        "settledAt = []\n",
        "ftd = []\n",
        "amount = []\n",
        "status = []\n",
        "Type = []\n",
        "\n",
        "Error_rows = []\n",
        "\n",
        "\n",
        "# Because we opened the json file as txt file, we have to go through each line of the file\n",
        "for row in lines:\n",
        "  try:\n",
        "\n",
        "     Customers = pd.read_json(row)\n",
        "\n",
        "  except ValueError: # some rows return a ValueError so we append the into the Error_rows list\n",
        "                Error_rows.append(row)\n",
        "                continue\n",
        "\n",
        "  for dictionary in Customers['transactions']:\n",
        "    try: # We have to confirm that each of these entries exist and if not a KeyError occurs\n",
        "         ID = Customers['id'][0]\n",
        "         SettledAt = dictionary['settledAt']\n",
        "         FTD = dictionary['ftd']\n",
        "         Amount = dictionary['amount']\n",
        "         Status = dictionary['status']\n",
        "         TYpe = dictionary['type']\n",
        "\n",
        "\n",
        "    except KeyError: # some entries do not exist and the code returns a KeyError so we append the row into the Error_rows list\n",
        "                Error_rows.append(row)\n",
        "                continue\n",
        "\n",
        "    # if the row does not return errors, we procede to append the data into the lists we created above\n",
        "    id.append(Customers['id'][0])\n",
        "    settledAt.append(dictionary['settledAt'])\n",
        "    ftd.append(dictionary['ftd'])\n",
        "    amount.append(dictionary['amount'])\n",
        "    status.append(dictionary['status'])\n",
        "    Type.append(dictionary['type'])\n",
        "\n",
        "\n",
        "# Using the lists of data, we will save the data into a pandas dataframe for further processing and analysis\n",
        "Customers_df = pd.DataFrame({'id' : id , 'settledAt' : settledAt , 'ftd' : ftd , 'amount' : amount , 'status' : status , 'type' : Type})\n",
        "Customers_df"
      ]
    },
    {
      "cell_type": "code",
      "execution_count": null,
      "metadata": {
        "colab": {
          "base_uri": "https://localhost:8080/"
        },
        "id": "QGpd-jug8PtG",
        "outputId": "fd991872-0b5e-46ef-df2b-8fac6efa34f3"
      },
      "outputs": [
        {
          "output_type": "stream",
          "name": "stdout",
          "text": [
            "0 rows return a Value error\n"
          ]
        }
      ],
      "source": [
        "print(f'{len(Error_rows)} rows return a Value error')"
      ]
    },
    {
      "cell_type": "markdown",
      "metadata": {
        "id": "k85HvaNMiFiM"
      },
      "source": [
        "# Data Preprocessing :"
      ]
    },
    {
      "cell_type": "markdown",
      "metadata": {
        "id": "8wq6M4y1I_09"
      },
      "source": [
        "As we can see, the column ftd except from true/false entries has also other values, 0 and 1, therefore, we will replace true/false values with 0 and 1 ( 0 if false and 1 if true) as programming languages understand numbers better than string."
      ]
    },
    {
      "cell_type": "code",
      "execution_count": null,
      "metadata": {
        "colab": {
          "base_uri": "https://localhost:8080/",
          "height": 424
        },
        "id": "P_GwoEUqI43Y",
        "outputId": "63825711-aa74-4575-ef39-ce09ba3dd1a6"
      },
      "outputs": [
        {
          "output_type": "execute_result",
          "data": {
            "text/plain": [
              "            id                     settledAt  ftd  amount   status        type\n",
              "0       128867  2022-03-10T14:14:34.583+0000    1    40.0  SUCCESS     deposit\n",
              "1       128853  2022-03-10T11:30:45.292+0000    0    50.0  SUCCESS     deposit\n",
              "2       128853  2022-03-10T09:55:57.469+0000    1    50.0  SUCCESS     deposit\n",
              "3       128850  2022-03-10T11:06:32.510+0000    1   159.0  SUCCESS     deposit\n",
              "4       128850  2022-03-10T11:32:38.318+0000    0   180.0     FAIL     deposit\n",
              "...        ...                           ...  ...     ...      ...         ...\n",
              "180746    5825  2020-03-23T08:26:33.212+0000    0    20.0   CANCEL     deposit\n",
              "180747    5825  2020-03-20T13:38:59.789+0000    0    25.0     FAIL     deposit\n",
              "180748    5774  2019-12-15T20:09:26.286+0000    0    50.0    ERROR  withdrawal\n",
              "180749    5774  2019-12-16T06:49:49.786+0000    0    50.0  SUCCESS  withdrawal\n",
              "180750    5774  2019-12-09T10:05:27.783+0000    1    50.0  SUCCESS     deposit\n",
              "\n",
              "[180751 rows x 6 columns]"
            ],
            "text/html": [
              "\n",
              "  <div id=\"df-0a9d1314-0e35-4b4e-9185-e3139b88281f\">\n",
              "    <div class=\"colab-df-container\">\n",
              "      <div>\n",
              "<style scoped>\n",
              "    .dataframe tbody tr th:only-of-type {\n",
              "        vertical-align: middle;\n",
              "    }\n",
              "\n",
              "    .dataframe tbody tr th {\n",
              "        vertical-align: top;\n",
              "    }\n",
              "\n",
              "    .dataframe thead th {\n",
              "        text-align: right;\n",
              "    }\n",
              "</style>\n",
              "<table border=\"1\" class=\"dataframe\">\n",
              "  <thead>\n",
              "    <tr style=\"text-align: right;\">\n",
              "      <th></th>\n",
              "      <th>id</th>\n",
              "      <th>settledAt</th>\n",
              "      <th>ftd</th>\n",
              "      <th>amount</th>\n",
              "      <th>status</th>\n",
              "      <th>type</th>\n",
              "    </tr>\n",
              "  </thead>\n",
              "  <tbody>\n",
              "    <tr>\n",
              "      <th>0</th>\n",
              "      <td>128867</td>\n",
              "      <td>2022-03-10T14:14:34.583+0000</td>\n",
              "      <td>1</td>\n",
              "      <td>40.0</td>\n",
              "      <td>SUCCESS</td>\n",
              "      <td>deposit</td>\n",
              "    </tr>\n",
              "    <tr>\n",
              "      <th>1</th>\n",
              "      <td>128853</td>\n",
              "      <td>2022-03-10T11:30:45.292+0000</td>\n",
              "      <td>0</td>\n",
              "      <td>50.0</td>\n",
              "      <td>SUCCESS</td>\n",
              "      <td>deposit</td>\n",
              "    </tr>\n",
              "    <tr>\n",
              "      <th>2</th>\n",
              "      <td>128853</td>\n",
              "      <td>2022-03-10T09:55:57.469+0000</td>\n",
              "      <td>1</td>\n",
              "      <td>50.0</td>\n",
              "      <td>SUCCESS</td>\n",
              "      <td>deposit</td>\n",
              "    </tr>\n",
              "    <tr>\n",
              "      <th>3</th>\n",
              "      <td>128850</td>\n",
              "      <td>2022-03-10T11:06:32.510+0000</td>\n",
              "      <td>1</td>\n",
              "      <td>159.0</td>\n",
              "      <td>SUCCESS</td>\n",
              "      <td>deposit</td>\n",
              "    </tr>\n",
              "    <tr>\n",
              "      <th>4</th>\n",
              "      <td>128850</td>\n",
              "      <td>2022-03-10T11:32:38.318+0000</td>\n",
              "      <td>0</td>\n",
              "      <td>180.0</td>\n",
              "      <td>FAIL</td>\n",
              "      <td>deposit</td>\n",
              "    </tr>\n",
              "    <tr>\n",
              "      <th>...</th>\n",
              "      <td>...</td>\n",
              "      <td>...</td>\n",
              "      <td>...</td>\n",
              "      <td>...</td>\n",
              "      <td>...</td>\n",
              "      <td>...</td>\n",
              "    </tr>\n",
              "    <tr>\n",
              "      <th>180746</th>\n",
              "      <td>5825</td>\n",
              "      <td>2020-03-23T08:26:33.212+0000</td>\n",
              "      <td>0</td>\n",
              "      <td>20.0</td>\n",
              "      <td>CANCEL</td>\n",
              "      <td>deposit</td>\n",
              "    </tr>\n",
              "    <tr>\n",
              "      <th>180747</th>\n",
              "      <td>5825</td>\n",
              "      <td>2020-03-20T13:38:59.789+0000</td>\n",
              "      <td>0</td>\n",
              "      <td>25.0</td>\n",
              "      <td>FAIL</td>\n",
              "      <td>deposit</td>\n",
              "    </tr>\n",
              "    <tr>\n",
              "      <th>180748</th>\n",
              "      <td>5774</td>\n",
              "      <td>2019-12-15T20:09:26.286+0000</td>\n",
              "      <td>0</td>\n",
              "      <td>50.0</td>\n",
              "      <td>ERROR</td>\n",
              "      <td>withdrawal</td>\n",
              "    </tr>\n",
              "    <tr>\n",
              "      <th>180749</th>\n",
              "      <td>5774</td>\n",
              "      <td>2019-12-16T06:49:49.786+0000</td>\n",
              "      <td>0</td>\n",
              "      <td>50.0</td>\n",
              "      <td>SUCCESS</td>\n",
              "      <td>withdrawal</td>\n",
              "    </tr>\n",
              "    <tr>\n",
              "      <th>180750</th>\n",
              "      <td>5774</td>\n",
              "      <td>2019-12-09T10:05:27.783+0000</td>\n",
              "      <td>1</td>\n",
              "      <td>50.0</td>\n",
              "      <td>SUCCESS</td>\n",
              "      <td>deposit</td>\n",
              "    </tr>\n",
              "  </tbody>\n",
              "</table>\n",
              "<p>180751 rows × 6 columns</p>\n",
              "</div>\n",
              "      <button class=\"colab-df-convert\" onclick=\"convertToInteractive('df-0a9d1314-0e35-4b4e-9185-e3139b88281f')\"\n",
              "              title=\"Convert this dataframe to an interactive table.\"\n",
              "              style=\"display:none;\">\n",
              "        \n",
              "  <svg xmlns=\"http://www.w3.org/2000/svg\" height=\"24px\"viewBox=\"0 0 24 24\"\n",
              "       width=\"24px\">\n",
              "    <path d=\"M0 0h24v24H0V0z\" fill=\"none\"/>\n",
              "    <path d=\"M18.56 5.44l.94 2.06.94-2.06 2.06-.94-2.06-.94-.94-2.06-.94 2.06-2.06.94zm-11 1L8.5 8.5l.94-2.06 2.06-.94-2.06-.94L8.5 2.5l-.94 2.06-2.06.94zm10 10l.94 2.06.94-2.06 2.06-.94-2.06-.94-.94-2.06-.94 2.06-2.06.94z\"/><path d=\"M17.41 7.96l-1.37-1.37c-.4-.4-.92-.59-1.43-.59-.52 0-1.04.2-1.43.59L10.3 9.45l-7.72 7.72c-.78.78-.78 2.05 0 2.83L4 21.41c.39.39.9.59 1.41.59.51 0 1.02-.2 1.41-.59l7.78-7.78 2.81-2.81c.8-.78.8-2.07 0-2.86zM5.41 20L4 18.59l7.72-7.72 1.47 1.35L5.41 20z\"/>\n",
              "  </svg>\n",
              "      </button>\n",
              "      \n",
              "  <style>\n",
              "    .colab-df-container {\n",
              "      display:flex;\n",
              "      flex-wrap:wrap;\n",
              "      gap: 12px;\n",
              "    }\n",
              "\n",
              "    .colab-df-convert {\n",
              "      background-color: #E8F0FE;\n",
              "      border: none;\n",
              "      border-radius: 50%;\n",
              "      cursor: pointer;\n",
              "      display: none;\n",
              "      fill: #1967D2;\n",
              "      height: 32px;\n",
              "      padding: 0 0 0 0;\n",
              "      width: 32px;\n",
              "    }\n",
              "\n",
              "    .colab-df-convert:hover {\n",
              "      background-color: #E2EBFA;\n",
              "      box-shadow: 0px 1px 2px rgba(60, 64, 67, 0.3), 0px 1px 3px 1px rgba(60, 64, 67, 0.15);\n",
              "      fill: #174EA6;\n",
              "    }\n",
              "\n",
              "    [theme=dark] .colab-df-convert {\n",
              "      background-color: #3B4455;\n",
              "      fill: #D2E3FC;\n",
              "    }\n",
              "\n",
              "    [theme=dark] .colab-df-convert:hover {\n",
              "      background-color: #434B5C;\n",
              "      box-shadow: 0px 1px 3px 1px rgba(0, 0, 0, 0.15);\n",
              "      filter: drop-shadow(0px 1px 2px rgba(0, 0, 0, 0.3));\n",
              "      fill: #FFFFFF;\n",
              "    }\n",
              "  </style>\n",
              "\n",
              "      <script>\n",
              "        const buttonEl =\n",
              "          document.querySelector('#df-0a9d1314-0e35-4b4e-9185-e3139b88281f button.colab-df-convert');\n",
              "        buttonEl.style.display =\n",
              "          google.colab.kernel.accessAllowed ? 'block' : 'none';\n",
              "\n",
              "        async function convertToInteractive(key) {\n",
              "          const element = document.querySelector('#df-0a9d1314-0e35-4b4e-9185-e3139b88281f');\n",
              "          const dataTable =\n",
              "            await google.colab.kernel.invokeFunction('convertToInteractive',\n",
              "                                                     [key], {});\n",
              "          if (!dataTable) return;\n",
              "\n",
              "          const docLinkHtml = 'Like what you see? Visit the ' +\n",
              "            '<a target=\"_blank\" href=https://colab.research.google.com/notebooks/data_table.ipynb>data table notebook</a>'\n",
              "            + ' to learn more about interactive tables.';\n",
              "          element.innerHTML = '';\n",
              "          dataTable['output_type'] = 'display_data';\n",
              "          await google.colab.output.renderOutput(dataTable, element);\n",
              "          const docLink = document.createElement('div');\n",
              "          docLink.innerHTML = docLinkHtml;\n",
              "          element.appendChild(docLink);\n",
              "        }\n",
              "      </script>\n",
              "    </div>\n",
              "  </div>\n",
              "  "
            ]
          },
          "metadata": {},
          "execution_count": 8
        }
      ],
      "source": [
        "Customers_df= Customers_df.replace(to_replace= True , value=1)\n",
        "Customers_df = Customers_df.replace(to_replace= False , value=0)\n",
        "Customers_df"
      ]
    },
    {
      "cell_type": "markdown",
      "metadata": {
        "id": "56MIgcUJiBtW"
      },
      "source": [
        "It is clear that the column 'settledAt' needs to be converted into DateTime."
      ]
    },
    {
      "cell_type": "markdown",
      "metadata": {
        "id": "TLlKuYb7k2ZK"
      },
      "source": [
        "Firstly, we will perform some NLP to the column 'settledAt' and then convert the column's type to DateTime. Moreover, the dataframe will be sorted from the latest settlement to the most recent one. Lastly, we will create two new columns named 'Month' and 'Year'."
      ]
    },
    {
      "cell_type": "markdown",
      "metadata": {
        "id": "UTyIKFm-lx6Q"
      },
      "source": [
        "Illustration of the NLP :"
      ]
    },
    {
      "cell_type": "code",
      "execution_count": null,
      "metadata": {
        "colab": {
          "base_uri": "https://localhost:8080/"
        },
        "id": "qiSE6zsPi5YY",
        "outputId": "43fa9745-7c4d-4106-80b0-c0d322c56a24"
      },
      "outputs": [
        {
          "output_type": "execute_result",
          "data": {
            "text/plain": [
              "['2022-03-10T14:14:34.583+0000',\n",
              " '2022-03-10T11:30:45.292+0000',\n",
              " '2022-03-10T09:55:57.469+0000',\n",
              " '2022-03-10T11:06:32.510+0000',\n",
              " '2022-03-10T11:32:38.318+0000']"
            ]
          },
          "metadata": {},
          "execution_count": 9
        }
      ],
      "source": [
        "settledAt[:5]"
      ]
    },
    {
      "cell_type": "code",
      "execution_count": null,
      "metadata": {
        "colab": {
          "base_uri": "https://localhost:8080/"
        },
        "id": "YdaEbVdbjQpb",
        "outputId": "2c1c677f-3d41-480a-a4ca-4049331b7686"
      },
      "outputs": [
        {
          "output_type": "stream",
          "name": "stdout",
          "text": [
            "2022-03-10 14:14:34.583+0000\n",
            "2022-03-10 11:30:45.292+0000\n",
            "2022-03-10 09:55:57.469+0000\n",
            "2022-03-10 11:06:32.510+0000\n",
            "2022-03-10 11:32:38.318+0000\n"
          ]
        }
      ],
      "source": [
        "for entry in settledAt[:5]:\n",
        "  datetime = entry[:10] + ' ' + entry[11:]\n",
        "  print(datetime)"
      ]
    },
    {
      "cell_type": "code",
      "execution_count": null,
      "metadata": {
        "colab": {
          "base_uri": "https://localhost:8080/",
          "height": 206
        },
        "id": "pgf3_qL9ALv6",
        "outputId": "7bad6c89-b387-4608-f05a-916b9dbd9bfb"
      },
      "outputs": [
        {
          "output_type": "execute_result",
          "data": {
            "text/plain": [
              "       id                     settledAt  ftd  amount   status     type\n",
              "0  128867  2022-03-10 14:14:34.583+0000    1    40.0  SUCCESS  deposit\n",
              "1  128853  2022-03-10 11:30:45.292+0000    0    50.0  SUCCESS  deposit\n",
              "2  128853  2022-03-10 09:55:57.469+0000    1    50.0  SUCCESS  deposit\n",
              "3  128850  2022-03-10 11:06:32.510+0000    1   159.0  SUCCESS  deposit\n",
              "4  128850  2022-03-10 11:32:38.318+0000    0   180.0     FAIL  deposit"
            ],
            "text/html": [
              "\n",
              "  <div id=\"df-6f14a536-9154-41da-873d-d5c3e04d1ca7\">\n",
              "    <div class=\"colab-df-container\">\n",
              "      <div>\n",
              "<style scoped>\n",
              "    .dataframe tbody tr th:only-of-type {\n",
              "        vertical-align: middle;\n",
              "    }\n",
              "\n",
              "    .dataframe tbody tr th {\n",
              "        vertical-align: top;\n",
              "    }\n",
              "\n",
              "    .dataframe thead th {\n",
              "        text-align: right;\n",
              "    }\n",
              "</style>\n",
              "<table border=\"1\" class=\"dataframe\">\n",
              "  <thead>\n",
              "    <tr style=\"text-align: right;\">\n",
              "      <th></th>\n",
              "      <th>id</th>\n",
              "      <th>settledAt</th>\n",
              "      <th>ftd</th>\n",
              "      <th>amount</th>\n",
              "      <th>status</th>\n",
              "      <th>type</th>\n",
              "    </tr>\n",
              "  </thead>\n",
              "  <tbody>\n",
              "    <tr>\n",
              "      <th>0</th>\n",
              "      <td>128867</td>\n",
              "      <td>2022-03-10 14:14:34.583+0000</td>\n",
              "      <td>1</td>\n",
              "      <td>40.0</td>\n",
              "      <td>SUCCESS</td>\n",
              "      <td>deposit</td>\n",
              "    </tr>\n",
              "    <tr>\n",
              "      <th>1</th>\n",
              "      <td>128853</td>\n",
              "      <td>2022-03-10 11:30:45.292+0000</td>\n",
              "      <td>0</td>\n",
              "      <td>50.0</td>\n",
              "      <td>SUCCESS</td>\n",
              "      <td>deposit</td>\n",
              "    </tr>\n",
              "    <tr>\n",
              "      <th>2</th>\n",
              "      <td>128853</td>\n",
              "      <td>2022-03-10 09:55:57.469+0000</td>\n",
              "      <td>1</td>\n",
              "      <td>50.0</td>\n",
              "      <td>SUCCESS</td>\n",
              "      <td>deposit</td>\n",
              "    </tr>\n",
              "    <tr>\n",
              "      <th>3</th>\n",
              "      <td>128850</td>\n",
              "      <td>2022-03-10 11:06:32.510+0000</td>\n",
              "      <td>1</td>\n",
              "      <td>159.0</td>\n",
              "      <td>SUCCESS</td>\n",
              "      <td>deposit</td>\n",
              "    </tr>\n",
              "    <tr>\n",
              "      <th>4</th>\n",
              "      <td>128850</td>\n",
              "      <td>2022-03-10 11:32:38.318+0000</td>\n",
              "      <td>0</td>\n",
              "      <td>180.0</td>\n",
              "      <td>FAIL</td>\n",
              "      <td>deposit</td>\n",
              "    </tr>\n",
              "  </tbody>\n",
              "</table>\n",
              "</div>\n",
              "      <button class=\"colab-df-convert\" onclick=\"convertToInteractive('df-6f14a536-9154-41da-873d-d5c3e04d1ca7')\"\n",
              "              title=\"Convert this dataframe to an interactive table.\"\n",
              "              style=\"display:none;\">\n",
              "        \n",
              "  <svg xmlns=\"http://www.w3.org/2000/svg\" height=\"24px\"viewBox=\"0 0 24 24\"\n",
              "       width=\"24px\">\n",
              "    <path d=\"M0 0h24v24H0V0z\" fill=\"none\"/>\n",
              "    <path d=\"M18.56 5.44l.94 2.06.94-2.06 2.06-.94-2.06-.94-.94-2.06-.94 2.06-2.06.94zm-11 1L8.5 8.5l.94-2.06 2.06-.94-2.06-.94L8.5 2.5l-.94 2.06-2.06.94zm10 10l.94 2.06.94-2.06 2.06-.94-2.06-.94-.94-2.06-.94 2.06-2.06.94z\"/><path d=\"M17.41 7.96l-1.37-1.37c-.4-.4-.92-.59-1.43-.59-.52 0-1.04.2-1.43.59L10.3 9.45l-7.72 7.72c-.78.78-.78 2.05 0 2.83L4 21.41c.39.39.9.59 1.41.59.51 0 1.02-.2 1.41-.59l7.78-7.78 2.81-2.81c.8-.78.8-2.07 0-2.86zM5.41 20L4 18.59l7.72-7.72 1.47 1.35L5.41 20z\"/>\n",
              "  </svg>\n",
              "      </button>\n",
              "      \n",
              "  <style>\n",
              "    .colab-df-container {\n",
              "      display:flex;\n",
              "      flex-wrap:wrap;\n",
              "      gap: 12px;\n",
              "    }\n",
              "\n",
              "    .colab-df-convert {\n",
              "      background-color: #E8F0FE;\n",
              "      border: none;\n",
              "      border-radius: 50%;\n",
              "      cursor: pointer;\n",
              "      display: none;\n",
              "      fill: #1967D2;\n",
              "      height: 32px;\n",
              "      padding: 0 0 0 0;\n",
              "      width: 32px;\n",
              "    }\n",
              "\n",
              "    .colab-df-convert:hover {\n",
              "      background-color: #E2EBFA;\n",
              "      box-shadow: 0px 1px 2px rgba(60, 64, 67, 0.3), 0px 1px 3px 1px rgba(60, 64, 67, 0.15);\n",
              "      fill: #174EA6;\n",
              "    }\n",
              "\n",
              "    [theme=dark] .colab-df-convert {\n",
              "      background-color: #3B4455;\n",
              "      fill: #D2E3FC;\n",
              "    }\n",
              "\n",
              "    [theme=dark] .colab-df-convert:hover {\n",
              "      background-color: #434B5C;\n",
              "      box-shadow: 0px 1px 3px 1px rgba(0, 0, 0, 0.15);\n",
              "      filter: drop-shadow(0px 1px 2px rgba(0, 0, 0, 0.3));\n",
              "      fill: #FFFFFF;\n",
              "    }\n",
              "  </style>\n",
              "\n",
              "      <script>\n",
              "        const buttonEl =\n",
              "          document.querySelector('#df-6f14a536-9154-41da-873d-d5c3e04d1ca7 button.colab-df-convert');\n",
              "        buttonEl.style.display =\n",
              "          google.colab.kernel.accessAllowed ? 'block' : 'none';\n",
              "\n",
              "        async function convertToInteractive(key) {\n",
              "          const element = document.querySelector('#df-6f14a536-9154-41da-873d-d5c3e04d1ca7');\n",
              "          const dataTable =\n",
              "            await google.colab.kernel.invokeFunction('convertToInteractive',\n",
              "                                                     [key], {});\n",
              "          if (!dataTable) return;\n",
              "\n",
              "          const docLinkHtml = 'Like what you see? Visit the ' +\n",
              "            '<a target=\"_blank\" href=https://colab.research.google.com/notebooks/data_table.ipynb>data table notebook</a>'\n",
              "            + ' to learn more about interactive tables.';\n",
              "          element.innerHTML = '';\n",
              "          dataTable['output_type'] = 'display_data';\n",
              "          await google.colab.output.renderOutput(dataTable, element);\n",
              "          const docLink = document.createElement('div');\n",
              "          docLink.innerHTML = docLinkHtml;\n",
              "          element.appendChild(docLink);\n",
              "        }\n",
              "      </script>\n",
              "    </div>\n",
              "  </div>\n",
              "  "
            ]
          },
          "metadata": {},
          "execution_count": 11
        }
      ],
      "source": [
        "Datetime = []\n",
        "\n",
        "for entry in settledAt:\n",
        "\n",
        "  datetime = entry[:10] + ' ' + entry[11:]\n",
        "  Datetime.append(datetime)\n",
        "\n",
        "\n",
        "Customers_df['settledAt'] = Datetime\n",
        "Customers_df.head()"
      ]
    },
    {
      "cell_type": "markdown",
      "metadata": {
        "id": "CCU3YPgsEx0s"
      },
      "source": [
        "Checking whether data of the 'settledAt' column have the wrong format:"
      ]
    },
    {
      "cell_type": "code",
      "execution_count": null,
      "metadata": {
        "colab": {
          "base_uri": "https://localhost:8080/"
        },
        "id": "FQSJTlkOJpN2",
        "outputId": "062a265e-c30c-460a-8afc-8288166e77b6"
      },
      "outputs": [
        {
          "output_type": "stream",
          "name": "stdout",
          "text": [
            "The rows with the wrong datetime format have index: []\n"
          ]
        }
      ],
      "source": [
        "# We will check if DateTime entries in column 'settledAt' follow a certain format, and if we will get the index of those false entries\n",
        "from dateutil import parser\n",
        "Index = []\n",
        "\n",
        "for DateTime in Datetime:\n",
        "\n",
        "    try:\n",
        "\n",
        "     if bool(parser.parse(DateTime)) == True:\n",
        "        continue\n",
        "\n",
        "\n",
        "    except ValueError:\n",
        "       index = Datetime.index(DateTime)\n",
        "       Index.append(index)\n",
        "\n",
        "print(f'The rows with the wrong datetime format have index: {Index}')"
      ]
    },
    {
      "cell_type": "markdown",
      "metadata": {
        "id": "4FoRHEvsNFDU"
      },
      "source": [
        "It is clear that all data entries in the 'settledAt' column have the correct format"
      ]
    },
    {
      "cell_type": "code",
      "execution_count": null,
      "metadata": {
        "id": "RkV114X1h-Kp"
      },
      "outputs": [],
      "source": [
        "Customers_df['settledAt'] =  pd.to_datetime( Customers_df['settledAt'] , format = '%Y-%m-%d %H:%M:%S.%f' ) # Converting data type to datetime"
      ]
    },
    {
      "cell_type": "code",
      "execution_count": null,
      "metadata": {
        "colab": {
          "base_uri": "https://localhost:8080/",
          "height": 424
        },
        "id": "L0eI6cZCBjDI",
        "outputId": "bdd00ca3-d32d-4bc3-b0d4-aeec2a4da28d"
      },
      "outputs": [
        {
          "output_type": "execute_result",
          "data": {
            "text/plain": [
              "            id                        settledAt  ftd  amount   status  \\\n",
              "0         5774 2019-12-09 10:05:27.783000+00:00    1    50.0  SUCCESS   \n",
              "1         5774 2019-12-15 20:09:26.286000+00:00    0    50.0    ERROR   \n",
              "2         5774 2019-12-16 06:49:49.786000+00:00    0    50.0  SUCCESS   \n",
              "3         5825 2020-03-20 13:38:59.789000+00:00    0    25.0     FAIL   \n",
              "4         5825 2020-03-23 08:26:33.212000+00:00    0    20.0   CANCEL   \n",
              "...        ...                              ...  ...     ...      ...   \n",
              "180746  128853 2022-03-10 09:55:57.469000+00:00    1    50.0  SUCCESS   \n",
              "180747  128853 2022-03-10 11:30:45.292000+00:00    0    50.0  SUCCESS   \n",
              "180748  128853 2022-03-10 11:30:45.292000+00:00    0    50.0  SUCCESS   \n",
              "180749  128867 2022-03-10 14:14:34.583000+00:00    1    40.0  SUCCESS   \n",
              "180750  128867 2022-03-10 14:14:34.583000+00:00    1    40.0  SUCCESS   \n",
              "\n",
              "              type  \n",
              "0          deposit  \n",
              "1       withdrawal  \n",
              "2       withdrawal  \n",
              "3          deposit  \n",
              "4          deposit  \n",
              "...            ...  \n",
              "180746     deposit  \n",
              "180747     deposit  \n",
              "180748     deposit  \n",
              "180749     deposit  \n",
              "180750     deposit  \n",
              "\n",
              "[180751 rows x 6 columns]"
            ],
            "text/html": [
              "\n",
              "  <div id=\"df-f060fc20-7718-485c-b213-9fa0aa6a8a5c\">\n",
              "    <div class=\"colab-df-container\">\n",
              "      <div>\n",
              "<style scoped>\n",
              "    .dataframe tbody tr th:only-of-type {\n",
              "        vertical-align: middle;\n",
              "    }\n",
              "\n",
              "    .dataframe tbody tr th {\n",
              "        vertical-align: top;\n",
              "    }\n",
              "\n",
              "    .dataframe thead th {\n",
              "        text-align: right;\n",
              "    }\n",
              "</style>\n",
              "<table border=\"1\" class=\"dataframe\">\n",
              "  <thead>\n",
              "    <tr style=\"text-align: right;\">\n",
              "      <th></th>\n",
              "      <th>id</th>\n",
              "      <th>settledAt</th>\n",
              "      <th>ftd</th>\n",
              "      <th>amount</th>\n",
              "      <th>status</th>\n",
              "      <th>type</th>\n",
              "    </tr>\n",
              "  </thead>\n",
              "  <tbody>\n",
              "    <tr>\n",
              "      <th>0</th>\n",
              "      <td>5774</td>\n",
              "      <td>2019-12-09 10:05:27.783000+00:00</td>\n",
              "      <td>1</td>\n",
              "      <td>50.0</td>\n",
              "      <td>SUCCESS</td>\n",
              "      <td>deposit</td>\n",
              "    </tr>\n",
              "    <tr>\n",
              "      <th>1</th>\n",
              "      <td>5774</td>\n",
              "      <td>2019-12-15 20:09:26.286000+00:00</td>\n",
              "      <td>0</td>\n",
              "      <td>50.0</td>\n",
              "      <td>ERROR</td>\n",
              "      <td>withdrawal</td>\n",
              "    </tr>\n",
              "    <tr>\n",
              "      <th>2</th>\n",
              "      <td>5774</td>\n",
              "      <td>2019-12-16 06:49:49.786000+00:00</td>\n",
              "      <td>0</td>\n",
              "      <td>50.0</td>\n",
              "      <td>SUCCESS</td>\n",
              "      <td>withdrawal</td>\n",
              "    </tr>\n",
              "    <tr>\n",
              "      <th>3</th>\n",
              "      <td>5825</td>\n",
              "      <td>2020-03-20 13:38:59.789000+00:00</td>\n",
              "      <td>0</td>\n",
              "      <td>25.0</td>\n",
              "      <td>FAIL</td>\n",
              "      <td>deposit</td>\n",
              "    </tr>\n",
              "    <tr>\n",
              "      <th>4</th>\n",
              "      <td>5825</td>\n",
              "      <td>2020-03-23 08:26:33.212000+00:00</td>\n",
              "      <td>0</td>\n",
              "      <td>20.0</td>\n",
              "      <td>CANCEL</td>\n",
              "      <td>deposit</td>\n",
              "    </tr>\n",
              "    <tr>\n",
              "      <th>...</th>\n",
              "      <td>...</td>\n",
              "      <td>...</td>\n",
              "      <td>...</td>\n",
              "      <td>...</td>\n",
              "      <td>...</td>\n",
              "      <td>...</td>\n",
              "    </tr>\n",
              "    <tr>\n",
              "      <th>180746</th>\n",
              "      <td>128853</td>\n",
              "      <td>2022-03-10 09:55:57.469000+00:00</td>\n",
              "      <td>1</td>\n",
              "      <td>50.0</td>\n",
              "      <td>SUCCESS</td>\n",
              "      <td>deposit</td>\n",
              "    </tr>\n",
              "    <tr>\n",
              "      <th>180747</th>\n",
              "      <td>128853</td>\n",
              "      <td>2022-03-10 11:30:45.292000+00:00</td>\n",
              "      <td>0</td>\n",
              "      <td>50.0</td>\n",
              "      <td>SUCCESS</td>\n",
              "      <td>deposit</td>\n",
              "    </tr>\n",
              "    <tr>\n",
              "      <th>180748</th>\n",
              "      <td>128853</td>\n",
              "      <td>2022-03-10 11:30:45.292000+00:00</td>\n",
              "      <td>0</td>\n",
              "      <td>50.0</td>\n",
              "      <td>SUCCESS</td>\n",
              "      <td>deposit</td>\n",
              "    </tr>\n",
              "    <tr>\n",
              "      <th>180749</th>\n",
              "      <td>128867</td>\n",
              "      <td>2022-03-10 14:14:34.583000+00:00</td>\n",
              "      <td>1</td>\n",
              "      <td>40.0</td>\n",
              "      <td>SUCCESS</td>\n",
              "      <td>deposit</td>\n",
              "    </tr>\n",
              "    <tr>\n",
              "      <th>180750</th>\n",
              "      <td>128867</td>\n",
              "      <td>2022-03-10 14:14:34.583000+00:00</td>\n",
              "      <td>1</td>\n",
              "      <td>40.0</td>\n",
              "      <td>SUCCESS</td>\n",
              "      <td>deposit</td>\n",
              "    </tr>\n",
              "  </tbody>\n",
              "</table>\n",
              "<p>180751 rows × 6 columns</p>\n",
              "</div>\n",
              "      <button class=\"colab-df-convert\" onclick=\"convertToInteractive('df-f060fc20-7718-485c-b213-9fa0aa6a8a5c')\"\n",
              "              title=\"Convert this dataframe to an interactive table.\"\n",
              "              style=\"display:none;\">\n",
              "        \n",
              "  <svg xmlns=\"http://www.w3.org/2000/svg\" height=\"24px\"viewBox=\"0 0 24 24\"\n",
              "       width=\"24px\">\n",
              "    <path d=\"M0 0h24v24H0V0z\" fill=\"none\"/>\n",
              "    <path d=\"M18.56 5.44l.94 2.06.94-2.06 2.06-.94-2.06-.94-.94-2.06-.94 2.06-2.06.94zm-11 1L8.5 8.5l.94-2.06 2.06-.94-2.06-.94L8.5 2.5l-.94 2.06-2.06.94zm10 10l.94 2.06.94-2.06 2.06-.94-2.06-.94-.94-2.06-.94 2.06-2.06.94z\"/><path d=\"M17.41 7.96l-1.37-1.37c-.4-.4-.92-.59-1.43-.59-.52 0-1.04.2-1.43.59L10.3 9.45l-7.72 7.72c-.78.78-.78 2.05 0 2.83L4 21.41c.39.39.9.59 1.41.59.51 0 1.02-.2 1.41-.59l7.78-7.78 2.81-2.81c.8-.78.8-2.07 0-2.86zM5.41 20L4 18.59l7.72-7.72 1.47 1.35L5.41 20z\"/>\n",
              "  </svg>\n",
              "      </button>\n",
              "      \n",
              "  <style>\n",
              "    .colab-df-container {\n",
              "      display:flex;\n",
              "      flex-wrap:wrap;\n",
              "      gap: 12px;\n",
              "    }\n",
              "\n",
              "    .colab-df-convert {\n",
              "      background-color: #E8F0FE;\n",
              "      border: none;\n",
              "      border-radius: 50%;\n",
              "      cursor: pointer;\n",
              "      display: none;\n",
              "      fill: #1967D2;\n",
              "      height: 32px;\n",
              "      padding: 0 0 0 0;\n",
              "      width: 32px;\n",
              "    }\n",
              "\n",
              "    .colab-df-convert:hover {\n",
              "      background-color: #E2EBFA;\n",
              "      box-shadow: 0px 1px 2px rgba(60, 64, 67, 0.3), 0px 1px 3px 1px rgba(60, 64, 67, 0.15);\n",
              "      fill: #174EA6;\n",
              "    }\n",
              "\n",
              "    [theme=dark] .colab-df-convert {\n",
              "      background-color: #3B4455;\n",
              "      fill: #D2E3FC;\n",
              "    }\n",
              "\n",
              "    [theme=dark] .colab-df-convert:hover {\n",
              "      background-color: #434B5C;\n",
              "      box-shadow: 0px 1px 3px 1px rgba(0, 0, 0, 0.15);\n",
              "      filter: drop-shadow(0px 1px 2px rgba(0, 0, 0, 0.3));\n",
              "      fill: #FFFFFF;\n",
              "    }\n",
              "  </style>\n",
              "\n",
              "      <script>\n",
              "        const buttonEl =\n",
              "          document.querySelector('#df-f060fc20-7718-485c-b213-9fa0aa6a8a5c button.colab-df-convert');\n",
              "        buttonEl.style.display =\n",
              "          google.colab.kernel.accessAllowed ? 'block' : 'none';\n",
              "\n",
              "        async function convertToInteractive(key) {\n",
              "          const element = document.querySelector('#df-f060fc20-7718-485c-b213-9fa0aa6a8a5c');\n",
              "          const dataTable =\n",
              "            await google.colab.kernel.invokeFunction('convertToInteractive',\n",
              "                                                     [key], {});\n",
              "          if (!dataTable) return;\n",
              "\n",
              "          const docLinkHtml = 'Like what you see? Visit the ' +\n",
              "            '<a target=\"_blank\" href=https://colab.research.google.com/notebooks/data_table.ipynb>data table notebook</a>'\n",
              "            + ' to learn more about interactive tables.';\n",
              "          element.innerHTML = '';\n",
              "          dataTable['output_type'] = 'display_data';\n",
              "          await google.colab.output.renderOutput(dataTable, element);\n",
              "          const docLink = document.createElement('div');\n",
              "          docLink.innerHTML = docLinkHtml;\n",
              "          element.appendChild(docLink);\n",
              "        }\n",
              "      </script>\n",
              "    </div>\n",
              "  </div>\n",
              "  "
            ]
          },
          "metadata": {},
          "execution_count": 14
        }
      ],
      "source": [
        "Customers_df = Customers_df.sort_values(by=['id' , 'settledAt'], ignore_index=True)\n",
        "Customers_df"
      ]
    },
    {
      "cell_type": "markdown",
      "metadata": {
        "id": "eYsKVGPLGXGN"
      },
      "source": [
        "We will go through each customer and delete any transactions that occurred before the first-time monetary transaction ( ftd = 1 ). If the dataframe has no indication about a customer's first-time monetary transaction, we will not delete any transaction data of that customer."
      ]
    },
    {
      "cell_type": "code",
      "execution_count": null,
      "metadata": {
        "colab": {
          "base_uri": "https://localhost:8080/",
          "height": 455
        },
        "id": "HcfN4ZhEGWlq",
        "outputId": "92760082-6dca-420f-d2d8-9d33417a9e51"
      },
      "outputs": [
        {
          "output_type": "execute_result",
          "data": {
            "text/plain": [
              "        ftd\n",
              "id         \n",
              "5774      1\n",
              "74099     1\n",
              "74083     1\n",
              "74056     1\n",
              "74053     1\n",
              "...     ...\n",
              "127146    2\n",
              "103756    2\n",
              "128853    2\n",
              "128516    2\n",
              "128867    2\n",
              "\n",
              "[6661 rows x 1 columns]"
            ],
            "text/html": [
              "\n",
              "  <div id=\"df-f718f7e8-d845-45ee-ab8f-b9c3fd53fb17\">\n",
              "    <div class=\"colab-df-container\">\n",
              "      <div>\n",
              "<style scoped>\n",
              "    .dataframe tbody tr th:only-of-type {\n",
              "        vertical-align: middle;\n",
              "    }\n",
              "\n",
              "    .dataframe tbody tr th {\n",
              "        vertical-align: top;\n",
              "    }\n",
              "\n",
              "    .dataframe thead th {\n",
              "        text-align: right;\n",
              "    }\n",
              "</style>\n",
              "<table border=\"1\" class=\"dataframe\">\n",
              "  <thead>\n",
              "    <tr style=\"text-align: right;\">\n",
              "      <th></th>\n",
              "      <th>ftd</th>\n",
              "    </tr>\n",
              "    <tr>\n",
              "      <th>id</th>\n",
              "      <th></th>\n",
              "    </tr>\n",
              "  </thead>\n",
              "  <tbody>\n",
              "    <tr>\n",
              "      <th>5774</th>\n",
              "      <td>1</td>\n",
              "    </tr>\n",
              "    <tr>\n",
              "      <th>74099</th>\n",
              "      <td>1</td>\n",
              "    </tr>\n",
              "    <tr>\n",
              "      <th>74083</th>\n",
              "      <td>1</td>\n",
              "    </tr>\n",
              "    <tr>\n",
              "      <th>74056</th>\n",
              "      <td>1</td>\n",
              "    </tr>\n",
              "    <tr>\n",
              "      <th>74053</th>\n",
              "      <td>1</td>\n",
              "    </tr>\n",
              "    <tr>\n",
              "      <th>...</th>\n",
              "      <td>...</td>\n",
              "    </tr>\n",
              "    <tr>\n",
              "      <th>127146</th>\n",
              "      <td>2</td>\n",
              "    </tr>\n",
              "    <tr>\n",
              "      <th>103756</th>\n",
              "      <td>2</td>\n",
              "    </tr>\n",
              "    <tr>\n",
              "      <th>128853</th>\n",
              "      <td>2</td>\n",
              "    </tr>\n",
              "    <tr>\n",
              "      <th>128516</th>\n",
              "      <td>2</td>\n",
              "    </tr>\n",
              "    <tr>\n",
              "      <th>128867</th>\n",
              "      <td>2</td>\n",
              "    </tr>\n",
              "  </tbody>\n",
              "</table>\n",
              "<p>6661 rows × 1 columns</p>\n",
              "</div>\n",
              "      <button class=\"colab-df-convert\" onclick=\"convertToInteractive('df-f718f7e8-d845-45ee-ab8f-b9c3fd53fb17')\"\n",
              "              title=\"Convert this dataframe to an interactive table.\"\n",
              "              style=\"display:none;\">\n",
              "        \n",
              "  <svg xmlns=\"http://www.w3.org/2000/svg\" height=\"24px\"viewBox=\"0 0 24 24\"\n",
              "       width=\"24px\">\n",
              "    <path d=\"M0 0h24v24H0V0z\" fill=\"none\"/>\n",
              "    <path d=\"M18.56 5.44l.94 2.06.94-2.06 2.06-.94-2.06-.94-.94-2.06-.94 2.06-2.06.94zm-11 1L8.5 8.5l.94-2.06 2.06-.94-2.06-.94L8.5 2.5l-.94 2.06-2.06.94zm10 10l.94 2.06.94-2.06 2.06-.94-2.06-.94-.94-2.06-.94 2.06-2.06.94z\"/><path d=\"M17.41 7.96l-1.37-1.37c-.4-.4-.92-.59-1.43-.59-.52 0-1.04.2-1.43.59L10.3 9.45l-7.72 7.72c-.78.78-.78 2.05 0 2.83L4 21.41c.39.39.9.59 1.41.59.51 0 1.02-.2 1.41-.59l7.78-7.78 2.81-2.81c.8-.78.8-2.07 0-2.86zM5.41 20L4 18.59l7.72-7.72 1.47 1.35L5.41 20z\"/>\n",
              "  </svg>\n",
              "      </button>\n",
              "      \n",
              "  <style>\n",
              "    .colab-df-container {\n",
              "      display:flex;\n",
              "      flex-wrap:wrap;\n",
              "      gap: 12px;\n",
              "    }\n",
              "\n",
              "    .colab-df-convert {\n",
              "      background-color: #E8F0FE;\n",
              "      border: none;\n",
              "      border-radius: 50%;\n",
              "      cursor: pointer;\n",
              "      display: none;\n",
              "      fill: #1967D2;\n",
              "      height: 32px;\n",
              "      padding: 0 0 0 0;\n",
              "      width: 32px;\n",
              "    }\n",
              "\n",
              "    .colab-df-convert:hover {\n",
              "      background-color: #E2EBFA;\n",
              "      box-shadow: 0px 1px 2px rgba(60, 64, 67, 0.3), 0px 1px 3px 1px rgba(60, 64, 67, 0.15);\n",
              "      fill: #174EA6;\n",
              "    }\n",
              "\n",
              "    [theme=dark] .colab-df-convert {\n",
              "      background-color: #3B4455;\n",
              "      fill: #D2E3FC;\n",
              "    }\n",
              "\n",
              "    [theme=dark] .colab-df-convert:hover {\n",
              "      background-color: #434B5C;\n",
              "      box-shadow: 0px 1px 3px 1px rgba(0, 0, 0, 0.15);\n",
              "      filter: drop-shadow(0px 1px 2px rgba(0, 0, 0, 0.3));\n",
              "      fill: #FFFFFF;\n",
              "    }\n",
              "  </style>\n",
              "\n",
              "      <script>\n",
              "        const buttonEl =\n",
              "          document.querySelector('#df-f718f7e8-d845-45ee-ab8f-b9c3fd53fb17 button.colab-df-convert');\n",
              "        buttonEl.style.display =\n",
              "          google.colab.kernel.accessAllowed ? 'block' : 'none';\n",
              "\n",
              "        async function convertToInteractive(key) {\n",
              "          const element = document.querySelector('#df-f718f7e8-d845-45ee-ab8f-b9c3fd53fb17');\n",
              "          const dataTable =\n",
              "            await google.colab.kernel.invokeFunction('convertToInteractive',\n",
              "                                                     [key], {});\n",
              "          if (!dataTable) return;\n",
              "\n",
              "          const docLinkHtml = 'Like what you see? Visit the ' +\n",
              "            '<a target=\"_blank\" href=https://colab.research.google.com/notebooks/data_table.ipynb>data table notebook</a>'\n",
              "            + ' to learn more about interactive tables.';\n",
              "          element.innerHTML = '';\n",
              "          dataTable['output_type'] = 'display_data';\n",
              "          await google.colab.output.renderOutput(dataTable, element);\n",
              "          const docLink = document.createElement('div');\n",
              "          docLink.innerHTML = docLinkHtml;\n",
              "          element.appendChild(docLink);\n",
              "        }\n",
              "      </script>\n",
              "    </div>\n",
              "  </div>\n",
              "  "
            ]
          },
          "metadata": {},
          "execution_count": 15
        }
      ],
      "source": [
        "# Firstly, we will check which customers have an indication of their ftd\n",
        "\n",
        "FTD = pd.DataFrame.from_dict(dict(Customers_df[{'id' , 'ftd'}].groupby('id').sum())).sort_values(by = 'ftd')\n",
        "FTD"
      ]
    },
    {
      "cell_type": "markdown",
      "metadata": {
        "id": "D-7ANbuiNW6_"
      },
      "source": [
        "As it can be seen, the dataframe contains more than one indication of a first-time monetary transaction of some consumers, thus we have to check if the rows are duplicated."
      ]
    },
    {
      "cell_type": "code",
      "execution_count": null,
      "metadata": {
        "colab": {
          "base_uri": "https://localhost:8080/",
          "height": 442
        },
        "id": "ZdYI0RamOKTP",
        "outputId": "a07dcb78-a26a-453c-cfa3-b3ad62dfc4a4"
      },
      "outputs": [
        {
          "output_type": "stream",
          "name": "stdout",
          "text": [
            "Duplicate Rows :\n"
          ]
        },
        {
          "output_type": "execute_result",
          "data": {
            "text/plain": [
              "            id                        settledAt  ftd  amount   status  \\\n",
              "166920  103756 2021-10-12 10:53:18.339000+00:00    1    70.0  SUCCESS   \n",
              "166922  103756 2021-10-29 17:05:34.265000+00:00    0    20.0     FAIL   \n",
              "166924  103756 2021-11-04 12:38:58.093000+00:00    0    15.0  SUCCESS   \n",
              "166926  103756 2021-11-07 07:42:22.281000+00:00    0    20.0   CANCEL   \n",
              "166928  103756 2021-11-07 07:44:37.627000+00:00    0    20.0  SUCCESS   \n",
              "...        ...                              ...  ...     ...      ...   \n",
              "180742  128850 2022-03-10 11:06:32.510000+00:00    1   159.0  SUCCESS   \n",
              "180744  128850 2022-03-10 11:32:38.318000+00:00    0   180.0     FAIL   \n",
              "180746  128853 2022-03-10 09:55:57.469000+00:00    1    50.0  SUCCESS   \n",
              "180748  128853 2022-03-10 11:30:45.292000+00:00    0    50.0  SUCCESS   \n",
              "180750  128867 2022-03-10 14:14:34.583000+00:00    1    40.0  SUCCESS   \n",
              "\n",
              "              type  \n",
              "166920     deposit  \n",
              "166922  withdrawal  \n",
              "166924  withdrawal  \n",
              "166926     deposit  \n",
              "166928     deposit  \n",
              "...            ...  \n",
              "180742     deposit  \n",
              "180744     deposit  \n",
              "180746     deposit  \n",
              "180748     deposit  \n",
              "180750     deposit  \n",
              "\n",
              "[87 rows x 6 columns]"
            ],
            "text/html": [
              "\n",
              "  <div id=\"df-8c93db19-915d-485e-816a-fbda547da435\">\n",
              "    <div class=\"colab-df-container\">\n",
              "      <div>\n",
              "<style scoped>\n",
              "    .dataframe tbody tr th:only-of-type {\n",
              "        vertical-align: middle;\n",
              "    }\n",
              "\n",
              "    .dataframe tbody tr th {\n",
              "        vertical-align: top;\n",
              "    }\n",
              "\n",
              "    .dataframe thead th {\n",
              "        text-align: right;\n",
              "    }\n",
              "</style>\n",
              "<table border=\"1\" class=\"dataframe\">\n",
              "  <thead>\n",
              "    <tr style=\"text-align: right;\">\n",
              "      <th></th>\n",
              "      <th>id</th>\n",
              "      <th>settledAt</th>\n",
              "      <th>ftd</th>\n",
              "      <th>amount</th>\n",
              "      <th>status</th>\n",
              "      <th>type</th>\n",
              "    </tr>\n",
              "  </thead>\n",
              "  <tbody>\n",
              "    <tr>\n",
              "      <th>166920</th>\n",
              "      <td>103756</td>\n",
              "      <td>2021-10-12 10:53:18.339000+00:00</td>\n",
              "      <td>1</td>\n",
              "      <td>70.0</td>\n",
              "      <td>SUCCESS</td>\n",
              "      <td>deposit</td>\n",
              "    </tr>\n",
              "    <tr>\n",
              "      <th>166922</th>\n",
              "      <td>103756</td>\n",
              "      <td>2021-10-29 17:05:34.265000+00:00</td>\n",
              "      <td>0</td>\n",
              "      <td>20.0</td>\n",
              "      <td>FAIL</td>\n",
              "      <td>withdrawal</td>\n",
              "    </tr>\n",
              "    <tr>\n",
              "      <th>166924</th>\n",
              "      <td>103756</td>\n",
              "      <td>2021-11-04 12:38:58.093000+00:00</td>\n",
              "      <td>0</td>\n",
              "      <td>15.0</td>\n",
              "      <td>SUCCESS</td>\n",
              "      <td>withdrawal</td>\n",
              "    </tr>\n",
              "    <tr>\n",
              "      <th>166926</th>\n",
              "      <td>103756</td>\n",
              "      <td>2021-11-07 07:42:22.281000+00:00</td>\n",
              "      <td>0</td>\n",
              "      <td>20.0</td>\n",
              "      <td>CANCEL</td>\n",
              "      <td>deposit</td>\n",
              "    </tr>\n",
              "    <tr>\n",
              "      <th>166928</th>\n",
              "      <td>103756</td>\n",
              "      <td>2021-11-07 07:44:37.627000+00:00</td>\n",
              "      <td>0</td>\n",
              "      <td>20.0</td>\n",
              "      <td>SUCCESS</td>\n",
              "      <td>deposit</td>\n",
              "    </tr>\n",
              "    <tr>\n",
              "      <th>...</th>\n",
              "      <td>...</td>\n",
              "      <td>...</td>\n",
              "      <td>...</td>\n",
              "      <td>...</td>\n",
              "      <td>...</td>\n",
              "      <td>...</td>\n",
              "    </tr>\n",
              "    <tr>\n",
              "      <th>180742</th>\n",
              "      <td>128850</td>\n",
              "      <td>2022-03-10 11:06:32.510000+00:00</td>\n",
              "      <td>1</td>\n",
              "      <td>159.0</td>\n",
              "      <td>SUCCESS</td>\n",
              "      <td>deposit</td>\n",
              "    </tr>\n",
              "    <tr>\n",
              "      <th>180744</th>\n",
              "      <td>128850</td>\n",
              "      <td>2022-03-10 11:32:38.318000+00:00</td>\n",
              "      <td>0</td>\n",
              "      <td>180.0</td>\n",
              "      <td>FAIL</td>\n",
              "      <td>deposit</td>\n",
              "    </tr>\n",
              "    <tr>\n",
              "      <th>180746</th>\n",
              "      <td>128853</td>\n",
              "      <td>2022-03-10 09:55:57.469000+00:00</td>\n",
              "      <td>1</td>\n",
              "      <td>50.0</td>\n",
              "      <td>SUCCESS</td>\n",
              "      <td>deposit</td>\n",
              "    </tr>\n",
              "    <tr>\n",
              "      <th>180748</th>\n",
              "      <td>128853</td>\n",
              "      <td>2022-03-10 11:30:45.292000+00:00</td>\n",
              "      <td>0</td>\n",
              "      <td>50.0</td>\n",
              "      <td>SUCCESS</td>\n",
              "      <td>deposit</td>\n",
              "    </tr>\n",
              "    <tr>\n",
              "      <th>180750</th>\n",
              "      <td>128867</td>\n",
              "      <td>2022-03-10 14:14:34.583000+00:00</td>\n",
              "      <td>1</td>\n",
              "      <td>40.0</td>\n",
              "      <td>SUCCESS</td>\n",
              "      <td>deposit</td>\n",
              "    </tr>\n",
              "  </tbody>\n",
              "</table>\n",
              "<p>87 rows × 6 columns</p>\n",
              "</div>\n",
              "      <button class=\"colab-df-convert\" onclick=\"convertToInteractive('df-8c93db19-915d-485e-816a-fbda547da435')\"\n",
              "              title=\"Convert this dataframe to an interactive table.\"\n",
              "              style=\"display:none;\">\n",
              "        \n",
              "  <svg xmlns=\"http://www.w3.org/2000/svg\" height=\"24px\"viewBox=\"0 0 24 24\"\n",
              "       width=\"24px\">\n",
              "    <path d=\"M0 0h24v24H0V0z\" fill=\"none\"/>\n",
              "    <path d=\"M18.56 5.44l.94 2.06.94-2.06 2.06-.94-2.06-.94-.94-2.06-.94 2.06-2.06.94zm-11 1L8.5 8.5l.94-2.06 2.06-.94-2.06-.94L8.5 2.5l-.94 2.06-2.06.94zm10 10l.94 2.06.94-2.06 2.06-.94-2.06-.94-.94-2.06-.94 2.06-2.06.94z\"/><path d=\"M17.41 7.96l-1.37-1.37c-.4-.4-.92-.59-1.43-.59-.52 0-1.04.2-1.43.59L10.3 9.45l-7.72 7.72c-.78.78-.78 2.05 0 2.83L4 21.41c.39.39.9.59 1.41.59.51 0 1.02-.2 1.41-.59l7.78-7.78 2.81-2.81c.8-.78.8-2.07 0-2.86zM5.41 20L4 18.59l7.72-7.72 1.47 1.35L5.41 20z\"/>\n",
              "  </svg>\n",
              "      </button>\n",
              "      \n",
              "  <style>\n",
              "    .colab-df-container {\n",
              "      display:flex;\n",
              "      flex-wrap:wrap;\n",
              "      gap: 12px;\n",
              "    }\n",
              "\n",
              "    .colab-df-convert {\n",
              "      background-color: #E8F0FE;\n",
              "      border: none;\n",
              "      border-radius: 50%;\n",
              "      cursor: pointer;\n",
              "      display: none;\n",
              "      fill: #1967D2;\n",
              "      height: 32px;\n",
              "      padding: 0 0 0 0;\n",
              "      width: 32px;\n",
              "    }\n",
              "\n",
              "    .colab-df-convert:hover {\n",
              "      background-color: #E2EBFA;\n",
              "      box-shadow: 0px 1px 2px rgba(60, 64, 67, 0.3), 0px 1px 3px 1px rgba(60, 64, 67, 0.15);\n",
              "      fill: #174EA6;\n",
              "    }\n",
              "\n",
              "    [theme=dark] .colab-df-convert {\n",
              "      background-color: #3B4455;\n",
              "      fill: #D2E3FC;\n",
              "    }\n",
              "\n",
              "    [theme=dark] .colab-df-convert:hover {\n",
              "      background-color: #434B5C;\n",
              "      box-shadow: 0px 1px 3px 1px rgba(0, 0, 0, 0.15);\n",
              "      filter: drop-shadow(0px 1px 2px rgba(0, 0, 0, 0.3));\n",
              "      fill: #FFFFFF;\n",
              "    }\n",
              "  </style>\n",
              "\n",
              "      <script>\n",
              "        const buttonEl =\n",
              "          document.querySelector('#df-8c93db19-915d-485e-816a-fbda547da435 button.colab-df-convert');\n",
              "        buttonEl.style.display =\n",
              "          google.colab.kernel.accessAllowed ? 'block' : 'none';\n",
              "\n",
              "        async function convertToInteractive(key) {\n",
              "          const element = document.querySelector('#df-8c93db19-915d-485e-816a-fbda547da435');\n",
              "          const dataTable =\n",
              "            await google.colab.kernel.invokeFunction('convertToInteractive',\n",
              "                                                     [key], {});\n",
              "          if (!dataTable) return;\n",
              "\n",
              "          const docLinkHtml = 'Like what you see? Visit the ' +\n",
              "            '<a target=\"_blank\" href=https://colab.research.google.com/notebooks/data_table.ipynb>data table notebook</a>'\n",
              "            + ' to learn more about interactive tables.';\n",
              "          element.innerHTML = '';\n",
              "          dataTable['output_type'] = 'display_data';\n",
              "          await google.colab.output.renderOutput(dataTable, element);\n",
              "          const docLink = document.createElement('div');\n",
              "          docLink.innerHTML = docLinkHtml;\n",
              "          element.appendChild(docLink);\n",
              "        }\n",
              "      </script>\n",
              "    </div>\n",
              "  </div>\n",
              "  "
            ]
          },
          "metadata": {},
          "execution_count": 16
        }
      ],
      "source": [
        "duplicate = Customers_df[Customers_df.duplicated()]\n",
        "\n",
        "print(\"Duplicate Rows :\")\n",
        "duplicate"
      ]
    },
    {
      "cell_type": "code",
      "execution_count": null,
      "metadata": {
        "id": "ipfmSBb4Ozsc"
      },
      "outputs": [],
      "source": [
        "# Drop duplicates:\n",
        "\n",
        "Customers_df = Customers_df.drop_duplicates()"
      ]
    },
    {
      "cell_type": "code",
      "execution_count": null,
      "metadata": {
        "colab": {
          "base_uri": "https://localhost:8080/",
          "height": 455
        },
        "id": "WDsMrDKMPAj3",
        "outputId": "48afaeef-f8fd-4aad-f3f4-8a204deff974"
      },
      "outputs": [
        {
          "output_type": "execute_result",
          "data": {
            "text/plain": [
              "        ftd\n",
              "id         \n",
              "5774      1\n",
              "74290     1\n",
              "74272     1\n",
              "74271     1\n",
              "74267     1\n",
              "...     ...\n",
              "37455     1\n",
              "37454     1\n",
              "37449     1\n",
              "42425     1\n",
              "128867    1\n",
              "\n",
              "[6661 rows x 1 columns]"
            ],
            "text/html": [
              "\n",
              "  <div id=\"df-1691c86e-0417-4682-bd96-b175be8ec49c\">\n",
              "    <div class=\"colab-df-container\">\n",
              "      <div>\n",
              "<style scoped>\n",
              "    .dataframe tbody tr th:only-of-type {\n",
              "        vertical-align: middle;\n",
              "    }\n",
              "\n",
              "    .dataframe tbody tr th {\n",
              "        vertical-align: top;\n",
              "    }\n",
              "\n",
              "    .dataframe thead th {\n",
              "        text-align: right;\n",
              "    }\n",
              "</style>\n",
              "<table border=\"1\" class=\"dataframe\">\n",
              "  <thead>\n",
              "    <tr style=\"text-align: right;\">\n",
              "      <th></th>\n",
              "      <th>ftd</th>\n",
              "    </tr>\n",
              "    <tr>\n",
              "      <th>id</th>\n",
              "      <th></th>\n",
              "    </tr>\n",
              "  </thead>\n",
              "  <tbody>\n",
              "    <tr>\n",
              "      <th>5774</th>\n",
              "      <td>1</td>\n",
              "    </tr>\n",
              "    <tr>\n",
              "      <th>74290</th>\n",
              "      <td>1</td>\n",
              "    </tr>\n",
              "    <tr>\n",
              "      <th>74272</th>\n",
              "      <td>1</td>\n",
              "    </tr>\n",
              "    <tr>\n",
              "      <th>74271</th>\n",
              "      <td>1</td>\n",
              "    </tr>\n",
              "    <tr>\n",
              "      <th>74267</th>\n",
              "      <td>1</td>\n",
              "    </tr>\n",
              "    <tr>\n",
              "      <th>...</th>\n",
              "      <td>...</td>\n",
              "    </tr>\n",
              "    <tr>\n",
              "      <th>37455</th>\n",
              "      <td>1</td>\n",
              "    </tr>\n",
              "    <tr>\n",
              "      <th>37454</th>\n",
              "      <td>1</td>\n",
              "    </tr>\n",
              "    <tr>\n",
              "      <th>37449</th>\n",
              "      <td>1</td>\n",
              "    </tr>\n",
              "    <tr>\n",
              "      <th>42425</th>\n",
              "      <td>1</td>\n",
              "    </tr>\n",
              "    <tr>\n",
              "      <th>128867</th>\n",
              "      <td>1</td>\n",
              "    </tr>\n",
              "  </tbody>\n",
              "</table>\n",
              "<p>6661 rows × 1 columns</p>\n",
              "</div>\n",
              "      <button class=\"colab-df-convert\" onclick=\"convertToInteractive('df-1691c86e-0417-4682-bd96-b175be8ec49c')\"\n",
              "              title=\"Convert this dataframe to an interactive table.\"\n",
              "              style=\"display:none;\">\n",
              "        \n",
              "  <svg xmlns=\"http://www.w3.org/2000/svg\" height=\"24px\"viewBox=\"0 0 24 24\"\n",
              "       width=\"24px\">\n",
              "    <path d=\"M0 0h24v24H0V0z\" fill=\"none\"/>\n",
              "    <path d=\"M18.56 5.44l.94 2.06.94-2.06 2.06-.94-2.06-.94-.94-2.06-.94 2.06-2.06.94zm-11 1L8.5 8.5l.94-2.06 2.06-.94-2.06-.94L8.5 2.5l-.94 2.06-2.06.94zm10 10l.94 2.06.94-2.06 2.06-.94-2.06-.94-.94-2.06-.94 2.06-2.06.94z\"/><path d=\"M17.41 7.96l-1.37-1.37c-.4-.4-.92-.59-1.43-.59-.52 0-1.04.2-1.43.59L10.3 9.45l-7.72 7.72c-.78.78-.78 2.05 0 2.83L4 21.41c.39.39.9.59 1.41.59.51 0 1.02-.2 1.41-.59l7.78-7.78 2.81-2.81c.8-.78.8-2.07 0-2.86zM5.41 20L4 18.59l7.72-7.72 1.47 1.35L5.41 20z\"/>\n",
              "  </svg>\n",
              "      </button>\n",
              "      \n",
              "  <style>\n",
              "    .colab-df-container {\n",
              "      display:flex;\n",
              "      flex-wrap:wrap;\n",
              "      gap: 12px;\n",
              "    }\n",
              "\n",
              "    .colab-df-convert {\n",
              "      background-color: #E8F0FE;\n",
              "      border: none;\n",
              "      border-radius: 50%;\n",
              "      cursor: pointer;\n",
              "      display: none;\n",
              "      fill: #1967D2;\n",
              "      height: 32px;\n",
              "      padding: 0 0 0 0;\n",
              "      width: 32px;\n",
              "    }\n",
              "\n",
              "    .colab-df-convert:hover {\n",
              "      background-color: #E2EBFA;\n",
              "      box-shadow: 0px 1px 2px rgba(60, 64, 67, 0.3), 0px 1px 3px 1px rgba(60, 64, 67, 0.15);\n",
              "      fill: #174EA6;\n",
              "    }\n",
              "\n",
              "    [theme=dark] .colab-df-convert {\n",
              "      background-color: #3B4455;\n",
              "      fill: #D2E3FC;\n",
              "    }\n",
              "\n",
              "    [theme=dark] .colab-df-convert:hover {\n",
              "      background-color: #434B5C;\n",
              "      box-shadow: 0px 1px 3px 1px rgba(0, 0, 0, 0.15);\n",
              "      filter: drop-shadow(0px 1px 2px rgba(0, 0, 0, 0.3));\n",
              "      fill: #FFFFFF;\n",
              "    }\n",
              "  </style>\n",
              "\n",
              "      <script>\n",
              "        const buttonEl =\n",
              "          document.querySelector('#df-1691c86e-0417-4682-bd96-b175be8ec49c button.colab-df-convert');\n",
              "        buttonEl.style.display =\n",
              "          google.colab.kernel.accessAllowed ? 'block' : 'none';\n",
              "\n",
              "        async function convertToInteractive(key) {\n",
              "          const element = document.querySelector('#df-1691c86e-0417-4682-bd96-b175be8ec49c');\n",
              "          const dataTable =\n",
              "            await google.colab.kernel.invokeFunction('convertToInteractive',\n",
              "                                                     [key], {});\n",
              "          if (!dataTable) return;\n",
              "\n",
              "          const docLinkHtml = 'Like what you see? Visit the ' +\n",
              "            '<a target=\"_blank\" href=https://colab.research.google.com/notebooks/data_table.ipynb>data table notebook</a>'\n",
              "            + ' to learn more about interactive tables.';\n",
              "          element.innerHTML = '';\n",
              "          dataTable['output_type'] = 'display_data';\n",
              "          await google.colab.output.renderOutput(dataTable, element);\n",
              "          const docLink = document.createElement('div');\n",
              "          docLink.innerHTML = docLinkHtml;\n",
              "          element.appendChild(docLink);\n",
              "        }\n",
              "      </script>\n",
              "    </div>\n",
              "  </div>\n",
              "  "
            ]
          },
          "metadata": {},
          "execution_count": 18
        }
      ],
      "source": [
        "# Check again for ftd\n",
        "\n",
        "FTD = pd.DataFrame.from_dict(dict(Customers_df[{'id' , 'ftd'}].groupby('id').sum())).sort_values(by = 'ftd')\n",
        "FTD"
      ]
    },
    {
      "cell_type": "markdown",
      "metadata": {
        "id": "9aA64yo_p0I5"
      },
      "source": [
        "After dropping the duplicated rows, it is clear that all customers have one indication of their first-time monetary transaction."
      ]
    },
    {
      "cell_type": "code",
      "execution_count": null,
      "metadata": {
        "colab": {
          "base_uri": "https://localhost:8080/"
        },
        "id": "XinTMzHEgyYz",
        "outputId": "9b29b2e3-b685-4547-d4d2-7a46b26075ab"
      },
      "outputs": [
        {
          "output_type": "execute_result",
          "data": {
            "text/plain": [
              "False"
            ]
          },
          "metadata": {},
          "execution_count": 19
        }
      ],
      "source": [
        "#checking for NaN values as well\n",
        "Customers_df['ftd'].isnull().values.any()"
      ]
    },
    {
      "cell_type": "markdown",
      "metadata": {
        "id": "Dn-ZCRWEPJ0k"
      },
      "source": [
        "Now we proceed to delete any transaction that occurred before ftd = 1, for each consumer."
      ]
    },
    {
      "cell_type": "code",
      "execution_count": null,
      "metadata": {
        "colab": {
          "base_uri": "https://localhost:8080/",
          "height": 424
        },
        "id": "4DSJfR35QQAO",
        "outputId": "13b557b8-28ce-48df-d5d2-2c1fd4758b13"
      },
      "outputs": [
        {
          "output_type": "execute_result",
          "data": {
            "text/plain": [
              "              id                        settledAt  ftd  amount   status  \\\n",
              "0         5774.0 2019-12-09 10:05:27.783000+00:00  1.0    50.0  SUCCESS   \n",
              "1         5774.0 2019-12-15 20:09:26.286000+00:00  0.0    50.0    ERROR   \n",
              "2         5774.0 2019-12-16 06:49:49.786000+00:00  0.0    50.0  SUCCESS   \n",
              "3         5825.0 2020-03-23 08:48:32.463000+00:00  1.0    20.0  SUCCESS   \n",
              "4         5825.0 2020-03-23 09:31:08.219000+00:00  0.0    20.0     FAIL   \n",
              "...          ...                              ...  ...     ...      ...   \n",
              "171935  128850.0 2022-03-10 11:06:32.510000+00:00  1.0   159.0  SUCCESS   \n",
              "171936  128850.0 2022-03-10 11:32:38.318000+00:00  0.0   180.0     FAIL   \n",
              "171937  128853.0 2022-03-10 09:55:57.469000+00:00  1.0    50.0  SUCCESS   \n",
              "171938  128853.0 2022-03-10 11:30:45.292000+00:00  0.0    50.0  SUCCESS   \n",
              "171939  128867.0 2022-03-10 14:14:34.583000+00:00  1.0    40.0  SUCCESS   \n",
              "\n",
              "              type  \n",
              "0          deposit  \n",
              "1       withdrawal  \n",
              "2       withdrawal  \n",
              "3          deposit  \n",
              "4          deposit  \n",
              "...            ...  \n",
              "171935     deposit  \n",
              "171936     deposit  \n",
              "171937     deposit  \n",
              "171938     deposit  \n",
              "171939     deposit  \n",
              "\n",
              "[171940 rows x 6 columns]"
            ],
            "text/html": [
              "\n",
              "  <div id=\"df-284b0868-c265-4119-9abe-e07b98d43ca1\">\n",
              "    <div class=\"colab-df-container\">\n",
              "      <div>\n",
              "<style scoped>\n",
              "    .dataframe tbody tr th:only-of-type {\n",
              "        vertical-align: middle;\n",
              "    }\n",
              "\n",
              "    .dataframe tbody tr th {\n",
              "        vertical-align: top;\n",
              "    }\n",
              "\n",
              "    .dataframe thead th {\n",
              "        text-align: right;\n",
              "    }\n",
              "</style>\n",
              "<table border=\"1\" class=\"dataframe\">\n",
              "  <thead>\n",
              "    <tr style=\"text-align: right;\">\n",
              "      <th></th>\n",
              "      <th>id</th>\n",
              "      <th>settledAt</th>\n",
              "      <th>ftd</th>\n",
              "      <th>amount</th>\n",
              "      <th>status</th>\n",
              "      <th>type</th>\n",
              "    </tr>\n",
              "  </thead>\n",
              "  <tbody>\n",
              "    <tr>\n",
              "      <th>0</th>\n",
              "      <td>5774.0</td>\n",
              "      <td>2019-12-09 10:05:27.783000+00:00</td>\n",
              "      <td>1.0</td>\n",
              "      <td>50.0</td>\n",
              "      <td>SUCCESS</td>\n",
              "      <td>deposit</td>\n",
              "    </tr>\n",
              "    <tr>\n",
              "      <th>1</th>\n",
              "      <td>5774.0</td>\n",
              "      <td>2019-12-15 20:09:26.286000+00:00</td>\n",
              "      <td>0.0</td>\n",
              "      <td>50.0</td>\n",
              "      <td>ERROR</td>\n",
              "      <td>withdrawal</td>\n",
              "    </tr>\n",
              "    <tr>\n",
              "      <th>2</th>\n",
              "      <td>5774.0</td>\n",
              "      <td>2019-12-16 06:49:49.786000+00:00</td>\n",
              "      <td>0.0</td>\n",
              "      <td>50.0</td>\n",
              "      <td>SUCCESS</td>\n",
              "      <td>withdrawal</td>\n",
              "    </tr>\n",
              "    <tr>\n",
              "      <th>3</th>\n",
              "      <td>5825.0</td>\n",
              "      <td>2020-03-23 08:48:32.463000+00:00</td>\n",
              "      <td>1.0</td>\n",
              "      <td>20.0</td>\n",
              "      <td>SUCCESS</td>\n",
              "      <td>deposit</td>\n",
              "    </tr>\n",
              "    <tr>\n",
              "      <th>4</th>\n",
              "      <td>5825.0</td>\n",
              "      <td>2020-03-23 09:31:08.219000+00:00</td>\n",
              "      <td>0.0</td>\n",
              "      <td>20.0</td>\n",
              "      <td>FAIL</td>\n",
              "      <td>deposit</td>\n",
              "    </tr>\n",
              "    <tr>\n",
              "      <th>...</th>\n",
              "      <td>...</td>\n",
              "      <td>...</td>\n",
              "      <td>...</td>\n",
              "      <td>...</td>\n",
              "      <td>...</td>\n",
              "      <td>...</td>\n",
              "    </tr>\n",
              "    <tr>\n",
              "      <th>171935</th>\n",
              "      <td>128850.0</td>\n",
              "      <td>2022-03-10 11:06:32.510000+00:00</td>\n",
              "      <td>1.0</td>\n",
              "      <td>159.0</td>\n",
              "      <td>SUCCESS</td>\n",
              "      <td>deposit</td>\n",
              "    </tr>\n",
              "    <tr>\n",
              "      <th>171936</th>\n",
              "      <td>128850.0</td>\n",
              "      <td>2022-03-10 11:32:38.318000+00:00</td>\n",
              "      <td>0.0</td>\n",
              "      <td>180.0</td>\n",
              "      <td>FAIL</td>\n",
              "      <td>deposit</td>\n",
              "    </tr>\n",
              "    <tr>\n",
              "      <th>171937</th>\n",
              "      <td>128853.0</td>\n",
              "      <td>2022-03-10 09:55:57.469000+00:00</td>\n",
              "      <td>1.0</td>\n",
              "      <td>50.0</td>\n",
              "      <td>SUCCESS</td>\n",
              "      <td>deposit</td>\n",
              "    </tr>\n",
              "    <tr>\n",
              "      <th>171938</th>\n",
              "      <td>128853.0</td>\n",
              "      <td>2022-03-10 11:30:45.292000+00:00</td>\n",
              "      <td>0.0</td>\n",
              "      <td>50.0</td>\n",
              "      <td>SUCCESS</td>\n",
              "      <td>deposit</td>\n",
              "    </tr>\n",
              "    <tr>\n",
              "      <th>171939</th>\n",
              "      <td>128867.0</td>\n",
              "      <td>2022-03-10 14:14:34.583000+00:00</td>\n",
              "      <td>1.0</td>\n",
              "      <td>40.0</td>\n",
              "      <td>SUCCESS</td>\n",
              "      <td>deposit</td>\n",
              "    </tr>\n",
              "  </tbody>\n",
              "</table>\n",
              "<p>171940 rows × 6 columns</p>\n",
              "</div>\n",
              "      <button class=\"colab-df-convert\" onclick=\"convertToInteractive('df-284b0868-c265-4119-9abe-e07b98d43ca1')\"\n",
              "              title=\"Convert this dataframe to an interactive table.\"\n",
              "              style=\"display:none;\">\n",
              "        \n",
              "  <svg xmlns=\"http://www.w3.org/2000/svg\" height=\"24px\"viewBox=\"0 0 24 24\"\n",
              "       width=\"24px\">\n",
              "    <path d=\"M0 0h24v24H0V0z\" fill=\"none\"/>\n",
              "    <path d=\"M18.56 5.44l.94 2.06.94-2.06 2.06-.94-2.06-.94-.94-2.06-.94 2.06-2.06.94zm-11 1L8.5 8.5l.94-2.06 2.06-.94-2.06-.94L8.5 2.5l-.94 2.06-2.06.94zm10 10l.94 2.06.94-2.06 2.06-.94-2.06-.94-.94-2.06-.94 2.06-2.06.94z\"/><path d=\"M17.41 7.96l-1.37-1.37c-.4-.4-.92-.59-1.43-.59-.52 0-1.04.2-1.43.59L10.3 9.45l-7.72 7.72c-.78.78-.78 2.05 0 2.83L4 21.41c.39.39.9.59 1.41.59.51 0 1.02-.2 1.41-.59l7.78-7.78 2.81-2.81c.8-.78.8-2.07 0-2.86zM5.41 20L4 18.59l7.72-7.72 1.47 1.35L5.41 20z\"/>\n",
              "  </svg>\n",
              "      </button>\n",
              "      \n",
              "  <style>\n",
              "    .colab-df-container {\n",
              "      display:flex;\n",
              "      flex-wrap:wrap;\n",
              "      gap: 12px;\n",
              "    }\n",
              "\n",
              "    .colab-df-convert {\n",
              "      background-color: #E8F0FE;\n",
              "      border: none;\n",
              "      border-radius: 50%;\n",
              "      cursor: pointer;\n",
              "      display: none;\n",
              "      fill: #1967D2;\n",
              "      height: 32px;\n",
              "      padding: 0 0 0 0;\n",
              "      width: 32px;\n",
              "    }\n",
              "\n",
              "    .colab-df-convert:hover {\n",
              "      background-color: #E2EBFA;\n",
              "      box-shadow: 0px 1px 2px rgba(60, 64, 67, 0.3), 0px 1px 3px 1px rgba(60, 64, 67, 0.15);\n",
              "      fill: #174EA6;\n",
              "    }\n",
              "\n",
              "    [theme=dark] .colab-df-convert {\n",
              "      background-color: #3B4455;\n",
              "      fill: #D2E3FC;\n",
              "    }\n",
              "\n",
              "    [theme=dark] .colab-df-convert:hover {\n",
              "      background-color: #434B5C;\n",
              "      box-shadow: 0px 1px 3px 1px rgba(0, 0, 0, 0.15);\n",
              "      filter: drop-shadow(0px 1px 2px rgba(0, 0, 0, 0.3));\n",
              "      fill: #FFFFFF;\n",
              "    }\n",
              "  </style>\n",
              "\n",
              "      <script>\n",
              "        const buttonEl =\n",
              "          document.querySelector('#df-284b0868-c265-4119-9abe-e07b98d43ca1 button.colab-df-convert');\n",
              "        buttonEl.style.display =\n",
              "          google.colab.kernel.accessAllowed ? 'block' : 'none';\n",
              "\n",
              "        async function convertToInteractive(key) {\n",
              "          const element = document.querySelector('#df-284b0868-c265-4119-9abe-e07b98d43ca1');\n",
              "          const dataTable =\n",
              "            await google.colab.kernel.invokeFunction('convertToInteractive',\n",
              "                                                     [key], {});\n",
              "          if (!dataTable) return;\n",
              "\n",
              "          const docLinkHtml = 'Like what you see? Visit the ' +\n",
              "            '<a target=\"_blank\" href=https://colab.research.google.com/notebooks/data_table.ipynb>data table notebook</a>'\n",
              "            + ' to learn more about interactive tables.';\n",
              "          element.innerHTML = '';\n",
              "          dataTable['output_type'] = 'display_data';\n",
              "          await google.colab.output.renderOutput(dataTable, element);\n",
              "          const docLink = document.createElement('div');\n",
              "          docLink.innerHTML = docLinkHtml;\n",
              "          element.appendChild(docLink);\n",
              "        }\n",
              "      </script>\n",
              "    </div>\n",
              "  </div>\n",
              "  "
            ]
          },
          "metadata": {},
          "execution_count": 20
        }
      ],
      "source": [
        "Unique_id = pd.unique(Customers_df['id'])\n",
        "Customers_DF = pd.DataFrame({'id' : [] , 'settledAt' : [] , 'ftd' : [] , 'amount' : [] , \t'status' : [] , 'type' : []})\n",
        "\n",
        "for id in Unique_id:\n",
        "  DF = Customers_df.loc[ Customers_df['id'] == id ]\n",
        "\n",
        "  while True:\n",
        "    if DF['ftd'].iloc[0] == 0:\n",
        "       DF = DF.drop( pd.DataFrame( DF.iloc[0] ).columns[0] , axis=0, inplace=False)\n",
        "    else:\n",
        "       break\n",
        "\n",
        "  Customers_DF = Customers_DF.append(DF, ignore_index = True)\n",
        "\n",
        "Customers_DF"
      ]
    },
    {
      "cell_type": "code",
      "execution_count": null,
      "metadata": {
        "id": "XJ2GdBtYs6Nd"
      },
      "outputs": [],
      "source": [
        "# Changing the data type of the ftd column to integer\n",
        "Customers_DF['ftd'] = pd.to_numeric(Customers_DF['ftd'], downcast='integer')"
      ]
    },
    {
      "cell_type": "markdown",
      "metadata": {
        "id": "8Qv9LZpkOway"
      },
      "source": [
        "Checking unique entries:"
      ]
    },
    {
      "cell_type": "code",
      "execution_count": null,
      "metadata": {
        "colab": {
          "base_uri": "https://localhost:8080/"
        },
        "id": "_m2u0YieNg_Z",
        "outputId": "7a231ff0-fe4a-4381-d236-2c7f242c83a5"
      },
      "outputs": [
        {
          "output_type": "stream",
          "name": "stdout",
          "text": [
            "The dataframe after the deletion of duplicates, has 6661 unique customers\n"
          ]
        }
      ],
      "source": [
        "print(f\"The dataframe after the deletion of duplicates, has {len(pd.unique(Customers_DF['id']))} unique customers\")"
      ]
    },
    {
      "cell_type": "code",
      "execution_count": null,
      "metadata": {
        "colab": {
          "base_uri": "https://localhost:8080/"
        },
        "id": "MH0Rk8zxh96x",
        "outputId": "e0a5a882-9b05-46f9-f050-040ee5d2696c"
      },
      "outputs": [
        {
          "output_type": "stream",
          "name": "stdout",
          "text": [
            "The unique elements of ftd column are : [1 0]\n",
            "The unique elements of status column are : ['SUCCESS' 'ERROR' 'FAIL' 'CANCEL' 'INITIAL']\n",
            "The unique elements of type column are : ['deposit' 'withdrawal' 'transfer']\n"
          ]
        }
      ],
      "source": [
        "Unique_elem_of_ftd = pd.unique(Customers_DF['ftd'])\n",
        "Unique_elem_of_status = pd.unique(Customers_DF['status'])\n",
        "Unique_elem_of_type = pd.unique(Customers_DF['type'])\n",
        "\n",
        "print(f'The unique elements of ftd column are : {Unique_elem_of_ftd}')\n",
        "print(f'The unique elements of status column are : {Unique_elem_of_status}')\n",
        "print(f'The unique elements of type column are : {Unique_elem_of_type}')"
      ]
    },
    {
      "cell_type": "markdown",
      "metadata": {
        "id": "MmW1NSMFO4DW"
      },
      "source": [
        "Checking Status = 'INITIAL'"
      ]
    },
    {
      "cell_type": "code",
      "execution_count": null,
      "metadata": {
        "colab": {
          "base_uri": "https://localhost:8080/",
          "height": 238
        },
        "id": "DX36gGOxJ8ol",
        "outputId": "4294c088-902e-45a3-9b99-3c49ae536e75"
      },
      "outputs": [
        {
          "output_type": "execute_result",
          "data": {
            "text/plain": [
              "              id                        settledAt  ftd   amount   status  \\\n",
              "146777   91239.0 2022-03-14 09:46:25.746000+00:00    0     3.64  INITIAL   \n",
              "163170  109316.0 2022-03-14 09:49:02.728000+00:00    0  3000.00  INITIAL   \n",
              "167731  113102.0 2022-03-14 08:52:42.870000+00:00    0    26.00  INITIAL   \n",
              "167748  113112.0 2022-03-14 09:30:53.687000+00:00    0    20.00  INITIAL   \n",
              "167750  113112.0 2022-03-14 09:35:41.316000+00:00    0    20.00  INITIAL   \n",
              "168120  113372.0 2022-03-14 09:22:05.463000+00:00    0    50.00  INITIAL   \n",
              "\n",
              "              type  \n",
              "146777  withdrawal  \n",
              "163170     deposit  \n",
              "167731     deposit  \n",
              "167748     deposit  \n",
              "167750     deposit  \n",
              "168120     deposit  "
            ],
            "text/html": [
              "\n",
              "  <div id=\"df-7d9d309a-dcb5-4531-b779-acdd89c66df4\">\n",
              "    <div class=\"colab-df-container\">\n",
              "      <div>\n",
              "<style scoped>\n",
              "    .dataframe tbody tr th:only-of-type {\n",
              "        vertical-align: middle;\n",
              "    }\n",
              "\n",
              "    .dataframe tbody tr th {\n",
              "        vertical-align: top;\n",
              "    }\n",
              "\n",
              "    .dataframe thead th {\n",
              "        text-align: right;\n",
              "    }\n",
              "</style>\n",
              "<table border=\"1\" class=\"dataframe\">\n",
              "  <thead>\n",
              "    <tr style=\"text-align: right;\">\n",
              "      <th></th>\n",
              "      <th>id</th>\n",
              "      <th>settledAt</th>\n",
              "      <th>ftd</th>\n",
              "      <th>amount</th>\n",
              "      <th>status</th>\n",
              "      <th>type</th>\n",
              "    </tr>\n",
              "  </thead>\n",
              "  <tbody>\n",
              "    <tr>\n",
              "      <th>146777</th>\n",
              "      <td>91239.0</td>\n",
              "      <td>2022-03-14 09:46:25.746000+00:00</td>\n",
              "      <td>0</td>\n",
              "      <td>3.64</td>\n",
              "      <td>INITIAL</td>\n",
              "      <td>withdrawal</td>\n",
              "    </tr>\n",
              "    <tr>\n",
              "      <th>163170</th>\n",
              "      <td>109316.0</td>\n",
              "      <td>2022-03-14 09:49:02.728000+00:00</td>\n",
              "      <td>0</td>\n",
              "      <td>3000.00</td>\n",
              "      <td>INITIAL</td>\n",
              "      <td>deposit</td>\n",
              "    </tr>\n",
              "    <tr>\n",
              "      <th>167731</th>\n",
              "      <td>113102.0</td>\n",
              "      <td>2022-03-14 08:52:42.870000+00:00</td>\n",
              "      <td>0</td>\n",
              "      <td>26.00</td>\n",
              "      <td>INITIAL</td>\n",
              "      <td>deposit</td>\n",
              "    </tr>\n",
              "    <tr>\n",
              "      <th>167748</th>\n",
              "      <td>113112.0</td>\n",
              "      <td>2022-03-14 09:30:53.687000+00:00</td>\n",
              "      <td>0</td>\n",
              "      <td>20.00</td>\n",
              "      <td>INITIAL</td>\n",
              "      <td>deposit</td>\n",
              "    </tr>\n",
              "    <tr>\n",
              "      <th>167750</th>\n",
              "      <td>113112.0</td>\n",
              "      <td>2022-03-14 09:35:41.316000+00:00</td>\n",
              "      <td>0</td>\n",
              "      <td>20.00</td>\n",
              "      <td>INITIAL</td>\n",
              "      <td>deposit</td>\n",
              "    </tr>\n",
              "    <tr>\n",
              "      <th>168120</th>\n",
              "      <td>113372.0</td>\n",
              "      <td>2022-03-14 09:22:05.463000+00:00</td>\n",
              "      <td>0</td>\n",
              "      <td>50.00</td>\n",
              "      <td>INITIAL</td>\n",
              "      <td>deposit</td>\n",
              "    </tr>\n",
              "  </tbody>\n",
              "</table>\n",
              "</div>\n",
              "      <button class=\"colab-df-convert\" onclick=\"convertToInteractive('df-7d9d309a-dcb5-4531-b779-acdd89c66df4')\"\n",
              "              title=\"Convert this dataframe to an interactive table.\"\n",
              "              style=\"display:none;\">\n",
              "        \n",
              "  <svg xmlns=\"http://www.w3.org/2000/svg\" height=\"24px\"viewBox=\"0 0 24 24\"\n",
              "       width=\"24px\">\n",
              "    <path d=\"M0 0h24v24H0V0z\" fill=\"none\"/>\n",
              "    <path d=\"M18.56 5.44l.94 2.06.94-2.06 2.06-.94-2.06-.94-.94-2.06-.94 2.06-2.06.94zm-11 1L8.5 8.5l.94-2.06 2.06-.94-2.06-.94L8.5 2.5l-.94 2.06-2.06.94zm10 10l.94 2.06.94-2.06 2.06-.94-2.06-.94-.94-2.06-.94 2.06-2.06.94z\"/><path d=\"M17.41 7.96l-1.37-1.37c-.4-.4-.92-.59-1.43-.59-.52 0-1.04.2-1.43.59L10.3 9.45l-7.72 7.72c-.78.78-.78 2.05 0 2.83L4 21.41c.39.39.9.59 1.41.59.51 0 1.02-.2 1.41-.59l7.78-7.78 2.81-2.81c.8-.78.8-2.07 0-2.86zM5.41 20L4 18.59l7.72-7.72 1.47 1.35L5.41 20z\"/>\n",
              "  </svg>\n",
              "      </button>\n",
              "      \n",
              "  <style>\n",
              "    .colab-df-container {\n",
              "      display:flex;\n",
              "      flex-wrap:wrap;\n",
              "      gap: 12px;\n",
              "    }\n",
              "\n",
              "    .colab-df-convert {\n",
              "      background-color: #E8F0FE;\n",
              "      border: none;\n",
              "      border-radius: 50%;\n",
              "      cursor: pointer;\n",
              "      display: none;\n",
              "      fill: #1967D2;\n",
              "      height: 32px;\n",
              "      padding: 0 0 0 0;\n",
              "      width: 32px;\n",
              "    }\n",
              "\n",
              "    .colab-df-convert:hover {\n",
              "      background-color: #E2EBFA;\n",
              "      box-shadow: 0px 1px 2px rgba(60, 64, 67, 0.3), 0px 1px 3px 1px rgba(60, 64, 67, 0.15);\n",
              "      fill: #174EA6;\n",
              "    }\n",
              "\n",
              "    [theme=dark] .colab-df-convert {\n",
              "      background-color: #3B4455;\n",
              "      fill: #D2E3FC;\n",
              "    }\n",
              "\n",
              "    [theme=dark] .colab-df-convert:hover {\n",
              "      background-color: #434B5C;\n",
              "      box-shadow: 0px 1px 3px 1px rgba(0, 0, 0, 0.15);\n",
              "      filter: drop-shadow(0px 1px 2px rgba(0, 0, 0, 0.3));\n",
              "      fill: #FFFFFF;\n",
              "    }\n",
              "  </style>\n",
              "\n",
              "      <script>\n",
              "        const buttonEl =\n",
              "          document.querySelector('#df-7d9d309a-dcb5-4531-b779-acdd89c66df4 button.colab-df-convert');\n",
              "        buttonEl.style.display =\n",
              "          google.colab.kernel.accessAllowed ? 'block' : 'none';\n",
              "\n",
              "        async function convertToInteractive(key) {\n",
              "          const element = document.querySelector('#df-7d9d309a-dcb5-4531-b779-acdd89c66df4');\n",
              "          const dataTable =\n",
              "            await google.colab.kernel.invokeFunction('convertToInteractive',\n",
              "                                                     [key], {});\n",
              "          if (!dataTable) return;\n",
              "\n",
              "          const docLinkHtml = 'Like what you see? Visit the ' +\n",
              "            '<a target=\"_blank\" href=https://colab.research.google.com/notebooks/data_table.ipynb>data table notebook</a>'\n",
              "            + ' to learn more about interactive tables.';\n",
              "          element.innerHTML = '';\n",
              "          dataTable['output_type'] = 'display_data';\n",
              "          await google.colab.output.renderOutput(dataTable, element);\n",
              "          const docLink = document.createElement('div');\n",
              "          docLink.innerHTML = docLinkHtml;\n",
              "          element.appendChild(docLink);\n",
              "        }\n",
              "      </script>\n",
              "    </div>\n",
              "  </div>\n",
              "  "
            ]
          },
          "metadata": {},
          "execution_count": 24
        }
      ],
      "source": [
        "Customers_DF.loc[Customers_DF['status'] == 'INITIAL']"
      ]
    },
    {
      "cell_type": "code",
      "execution_count": null,
      "metadata": {
        "colab": {
          "base_uri": "https://localhost:8080/"
        },
        "id": "fnlSdfMkIl17",
        "outputId": "e351cd1d-5b33-4e2f-97eb-55fab6809269"
      },
      "outputs": [
        {
          "output_type": "execute_result",
          "data": {
            "text/plain": [
              "id           6\n",
              "settledAt    6\n",
              "ftd          6\n",
              "amount       6\n",
              "status       6\n",
              "type         6\n",
              "dtype: int64"
            ]
          },
          "metadata": {},
          "execution_count": 25
        }
      ],
      "source": [
        "Customers_DF.loc[Customers_DF['status'] == 'INITIAL'].count()"
      ]
    },
    {
      "cell_type": "markdown",
      "metadata": {
        "id": "EWkGLXzzKXgP"
      },
      "source": [
        "Only six rows contain the 'status = INITIAL', and since INITIAL means 'new transaction', in other words, 'PENDING', we will not use it for regression."
      ]
    },
    {
      "cell_type": "markdown",
      "metadata": {
        "id": "0WvnGivzaubB"
      },
      "source": [
        "# Data Visualization"
      ]
    },
    {
      "cell_type": "markdown",
      "metadata": {
        "id": "qwrFOyOw_Fxi"
      },
      "source": [
        "Boxplot and Histogram of the value of the successful deposits:"
      ]
    },
    {
      "cell_type": "code",
      "execution_count": null,
      "metadata": {
        "colab": {
          "base_uri": "https://localhost:8080/",
          "height": 592
        },
        "id": "XHExTQF-_6J-",
        "outputId": "46ac49a1-f97c-4e3d-de82-ec04e7b59a4a"
      },
      "outputs": [
        {
          "output_type": "display_data",
          "data": {
            "text/plain": [
              "<Figure size 1080x720 with 2 Axes>"
            ],
            "image/png": "[encoded data removed]"
          },
          "metadata": {
            "needs_background": "light"
          }
        }
      ],
      "source": [
        "df = Customers_DF[{'settledAt' , 'amount'}].loc[ (Customers_DF['status'] == 'SUCCESS' ) &  (Customers_DF['type'] == 'deposit')].groupby('settledAt').mean()\n",
        "\n",
        "f, (fig1, fig2) = plt.subplots(2,1, sharex=False, figsize=(15, 10))\n",
        "\n",
        "fig1.hist( df['amount'] , rwidth=0.9 , bins=100 , color = '#66b3ff')\n",
        "fig2.boxplot(df['amount'])\n",
        "\n",
        "plt.show()"
      ]
    },
    {
      "cell_type": "markdown",
      "metadata": {
        "id": "GL_gI8r0_QOE"
      },
      "source": [
        "Boxplot and Histogram of the value of successful withdrawals:"
      ]
    },
    {
      "cell_type": "code",
      "execution_count": null,
      "metadata": {
        "colab": {
          "base_uri": "https://localhost:8080/",
          "height": 592
        },
        "id": "c4TIZvU5BDUk",
        "outputId": "463e4ea9-7f0c-457e-c313-e46b4acdd976"
      },
      "outputs": [
        {
          "output_type": "display_data",
          "data": {
            "text/plain": [
              "<Figure size 1080x720 with 2 Axes>"
            ],
            "image/png": "[encoded data removed]"
          },
          "metadata": {
            "needs_background": "light"
          }
        }
      ],
      "source": [
        "df = Customers_DF[{'settledAt' , 'amount'}].loc[ (Customers_DF['status'] == 'SUCCESS' ) &  (Customers_DF['type'] == 'withdrawal')].groupby('settledAt').mean()\n",
        "\n",
        "f, (fig1, fig2) = plt.subplots(2,1, sharex=False, figsize=(15, 10))\n",
        "\n",
        "fig1.hist( df['amount'] , rwidth=0.9 , bins=100 , color = '#66b3ff')\n",
        "fig2.boxplot(df['amount'])\n",
        "\n",
        "plt.show()"
      ]
    },
    {
      "cell_type": "markdown",
      "metadata": {
        "id": "lhjrpKWVauqV"
      },
      "source": [
        "As the plots illustrate, most transactions consist of small amounts ( around zero ). Moreover, there is a clear presence of outliers as well."
      ]
    },
    {
      "cell_type": "markdown",
      "metadata": {
        "id": "ygNsKMZMfGoT"
      },
      "source": [
        "We will plot the time series of the mean of the succesfull transactions, one for type = deposit and one for type = withdrawal."
      ]
    },
    {
      "cell_type": "code",
      "execution_count": null,
      "metadata": {
        "id": "Z688trZbbwIk"
      },
      "outputs": [],
      "source": [
        "# Type = deposit\n",
        "\n",
        "df = Customers_DF[{'settledAt' , 'amount'}].loc[ (Customers_DF['status'] == 'SUCCESS' ) &  (Customers_DF['type'] == 'deposit')].groupby('settledAt').mean()\n",
        "fig = px.line(df, x = df.index, y='amount')\n",
        "fig.show()"
      ]
    },
    {
      "cell_type": "markdown",
      "source": [
        "![Screenshot 2023-01-06 at 9.00.19 PM.png](data:image/png;base64,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)"
      ],
      "metadata": {
        "id": "rIGj5i9edQ3Z"
      }
    },
    {
      "cell_type": "markdown",
      "metadata": {
        "id": "5GbqulicgxR9"
      },
      "source": [
        "From the time series, it is visible that although from January 2020 to April 2020 there is a decrease in number as well as the amount of transaction, after this time period transactions do not present any flactuations other than normal. Furthermore, the presence of occational outliers is clear, however no specific pattern can be extracted."
      ]
    },
    {
      "cell_type": "code",
      "execution_count": null,
      "metadata": {
        "id": "iVF43KyhfjiJ"
      },
      "outputs": [],
      "source": [
        "# Type = withdrawal\n",
        "\n",
        "df = Customers_DF[{'settledAt' , 'amount'}].loc[ (Customers_DF['status'] == 'SUCCESS' ) &  (Customers_DF['type'] == 'withdrawal' )].groupby('settledAt').mean()\n",
        "fig = px.line(df, x = df.index, y='amount')\n",
        "fig.show()"
      ]
    },
    {
      "cell_type": "markdown",
      "source": [
        "![Screenshot 2023-01-06 at 9.01.40 PM.png](data:image/png;base64,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)"
      ],
      "metadata": {
        "id": "nESYJo6QdmPV"
      }
    },
    {
      "cell_type": "markdown",
      "metadata": {
        "id": "ihbWVb0kiSvE"
      },
      "source": [
        "From the time series for the withdrawal transactions, we can see as well that from January 2020 until April 2020 there is a decline in the numbers and amounts of transactions. After that period, we can say that March is the month with the most withdrawals, however not there is not much data to verify that. Lastly, there is no presence of large amounts of withdrawals, like deposit transactions."
      ]
    },
    {
      "cell_type": "code",
      "execution_count": null,
      "metadata": {
        "colab": {
          "base_uri": "https://localhost:8080/",
          "height": 442
        },
        "id": "X7lfqKSfBiFq",
        "outputId": "acf013da-6fd9-4043-8b74-c8764493517c"
      },
      "outputs": [
        {
          "output_type": "display_data",
          "data": {
            "text/plain": [
              "<Figure size 720x504 with 2 Axes>"
            ],
            "image/png": "[encoded data removed]"
          },
          "metadata": {
            "needs_background": "light"
          }
        }
      ],
      "source": [
        "i = 1\n",
        "plt.figure(figsize=(10, 7))\n",
        "for feature in ['status' , 'type']:\n",
        "        plt.subplot(1,2,i)\n",
        "        sns.countplot(x = feature, data = Customers_DF)\n",
        "        i += 1\n",
        "        if i==3 :\n",
        "            break"
      ]
    },
    {
      "cell_type": "markdown",
      "metadata": {
        "id": "-nZvBN5LD0_e"
      },
      "source": [
        "The countplots show that most transactions were successful with almost equal amounts of deposits and withdrawals."
      ]
    },
    {
      "cell_type": "markdown",
      "metadata": {
        "id": "fBUulRZuEOml"
      },
      "source": [
        "## Data preprocessing part 2"
      ]
    },
    {
      "cell_type": "markdown",
      "metadata": {
        "id": "R5d1F51YMQ3X"
      },
      "source": [
        "We will convert the categorical columns 'status' and 'type', to numeric. For the Status column, we will replace 'SUCCESS' with 1 and  'ERROR', 'FAIL', 'CANCEL', 'INITIAL' with zero. Moreover, for the Type column, we will replace 'deposit' with 1, 'withdrawal' with -1, and 'transfer' with 0."
      ]
    },
    {
      "cell_type": "code",
      "execution_count": null,
      "metadata": {
        "colab": {
          "base_uri": "https://localhost:8080/",
          "height": 206
        },
        "id": "y-0mUqQth94M",
        "outputId": "33ad3405-03b3-4cb1-8a20-d14b5dbc7d36"
      },
      "outputs": [
        {
          "output_type": "execute_result",
          "data": {
            "text/plain": [
              "       id                        settledAt  ftd  amount  status  type\n",
              "0  5774.0 2019-12-09 10:05:27.783000+00:00    1    50.0       1     1\n",
              "1  5774.0 2019-12-15 20:09:26.286000+00:00    0    50.0       0    -1\n",
              "2  5774.0 2019-12-16 06:49:49.786000+00:00    0    50.0       1    -1\n",
              "3  5825.0 2020-03-23 08:48:32.463000+00:00    1    20.0       1     1\n",
              "4  5825.0 2020-03-23 09:31:08.219000+00:00    0    20.0       0     1"
            ],
            "text/html": [
              "\n",
              "  <div id=\"df-08862a56-9cd9-402a-a47d-2d2ee5c64400\">\n",
              "    <div class=\"colab-df-container\">\n",
              "      <div>\n",
              "<style scoped>\n",
              "    .dataframe tbody tr th:only-of-type {\n",
              "        vertical-align: middle;\n",
              "    }\n",
              "\n",
              "    .dataframe tbody tr th {\n",
              "        vertical-align: top;\n",
              "    }\n",
              "\n",
              "    .dataframe thead th {\n",
              "        text-align: right;\n",
              "    }\n",
              "</style>\n",
              "<table border=\"1\" class=\"dataframe\">\n",
              "  <thead>\n",
              "    <tr style=\"text-align: right;\">\n",
              "      <th></th>\n",
              "      <th>id</th>\n",
              "      <th>settledAt</th>\n",
              "      <th>ftd</th>\n",
              "      <th>amount</th>\n",
              "      <th>status</th>\n",
              "      <th>type</th>\n",
              "    </tr>\n",
              "  </thead>\n",
              "  <tbody>\n",
              "    <tr>\n",
              "      <th>0</th>\n",
              "      <td>5774.0</td>\n",
              "      <td>2019-12-09 10:05:27.783000+00:00</td>\n",
              "      <td>1</td>\n",
              "      <td>50.0</td>\n",
              "      <td>1</td>\n",
              "      <td>1</td>\n",
              "    </tr>\n",
              "    <tr>\n",
              "      <th>1</th>\n",
              "      <td>5774.0</td>\n",
              "      <td>2019-12-15 20:09:26.286000+00:00</td>\n",
              "      <td>0</td>\n",
              "      <td>50.0</td>\n",
              "      <td>0</td>\n",
              "      <td>-1</td>\n",
              "    </tr>\n",
              "    <tr>\n",
              "      <th>2</th>\n",
              "      <td>5774.0</td>\n",
              "      <td>2019-12-16 06:49:49.786000+00:00</td>\n",
              "      <td>0</td>\n",
              "      <td>50.0</td>\n",
              "      <td>1</td>\n",
              "      <td>-1</td>\n",
              "    </tr>\n",
              "    <tr>\n",
              "      <th>3</th>\n",
              "      <td>5825.0</td>\n",
              "      <td>2020-03-23 08:48:32.463000+00:00</td>\n",
              "      <td>1</td>\n",
              "      <td>20.0</td>\n",
              "      <td>1</td>\n",
              "      <td>1</td>\n",
              "    </tr>\n",
              "    <tr>\n",
              "      <th>4</th>\n",
              "      <td>5825.0</td>\n",
              "      <td>2020-03-23 09:31:08.219000+00:00</td>\n",
              "      <td>0</td>\n",
              "      <td>20.0</td>\n",
              "      <td>0</td>\n",
              "      <td>1</td>\n",
              "    </tr>\n",
              "  </tbody>\n",
              "</table>\n",
              "</div>\n",
              "      <button class=\"colab-df-convert\" onclick=\"convertToInteractive('df-08862a56-9cd9-402a-a47d-2d2ee5c64400')\"\n",
              "              title=\"Convert this dataframe to an interactive table.\"\n",
              "              style=\"display:none;\">\n",
              "        \n",
              "  <svg xmlns=\"http://www.w3.org/2000/svg\" height=\"24px\"viewBox=\"0 0 24 24\"\n",
              "       width=\"24px\">\n",
              "    <path d=\"M0 0h24v24H0V0z\" fill=\"none\"/>\n",
              "    <path d=\"M18.56 5.44l.94 2.06.94-2.06 2.06-.94-2.06-.94-.94-2.06-.94 2.06-2.06.94zm-11 1L8.5 8.5l.94-2.06 2.06-.94-2.06-.94L8.5 2.5l-.94 2.06-2.06.94zm10 10l.94 2.06.94-2.06 2.06-.94-2.06-.94-.94-2.06-.94 2.06-2.06.94z\"/><path d=\"M17.41 7.96l-1.37-1.37c-.4-.4-.92-.59-1.43-.59-.52 0-1.04.2-1.43.59L10.3 9.45l-7.72 7.72c-.78.78-.78 2.05 0 2.83L4 21.41c.39.39.9.59 1.41.59.51 0 1.02-.2 1.41-.59l7.78-7.78 2.81-2.81c.8-.78.8-2.07 0-2.86zM5.41 20L4 18.59l7.72-7.72 1.47 1.35L5.41 20z\"/>\n",
              "  </svg>\n",
              "      </button>\n",
              "      \n",
              "  <style>\n",
              "    .colab-df-container {\n",
              "      display:flex;\n",
              "      flex-wrap:wrap;\n",
              "      gap: 12px;\n",
              "    }\n",
              "\n",
              "    .colab-df-convert {\n",
              "      background-color: #E8F0FE;\n",
              "      border: none;\n",
              "      border-radius: 50%;\n",
              "      cursor: pointer;\n",
              "      display: none;\n",
              "      fill: #1967D2;\n",
              "      height: 32px;\n",
              "      padding: 0 0 0 0;\n",
              "      width: 32px;\n",
              "    }\n",
              "\n",
              "    .colab-df-convert:hover {\n",
              "      background-color: #E2EBFA;\n",
              "      box-shadow: 0px 1px 2px rgba(60, 64, 67, 0.3), 0px 1px 3px 1px rgba(60, 64, 67, 0.15);\n",
              "      fill: #174EA6;\n",
              "    }\n",
              "\n",
              "    [theme=dark] .colab-df-convert {\n",
              "      background-color: #3B4455;\n",
              "      fill: #D2E3FC;\n",
              "    }\n",
              "\n",
              "    [theme=dark] .colab-df-convert:hover {\n",
              "      background-color: #434B5C;\n",
              "      box-shadow: 0px 1px 3px 1px rgba(0, 0, 0, 0.15);\n",
              "      filter: drop-shadow(0px 1px 2px rgba(0, 0, 0, 0.3));\n",
              "      fill: #FFFFFF;\n",
              "    }\n",
              "  </style>\n",
              "\n",
              "      <script>\n",
              "        const buttonEl =\n",
              "          document.querySelector('#df-08862a56-9cd9-402a-a47d-2d2ee5c64400 button.colab-df-convert');\n",
              "        buttonEl.style.display =\n",
              "          google.colab.kernel.accessAllowed ? 'block' : 'none';\n",
              "\n",
              "        async function convertToInteractive(key) {\n",
              "          const element = document.querySelector('#df-08862a56-9cd9-402a-a47d-2d2ee5c64400');\n",
              "          const dataTable =\n",
              "            await google.colab.kernel.invokeFunction('convertToInteractive',\n",
              "                                                     [key], {});\n",
              "          if (!dataTable) return;\n",
              "\n",
              "          const docLinkHtml = 'Like what you see? Visit the ' +\n",
              "            '<a target=\"_blank\" href=https://colab.research.google.com/notebooks/data_table.ipynb>data table notebook</a>'\n",
              "            + ' to learn more about interactive tables.';\n",
              "          element.innerHTML = '';\n",
              "          dataTable['output_type'] = 'display_data';\n",
              "          await google.colab.output.renderOutput(dataTable, element);\n",
              "          const docLink = document.createElement('div');\n",
              "          docLink.innerHTML = docLinkHtml;\n",
              "          element.appendChild(docLink);\n",
              "        }\n",
              "      </script>\n",
              "    </div>\n",
              "  </div>\n",
              "  "
            ]
          },
          "metadata": {},
          "execution_count": 31
        }
      ],
      "source": [
        "Dict1 = {'SUCCESS' : 1 , 'ERROR' : 0 , 'FAIL' : 0 , 'CANCEL' : 0 , 'INITIAL' : 0 }\n",
        "Dict2 = {'deposit' : 1 , 'withdrawal' : -1 , 'transfer' : 0}\n",
        "\n",
        "cleanup_nums = {'status': Dict1 , 'type' : Dict2 }\n",
        "\n",
        "Customers_DF  = Customers_DF.replace(cleanup_nums)\n",
        "Customers_DF.head()"
      ]
    },
    {
      "cell_type": "markdown",
      "metadata": {
        "id": "UOXb3lHFpJS7"
      },
      "source": [
        "By replacing the upper string variables with numbers, it enables us the ability to calculate each customer's revenue by transaction. For the calculation of each customer's revenue by transaction, we will simply multiply the columns 'amount', 'status', and 'type', and save the results in a column named 'transaction_value'.\n"
      ]
    },
    {
      "cell_type": "code",
      "execution_count": null,
      "metadata": {
        "id": "mPCG4AqWHbp4"
      },
      "outputs": [],
      "source": [
        "transaction_value = Customers_DF['amount'] * Customers_DF['status'] * Customers_DF['type']\n",
        "Customers_DF['transaction_value'] = transaction_value"
      ]
    },
    {
      "cell_type": "code",
      "execution_count": null,
      "metadata": {
        "colab": {
          "base_uri": "https://localhost:8080/",
          "height": 206
        },
        "id": "edxU2ko1HfcK",
        "outputId": "d3df2893-ae79-4e09-faed-03680e02875e"
      },
      "outputs": [
        {
          "output_type": "execute_result",
          "data": {
            "text/plain": [
              "       id                        settledAt  ftd  amount  status  type  \\\n",
              "0  5774.0 2019-12-09 10:05:27.783000+00:00    1    50.0       1     1   \n",
              "1  5774.0 2019-12-15 20:09:26.286000+00:00    0    50.0       0    -1   \n",
              "2  5774.0 2019-12-16 06:49:49.786000+00:00    0    50.0       1    -1   \n",
              "3  5825.0 2020-03-23 08:48:32.463000+00:00    1    20.0       1     1   \n",
              "4  5825.0 2020-03-23 09:31:08.219000+00:00    0    20.0       0     1   \n",
              "\n",
              "   transaction_value  \n",
              "0               50.0  \n",
              "1               -0.0  \n",
              "2              -50.0  \n",
              "3               20.0  \n",
              "4                0.0  "
            ],
            "text/html": [
              "\n",
              "  <div id=\"df-eda5cd7f-d6df-47aa-920b-51cbca3ca7fa\">\n",
              "    <div class=\"colab-df-container\">\n",
              "      <div>\n",
              "<style scoped>\n",
              "    .dataframe tbody tr th:only-of-type {\n",
              "        vertical-align: middle;\n",
              "    }\n",
              "\n",
              "    .dataframe tbody tr th {\n",
              "        vertical-align: top;\n",
              "    }\n",
              "\n",
              "    .dataframe thead th {\n",
              "        text-align: right;\n",
              "    }\n",
              "</style>\n",
              "<table border=\"1\" class=\"dataframe\">\n",
              "  <thead>\n",
              "    <tr style=\"text-align: right;\">\n",
              "      <th></th>\n",
              "      <th>id</th>\n",
              "      <th>settledAt</th>\n",
              "      <th>ftd</th>\n",
              "      <th>amount</th>\n",
              "      <th>status</th>\n",
              "      <th>type</th>\n",
              "      <th>transaction_value</th>\n",
              "    </tr>\n",
              "  </thead>\n",
              "  <tbody>\n",
              "    <tr>\n",
              "      <th>0</th>\n",
              "      <td>5774.0</td>\n",
              "      <td>2019-12-09 10:05:27.783000+00:00</td>\n",
              "      <td>1</td>\n",
              "      <td>50.0</td>\n",
              "      <td>1</td>\n",
              "      <td>1</td>\n",
              "      <td>50.0</td>\n",
              "    </tr>\n",
              "    <tr>\n",
              "      <th>1</th>\n",
              "      <td>5774.0</td>\n",
              "      <td>2019-12-15 20:09:26.286000+00:00</td>\n",
              "      <td>0</td>\n",
              "      <td>50.0</td>\n",
              "      <td>0</td>\n",
              "      <td>-1</td>\n",
              "      <td>-0.0</td>\n",
              "    </tr>\n",
              "    <tr>\n",
              "      <th>2</th>\n",
              "      <td>5774.0</td>\n",
              "      <td>2019-12-16 06:49:49.786000+00:00</td>\n",
              "      <td>0</td>\n",
              "      <td>50.0</td>\n",
              "      <td>1</td>\n",
              "      <td>-1</td>\n",
              "      <td>-50.0</td>\n",
              "    </tr>\n",
              "    <tr>\n",
              "      <th>3</th>\n",
              "      <td>5825.0</td>\n",
              "      <td>2020-03-23 08:48:32.463000+00:00</td>\n",
              "      <td>1</td>\n",
              "      <td>20.0</td>\n",
              "      <td>1</td>\n",
              "      <td>1</td>\n",
              "      <td>20.0</td>\n",
              "    </tr>\n",
              "    <tr>\n",
              "      <th>4</th>\n",
              "      <td>5825.0</td>\n",
              "      <td>2020-03-23 09:31:08.219000+00:00</td>\n",
              "      <td>0</td>\n",
              "      <td>20.0</td>\n",
              "      <td>0</td>\n",
              "      <td>1</td>\n",
              "      <td>0.0</td>\n",
              "    </tr>\n",
              "  </tbody>\n",
              "</table>\n",
              "</div>\n",
              "      <button class=\"colab-df-convert\" onclick=\"convertToInteractive('df-eda5cd7f-d6df-47aa-920b-51cbca3ca7fa')\"\n",
              "              title=\"Convert this dataframe to an interactive table.\"\n",
              "              style=\"display:none;\">\n",
              "        \n",
              "  <svg xmlns=\"http://www.w3.org/2000/svg\" height=\"24px\"viewBox=\"0 0 24 24\"\n",
              "       width=\"24px\">\n",
              "    <path d=\"M0 0h24v24H0V0z\" fill=\"none\"/>\n",
              "    <path d=\"M18.56 5.44l.94 2.06.94-2.06 2.06-.94-2.06-.94-.94-2.06-.94 2.06-2.06.94zm-11 1L8.5 8.5l.94-2.06 2.06-.94-2.06-.94L8.5 2.5l-.94 2.06-2.06.94zm10 10l.94 2.06.94-2.06 2.06-.94-2.06-.94-.94-2.06-.94 2.06-2.06.94z\"/><path d=\"M17.41 7.96l-1.37-1.37c-.4-.4-.92-.59-1.43-.59-.52 0-1.04.2-1.43.59L10.3 9.45l-7.72 7.72c-.78.78-.78 2.05 0 2.83L4 21.41c.39.39.9.59 1.41.59.51 0 1.02-.2 1.41-.59l7.78-7.78 2.81-2.81c.8-.78.8-2.07 0-2.86zM5.41 20L4 18.59l7.72-7.72 1.47 1.35L5.41 20z\"/>\n",
              "  </svg>\n",
              "      </button>\n",
              "      \n",
              "  <style>\n",
              "    .colab-df-container {\n",
              "      display:flex;\n",
              "      flex-wrap:wrap;\n",
              "      gap: 12px;\n",
              "    }\n",
              "\n",
              "    .colab-df-convert {\n",
              "      background-color: #E8F0FE;\n",
              "      border: none;\n",
              "      border-radius: 50%;\n",
              "      cursor: pointer;\n",
              "      display: none;\n",
              "      fill: #1967D2;\n",
              "      height: 32px;\n",
              "      padding: 0 0 0 0;\n",
              "      width: 32px;\n",
              "    }\n",
              "\n",
              "    .colab-df-convert:hover {\n",
              "      background-color: #E2EBFA;\n",
              "      box-shadow: 0px 1px 2px rgba(60, 64, 67, 0.3), 0px 1px 3px 1px rgba(60, 64, 67, 0.15);\n",
              "      fill: #174EA6;\n",
              "    }\n",
              "\n",
              "    [theme=dark] .colab-df-convert {\n",
              "      background-color: #3B4455;\n",
              "      fill: #D2E3FC;\n",
              "    }\n",
              "\n",
              "    [theme=dark] .colab-df-convert:hover {\n",
              "      background-color: #434B5C;\n",
              "      box-shadow: 0px 1px 3px 1px rgba(0, 0, 0, 0.15);\n",
              "      filter: drop-shadow(0px 1px 2px rgba(0, 0, 0, 0.3));\n",
              "      fill: #FFFFFF;\n",
              "    }\n",
              "  </style>\n",
              "\n",
              "      <script>\n",
              "        const buttonEl =\n",
              "          document.querySelector('#df-eda5cd7f-d6df-47aa-920b-51cbca3ca7fa button.colab-df-convert');\n",
              "        buttonEl.style.display =\n",
              "          google.colab.kernel.accessAllowed ? 'block' : 'none';\n",
              "\n",
              "        async function convertToInteractive(key) {\n",
              "          const element = document.querySelector('#df-eda5cd7f-d6df-47aa-920b-51cbca3ca7fa');\n",
              "          const dataTable =\n",
              "            await google.colab.kernel.invokeFunction('convertToInteractive',\n",
              "                                                     [key], {});\n",
              "          if (!dataTable) return;\n",
              "\n",
              "          const docLinkHtml = 'Like what you see? Visit the ' +\n",
              "            '<a target=\"_blank\" href=https://colab.research.google.com/notebooks/data_table.ipynb>data table notebook</a>'\n",
              "            + ' to learn more about interactive tables.';\n",
              "          element.innerHTML = '';\n",
              "          dataTable['output_type'] = 'display_data';\n",
              "          await google.colab.output.renderOutput(dataTable, element);\n",
              "          const docLink = document.createElement('div');\n",
              "          docLink.innerHTML = docLinkHtml;\n",
              "          element.appendChild(docLink);\n",
              "        }\n",
              "      </script>\n",
              "    </div>\n",
              "  </div>\n",
              "  "
            ]
          },
          "metadata": {},
          "execution_count": 33
        }
      ],
      "source": [
        "Customers_DF.head()"
      ]
    },
    {
      "cell_type": "markdown",
      "metadata": {
        "id": "eax2L-bFK-fd"
      },
      "source": [
        "In addition, it's clear that the dataframe contain rows with unsuccesfull transactions that do not contribute in the analysis. Therefore, we will drop all the rows where status is equal to zero. Furthermore, we will drop the columns 'status', 'amount', 'ftd' and 'type' as we does not need them anymore."
      ]
    },
    {
      "cell_type": "code",
      "execution_count": null,
      "metadata": {
        "colab": {
          "base_uri": "https://localhost:8080/",
          "height": 424
        },
        "id": "vdIyu-mKHxeg",
        "outputId": "b7e73276-1fd4-4275-b53c-735058507ad8"
      },
      "outputs": [
        {
          "output_type": "execute_result",
          "data": {
            "text/plain": [
              "              id                        settledAt  transaction_value\n",
              "0         5774.0 2019-12-09 10:05:27.783000+00:00               50.0\n",
              "2         5774.0 2019-12-16 06:49:49.786000+00:00              -50.0\n",
              "3         5825.0 2020-03-23 08:48:32.463000+00:00               20.0\n",
              "5         5825.0 2020-03-23 13:15:44.117000+00:00               -6.0\n",
              "6         5825.0 2020-03-26 09:52:46.377000+00:00               20.0\n",
              "...          ...                              ...                ...\n",
              "171934  128797.0 2022-03-10 08:40:27.015000+00:00              100.0\n",
              "171935  128850.0 2022-03-10 11:06:32.510000+00:00              159.0\n",
              "171937  128853.0 2022-03-10 09:55:57.469000+00:00               50.0\n",
              "171938  128853.0 2022-03-10 11:30:45.292000+00:00               50.0\n",
              "171939  128867.0 2022-03-10 14:14:34.583000+00:00               40.0\n",
              "\n",
              "[126391 rows x 3 columns]"
            ],
            "text/html": [
              "\n",
              "  <div id=\"df-0630bd72-6a66-4fae-990d-f726951f18b6\">\n",
              "    <div class=\"colab-df-container\">\n",
              "      <div>\n",
              "<style scoped>\n",
              "    .dataframe tbody tr th:only-of-type {\n",
              "        vertical-align: middle;\n",
              "    }\n",
              "\n",
              "    .dataframe tbody tr th {\n",
              "        vertical-align: top;\n",
              "    }\n",
              "\n",
              "    .dataframe thead th {\n",
              "        text-align: right;\n",
              "    }\n",
              "</style>\n",
              "<table border=\"1\" class=\"dataframe\">\n",
              "  <thead>\n",
              "    <tr style=\"text-align: right;\">\n",
              "      <th></th>\n",
              "      <th>id</th>\n",
              "      <th>settledAt</th>\n",
              "      <th>transaction_value</th>\n",
              "    </tr>\n",
              "  </thead>\n",
              "  <tbody>\n",
              "    <tr>\n",
              "      <th>0</th>\n",
              "      <td>5774.0</td>\n",
              "      <td>2019-12-09 10:05:27.783000+00:00</td>\n",
              "      <td>50.0</td>\n",
              "    </tr>\n",
              "    <tr>\n",
              "      <th>2</th>\n",
              "      <td>5774.0</td>\n",
              "      <td>2019-12-16 06:49:49.786000+00:00</td>\n",
              "      <td>-50.0</td>\n",
              "    </tr>\n",
              "    <tr>\n",
              "      <th>3</th>\n",
              "      <td>5825.0</td>\n",
              "      <td>2020-03-23 08:48:32.463000+00:00</td>\n",
              "      <td>20.0</td>\n",
              "    </tr>\n",
              "    <tr>\n",
              "      <th>5</th>\n",
              "      <td>5825.0</td>\n",
              "      <td>2020-03-23 13:15:44.117000+00:00</td>\n",
              "      <td>-6.0</td>\n",
              "    </tr>\n",
              "    <tr>\n",
              "      <th>6</th>\n",
              "      <td>5825.0</td>\n",
              "      <td>2020-03-26 09:52:46.377000+00:00</td>\n",
              "      <td>20.0</td>\n",
              "    </tr>\n",
              "    <tr>\n",
              "      <th>...</th>\n",
              "      <td>...</td>\n",
              "      <td>...</td>\n",
              "      <td>...</td>\n",
              "    </tr>\n",
              "    <tr>\n",
              "      <th>171934</th>\n",
              "      <td>128797.0</td>\n",
              "      <td>2022-03-10 08:40:27.015000+00:00</td>\n",
              "      <td>100.0</td>\n",
              "    </tr>\n",
              "    <tr>\n",
              "      <th>171935</th>\n",
              "      <td>128850.0</td>\n",
              "      <td>2022-03-10 11:06:32.510000+00:00</td>\n",
              "      <td>159.0</td>\n",
              "    </tr>\n",
              "    <tr>\n",
              "      <th>171937</th>\n",
              "      <td>128853.0</td>\n",
              "      <td>2022-03-10 09:55:57.469000+00:00</td>\n",
              "      <td>50.0</td>\n",
              "    </tr>\n",
              "    <tr>\n",
              "      <th>171938</th>\n",
              "      <td>128853.0</td>\n",
              "      <td>2022-03-10 11:30:45.292000+00:00</td>\n",
              "      <td>50.0</td>\n",
              "    </tr>\n",
              "    <tr>\n",
              "      <th>171939</th>\n",
              "      <td>128867.0</td>\n",
              "      <td>2022-03-10 14:14:34.583000+00:00</td>\n",
              "      <td>40.0</td>\n",
              "    </tr>\n",
              "  </tbody>\n",
              "</table>\n",
              "<p>126391 rows × 3 columns</p>\n",
              "</div>\n",
              "      <button class=\"colab-df-convert\" onclick=\"convertToInteractive('df-0630bd72-6a66-4fae-990d-f726951f18b6')\"\n",
              "              title=\"Convert this dataframe to an interactive table.\"\n",
              "              style=\"display:none;\">\n",
              "        \n",
              "  <svg xmlns=\"http://www.w3.org/2000/svg\" height=\"24px\"viewBox=\"0 0 24 24\"\n",
              "       width=\"24px\">\n",
              "    <path d=\"M0 0h24v24H0V0z\" fill=\"none\"/>\n",
              "    <path d=\"M18.56 5.44l.94 2.06.94-2.06 2.06-.94-2.06-.94-.94-2.06-.94 2.06-2.06.94zm-11 1L8.5 8.5l.94-2.06 2.06-.94-2.06-.94L8.5 2.5l-.94 2.06-2.06.94zm10 10l.94 2.06.94-2.06 2.06-.94-2.06-.94-.94-2.06-.94 2.06-2.06.94z\"/><path d=\"M17.41 7.96l-1.37-1.37c-.4-.4-.92-.59-1.43-.59-.52 0-1.04.2-1.43.59L10.3 9.45l-7.72 7.72c-.78.78-.78 2.05 0 2.83L4 21.41c.39.39.9.59 1.41.59.51 0 1.02-.2 1.41-.59l7.78-7.78 2.81-2.81c.8-.78.8-2.07 0-2.86zM5.41 20L4 18.59l7.72-7.72 1.47 1.35L5.41 20z\"/>\n",
              "  </svg>\n",
              "      </button>\n",
              "      \n",
              "  <style>\n",
              "    .colab-df-container {\n",
              "      display:flex;\n",
              "      flex-wrap:wrap;\n",
              "      gap: 12px;\n",
              "    }\n",
              "\n",
              "    .colab-df-convert {\n",
              "      background-color: #E8F0FE;\n",
              "      border: none;\n",
              "      border-radius: 50%;\n",
              "      cursor: pointer;\n",
              "      display: none;\n",
              "      fill: #1967D2;\n",
              "      height: 32px;\n",
              "      padding: 0 0 0 0;\n",
              "      width: 32px;\n",
              "    }\n",
              "\n",
              "    .colab-df-convert:hover {\n",
              "      background-color: #E2EBFA;\n",
              "      box-shadow: 0px 1px 2px rgba(60, 64, 67, 0.3), 0px 1px 3px 1px rgba(60, 64, 67, 0.15);\n",
              "      fill: #174EA6;\n",
              "    }\n",
              "\n",
              "    [theme=dark] .colab-df-convert {\n",
              "      background-color: #3B4455;\n",
              "      fill: #D2E3FC;\n",
              "    }\n",
              "\n",
              "    [theme=dark] .colab-df-convert:hover {\n",
              "      background-color: #434B5C;\n",
              "      box-shadow: 0px 1px 3px 1px rgba(0, 0, 0, 0.15);\n",
              "      filter: drop-shadow(0px 1px 2px rgba(0, 0, 0, 0.3));\n",
              "      fill: #FFFFFF;\n",
              "    }\n",
              "  </style>\n",
              "\n",
              "      <script>\n",
              "        const buttonEl =\n",
              "          document.querySelector('#df-0630bd72-6a66-4fae-990d-f726951f18b6 button.colab-df-convert');\n",
              "        buttonEl.style.display =\n",
              "          google.colab.kernel.accessAllowed ? 'block' : 'none';\n",
              "\n",
              "        async function convertToInteractive(key) {\n",
              "          const element = document.querySelector('#df-0630bd72-6a66-4fae-990d-f726951f18b6');\n",
              "          const dataTable =\n",
              "            await google.colab.kernel.invokeFunction('convertToInteractive',\n",
              "                                                     [key], {});\n",
              "          if (!dataTable) return;\n",
              "\n",
              "          const docLinkHtml = 'Like what you see? Visit the ' +\n",
              "            '<a target=\"_blank\" href=https://colab.research.google.com/notebooks/data_table.ipynb>data table notebook</a>'\n",
              "            + ' to learn more about interactive tables.';\n",
              "          element.innerHTML = '';\n",
              "          dataTable['output_type'] = 'display_data';\n",
              "          await google.colab.output.renderOutput(dataTable, element);\n",
              "          const docLink = document.createElement('div');\n",
              "          docLink.innerHTML = docLinkHtml;\n",
              "          element.appendChild(docLink);\n",
              "        }\n",
              "      </script>\n",
              "    </div>\n",
              "  </div>\n",
              "  "
            ]
          },
          "metadata": {},
          "execution_count": 34
        }
      ],
      "source": [
        "Customers_DF2 = Customers_DF.drop( Customers_DF[ Customers_DF['status'] == 0 ].index)\n",
        "Customers_DF2.drop(['status', 'amount' , 'ftd' , 'type'] , axis = 1 , inplace = True)\n",
        "\n",
        "Customers_DF2"
      ]
    },
    {
      "cell_type": "markdown",
      "metadata": {
        "id": "Qy0pCqUW98qf"
      },
      "source": [
        "# Calculating Customer Metrics:"
      ]
    },
    {
      "cell_type": "markdown",
      "metadata": {
        "id": "u1OGEWQaMHfW"
      },
      "source": [
        "After preprocessing the data, we will turn our raw transactional data into the metrics: frequency, recency, tenure (T) and  monetary_value, that we need to provide to the CLV models. For this, we will utilise the summary_data_from_transaction_data() from the lifetimes library."
      ]
    },
    {
      "cell_type": "markdown",
      "metadata": {
        "id": "oIBdHd5lM2hc"
      },
      "source": [
        "**Frequency:** The number of orders a customer has placed\n",
        "\n",
        "**Tenure:** How long a given customer has been with the company\n",
        "\n",
        "**Recency:** How long it’s been since the customer’s last purchase\n",
        "\n",
        "**Monetary value:** The average value of a given customer’s purchases.\n",
        "\n"
      ]
    },
    {
      "cell_type": "code",
      "execution_count": null,
      "metadata": {
        "colab": {
          "base_uri": "https://localhost:8080/",
          "height": 394
        },
        "id": "6J4w09gD8Pky",
        "outputId": "b5dd4c2e-9acf-469f-b8cd-adadaadaea5d"
      },
      "outputs": [
        {
          "output_type": "execute_result",
          "data": {
            "text/plain": [
              "        frequency  recency        T  monetary_value\n",
              "id                                                 \n",
              "5774.0        2.0    164.0  19826.0        0.000000\n",
              "5825.0        3.0     73.0  17308.0       11.333333\n",
              "5830.0        1.0      0.0  16948.0      100.000000\n",
              "5838.0       23.0   9051.0  18964.0       26.575217\n",
              "5839.0       19.0   4175.0  19758.0       33.000000\n",
              "5842.0        2.0    839.0  18769.0        0.000000\n",
              "5848.0        1.0      0.0  19754.0       40.000000\n",
              "5852.0       12.0   5269.0  18112.0       -7.620000\n",
              "5857.0       10.0   7403.0   8721.0     2458.200000\n",
              "5865.0        9.0   5755.0  17637.0       32.222222"
            ],
            "text/html": [
              "\n",
              "  <div id=\"df-eebb9f20-52f5-41d8-a839-ee8e7fa2c25f\">\n",
              "    <div class=\"colab-df-container\">\n",
              "      <div>\n",
              "<style scoped>\n",
              "    .dataframe tbody tr th:only-of-type {\n",
              "        vertical-align: middle;\n",
              "    }\n",
              "\n",
              "    .dataframe tbody tr th {\n",
              "        vertical-align: top;\n",
              "    }\n",
              "\n",
              "    .dataframe thead th {\n",
              "        text-align: right;\n",
              "    }\n",
              "</style>\n",
              "<table border=\"1\" class=\"dataframe\">\n",
              "  <thead>\n",
              "    <tr style=\"text-align: right;\">\n",
              "      <th></th>\n",
              "      <th>frequency</th>\n",
              "      <th>recency</th>\n",
              "      <th>T</th>\n",
              "      <th>monetary_value</th>\n",
              "    </tr>\n",
              "    <tr>\n",
              "      <th>id</th>\n",
              "      <th></th>\n",
              "      <th></th>\n",
              "      <th></th>\n",
              "      <th></th>\n",
              "    </tr>\n",
              "  </thead>\n",
              "  <tbody>\n",
              "    <tr>\n",
              "      <th>5774.0</th>\n",
              "      <td>2.0</td>\n",
              "      <td>164.0</td>\n",
              "      <td>19826.0</td>\n",
              "      <td>0.000000</td>\n",
              "    </tr>\n",
              "    <tr>\n",
              "      <th>5825.0</th>\n",
              "      <td>3.0</td>\n",
              "      <td>73.0</td>\n",
              "      <td>17308.0</td>\n",
              "      <td>11.333333</td>\n",
              "    </tr>\n",
              "    <tr>\n",
              "      <th>5830.0</th>\n",
              "      <td>1.0</td>\n",
              "      <td>0.0</td>\n",
              "      <td>16948.0</td>\n",
              "      <td>100.000000</td>\n",
              "    </tr>\n",
              "    <tr>\n",
              "      <th>5838.0</th>\n",
              "      <td>23.0</td>\n",
              "      <td>9051.0</td>\n",
              "      <td>18964.0</td>\n",
              "      <td>26.575217</td>\n",
              "    </tr>\n",
              "    <tr>\n",
              "      <th>5839.0</th>\n",
              "      <td>19.0</td>\n",
              "      <td>4175.0</td>\n",
              "      <td>19758.0</td>\n",
              "      <td>33.000000</td>\n",
              "    </tr>\n",
              "    <tr>\n",
              "      <th>5842.0</th>\n",
              "      <td>2.0</td>\n",
              "      <td>839.0</td>\n",
              "      <td>18769.0</td>\n",
              "      <td>0.000000</td>\n",
              "    </tr>\n",
              "    <tr>\n",
              "      <th>5848.0</th>\n",
              "      <td>1.0</td>\n",
              "      <td>0.0</td>\n",
              "      <td>19754.0</td>\n",
              "      <td>40.000000</td>\n",
              "    </tr>\n",
              "    <tr>\n",
              "      <th>5852.0</th>\n",
              "      <td>12.0</td>\n",
              "      <td>5269.0</td>\n",
              "      <td>18112.0</td>\n",
              "      <td>-7.620000</td>\n",
              "    </tr>\n",
              "    <tr>\n",
              "      <th>5857.0</th>\n",
              "      <td>10.0</td>\n",
              "      <td>7403.0</td>\n",
              "      <td>8721.0</td>\n",
              "      <td>2458.200000</td>\n",
              "    </tr>\n",
              "    <tr>\n",
              "      <th>5865.0</th>\n",
              "      <td>9.0</td>\n",
              "      <td>5755.0</td>\n",
              "      <td>17637.0</td>\n",
              "      <td>32.222222</td>\n",
              "    </tr>\n",
              "  </tbody>\n",
              "</table>\n",
              "</div>\n",
              "      <button class=\"colab-df-convert\" onclick=\"convertToInteractive('df-eebb9f20-52f5-41d8-a839-ee8e7fa2c25f')\"\n",
              "              title=\"Convert this dataframe to an interactive table.\"\n",
              "              style=\"display:none;\">\n",
              "        \n",
              "  <svg xmlns=\"http://www.w3.org/2000/svg\" height=\"24px\"viewBox=\"0 0 24 24\"\n",
              "       width=\"24px\">\n",
              "    <path d=\"M0 0h24v24H0V0z\" fill=\"none\"/>\n",
              "    <path d=\"M18.56 5.44l.94 2.06.94-2.06 2.06-.94-2.06-.94-.94-2.06-.94 2.06-2.06.94zm-11 1L8.5 8.5l.94-2.06 2.06-.94-2.06-.94L8.5 2.5l-.94 2.06-2.06.94zm10 10l.94 2.06.94-2.06 2.06-.94-2.06-.94-.94-2.06-.94 2.06-2.06.94z\"/><path d=\"M17.41 7.96l-1.37-1.37c-.4-.4-.92-.59-1.43-.59-.52 0-1.04.2-1.43.59L10.3 9.45l-7.72 7.72c-.78.78-.78 2.05 0 2.83L4 21.41c.39.39.9.59 1.41.59.51 0 1.02-.2 1.41-.59l7.78-7.78 2.81-2.81c.8-.78.8-2.07 0-2.86zM5.41 20L4 18.59l7.72-7.72 1.47 1.35L5.41 20z\"/>\n",
              "  </svg>\n",
              "      </button>\n",
              "      \n",
              "  <style>\n",
              "    .colab-df-container {\n",
              "      display:flex;\n",
              "      flex-wrap:wrap;\n",
              "      gap: 12px;\n",
              "    }\n",
              "\n",
              "    .colab-df-convert {\n",
              "      background-color: #E8F0FE;\n",
              "      border: none;\n",
              "      border-radius: 50%;\n",
              "      cursor: pointer;\n",
              "      display: none;\n",
              "      fill: #1967D2;\n",
              "      height: 32px;\n",
              "      padding: 0 0 0 0;\n",
              "      width: 32px;\n",
              "    }\n",
              "\n",
              "    .colab-df-convert:hover {\n",
              "      background-color: #E2EBFA;\n",
              "      box-shadow: 0px 1px 2px rgba(60, 64, 67, 0.3), 0px 1px 3px 1px rgba(60, 64, 67, 0.15);\n",
              "      fill: #174EA6;\n",
              "    }\n",
              "\n",
              "    [theme=dark] .colab-df-convert {\n",
              "      background-color: #3B4455;\n",
              "      fill: #D2E3FC;\n",
              "    }\n",
              "\n",
              "    [theme=dark] .colab-df-convert:hover {\n",
              "      background-color: #434B5C;\n",
              "      box-shadow: 0px 1px 3px 1px rgba(0, 0, 0, 0.15);\n",
              "      filter: drop-shadow(0px 1px 2px rgba(0, 0, 0, 0.3));\n",
              "      fill: #FFFFFF;\n",
              "    }\n",
              "  </style>\n",
              "\n",
              "      <script>\n",
              "        const buttonEl =\n",
              "          document.querySelector('#df-eebb9f20-52f5-41d8-a839-ee8e7fa2c25f button.colab-df-convert');\n",
              "        buttonEl.style.display =\n",
              "          google.colab.kernel.accessAllowed ? 'block' : 'none';\n",
              "\n",
              "        async function convertToInteractive(key) {\n",
              "          const element = document.querySelector('#df-eebb9f20-52f5-41d8-a839-ee8e7fa2c25f');\n",
              "          const dataTable =\n",
              "            await google.colab.kernel.invokeFunction('convertToInteractive',\n",
              "                                                     [key], {});\n",
              "          if (!dataTable) return;\n",
              "\n",
              "          const docLinkHtml = 'Like what you see? Visit the ' +\n",
              "            '<a target=\"_blank\" href=https://colab.research.google.com/notebooks/data_table.ipynb>data table notebook</a>'\n",
              "            + ' to learn more about interactive tables.';\n",
              "          element.innerHTML = '';\n",
              "          dataTable['output_type'] = 'display_data';\n",
              "          await google.colab.output.renderOutput(dataTable, element);\n",
              "          const docLink = document.createElement('div');\n",
              "          docLink.innerHTML = docLinkHtml;\n",
              "          element.appendChild(docLink);\n",
              "        }\n",
              "      </script>\n",
              "    </div>\n",
              "  </div>\n",
              "  "
            ]
          },
          "metadata": {},
          "execution_count": 35
        }
      ],
      "source": [
        "Metrics_DF = ( lifetimes.utils.summary_data_from_transaction_data(\n",
        "    Customers_DF2,\n",
        "    customer_id_col='id',\n",
        "    datetime_col='settledAt',\n",
        "    observation_period_end = Customers_DF2['settledAt'].max(), # setting as the end of the observation period the DateTime of the last transaction\n",
        "    freq='h', #Hour - it will average transaction value by hour before calculating the final average transaction value\n",
        "    monetary_value_col= 'transaction_value',\n",
        "    include_first_transaction = True # So that the first transaction of each customer to be included in the metrics\n",
        "    ))\n",
        "\n",
        "\n",
        "Metrics_DF.head(10)"
      ]
    },
    {
      "cell_type": "code",
      "source": [
        "Positives = Metrics_DF.loc[Metrics_DF[\"monetary_value\"] > 0 ,  ['monetary_value'] ].count()\n",
        "Negatives = Metrics_DF.loc[Metrics_DF[\"monetary_value\"] <= 0 ,  ['monetary_value'] ].count()\n",
        "Zeros = Metrics_DF.loc[Metrics_DF[\"monetary_value\"] == 0 ,  ['monetary_value'] ].count()"
      ],
      "metadata": {
        "id": "jrHD9vb-SqMG"
      },
      "execution_count": null,
      "outputs": []
    },
    {
      "cell_type": "code",
      "source": [
        "print(f'The positive revenue counts are {Positives[0]} , the negative revenue counts are {Negatives[0]} and the count of zero revenues are {Zeros[0]}')"
      ],
      "metadata": {
        "colab": {
          "base_uri": "https://localhost:8080/"
        },
        "id": "-RsEUqE3TXRk",
        "outputId": "4310c3c7-d8e7-4b90-afd7-8353c5dfdbb3"
      },
      "execution_count": null,
      "outputs": [
        {
          "output_type": "stream",
          "name": "stdout",
          "text": [
            "The positive revenue counts are 5687 , the negative revenue counts are 974 and the count of zero revenues are 529\n"
          ]
        }
      ]
    },
    {
      "cell_type": "code",
      "execution_count": null,
      "metadata": {
        "colab": {
          "base_uri": "https://localhost:8080/",
          "height": 406
        },
        "id": "j_QO_KSI8Pgn",
        "outputId": "efd5ca51-ff6e-4dcb-b41e-66dddd49dd0b"
      },
      "outputs": [
        {
          "output_type": "execute_result",
          "data": {
            "text/plain": [
              "<matplotlib.axes._subplots.AxesSubplot at 0x7f464e0be760>"
            ]
          },
          "metadata": {},
          "execution_count": 38
        },
        {
          "output_type": "display_data",
          "data": {
            "text/plain": [
              "<Figure size 1080x432 with 2 Axes>"
            ],
            "image/png": "[encoded data removed]"
          },
          "metadata": {
            "needs_background": "light"
          }
        }
      ],
      "source": [
        "plt.figure(figsize=(15, 6))\n",
        "plt.subplot(1,2,1)\n",
        "sns.distplot(Metrics_DF['recency'])\n",
        "plt.subplot(1,2,2)\n",
        "sns.distplot(Metrics_DF['frequency'])"
      ]
    },
    {
      "cell_type": "code",
      "execution_count": null,
      "metadata": {
        "colab": {
          "base_uri": "https://localhost:8080/",
          "height": 418
        },
        "id": "t9-Oplpaer6S",
        "outputId": "afe31de0-ba9c-4599-8c4a-ef38c97bd138"
      },
      "outputs": [
        {
          "output_type": "execute_result",
          "data": {
            "text/plain": [
              "<matplotlib.axes._subplots.AxesSubplot at 0x7f464e04a6d0>"
            ]
          },
          "metadata": {},
          "execution_count": 39
        },
        {
          "output_type": "display_data",
          "data": {
            "text/plain": [
              "<Figure size 1080x432 with 2 Axes>"
            ],
            "image/png": "[encoded data removed]"
          },
          "metadata": {
            "needs_background": "light"
          }
        }
      ],
      "source": [
        "plt.figure(figsize=(15, 6))\n",
        "plt.subplot(1,2,1)\n",
        "sns.distplot(Metrics_DF['monetary_value'])\n",
        "plt.subplot(1,2,2)\n",
        "sns.distplot(Metrics_DF['T'])"
      ]
    },
    {
      "cell_type": "markdown",
      "metadata": {
        "id": "JoRwk3S6Ivlj"
      },
      "source": [
        "As we can observe, most customers have placed a small amount of low-value orders, as monetary value as well as frequency, are distributed around zero and only a few customers had placed higher-value transactions. Furthermore, we can see a small decline in new customers as the tenure rates near zero are lower."
      ]
    },
    {
      "cell_type": "markdown",
      "metadata": {
        "id": "vSMJjVBYhFhj"
      },
      "source": [
        "Now that we have generated the necessary statistics, we will proceed with modeling CLV. It is known that the Customer's Lifetime Value is equal to the expected number of transactions multiplied by the expected average profit, hence we will use 2 separate models. We will use the BG-NBD model, to predict the expected number of transactions a customer will make in a future period and the Linear Regression model to predict the expected average value of future transactions."
      ]
    },
    {
      "cell_type": "markdown",
      "metadata": {
        "id": "z8h-muyNfvA1"
      },
      "source": [
        "Following *Pareto's Principle*, '80% of the effect comes from 20% of the causes'. Its application to this business problem results in the assumption that only 20% of customers' purchases contribute to 80% of the firm's revenue. Therefore, apart from just modeling the Customer's Lifetime Value, we have to investigate further the behavior of the consumers. This will be achieved by plotting the results of BG-NBD and Gamma Gamma and performing the necessary data analytics."
      ]
    },
    {
      "cell_type": "markdown",
      "metadata": {
        "id": "V4WjIhl6hpcf"
      },
      "source": [
        "# Modeling CLV"
      ]
    },
    {
      "cell_type": "markdown",
      "metadata": {
        "id": "nW34k11AjL9o"
      },
      "source": [
        "## BG-NBD"
      ]
    },
    {
      "cell_type": "markdown",
      "metadata": {
        "id": "gf3uEw1xjSGF"
      },
      "source": [
        "Beta Geometric / Negative Binomial Distribution, known as BG-NBD Model, will model each customer’s purchase behaviors’ distribution and will predict the expected number of transactions for each consumer for a future period."
      ]
    },
    {
      "cell_type": "markdown",
      "metadata": {
        "id": "fiXkhz9uUrqb"
      },
      "source": [
        "This model has the following assumptions:\n",
        "\n",
        "* Each individual, i, has a hidden lambda_i and p_i parameter\n",
        "* These come from a population wide Gamma and a Beta distribution respectively.\n",
        "* Individuals purchases follow a Poisson process with rate lambda_i*t .\n",
        "* After each purchase, an individual has a p_i probability of dieing (never buying again)."
      ]
    },
    {
      "cell_type": "markdown",
      "metadata": {
        "id": "0bKNI_lIllWG"
      },
      "source": [
        "Why use the BG-NBD over any regression model? The BG-NBD model calculates the probability of whether a customer is active or not, in contrast with any regression model. Regression models average past transaction data and conclude that the same number of purchases will occur in the future regardless if the customer is a churn or not, which fails the logic that surrounds the business-wise point of view."
      ]
    },
    {
      "cell_type": "markdown",
      "metadata": {
        "id": "mkiy96wZDMLd"
      },
      "source": [
        "###Fitting the BG-NBD model on data from the summary_data_from_transaction_data  function"
      ]
    },
    {
      "cell_type": "code",
      "execution_count": null,
      "metadata": {
        "colab": {
          "base_uri": "https://localhost:8080/"
        },
        "id": "CYNNl1-o8PTF",
        "outputId": "e0041709-0b63-45f6-f2b2-130ea745071e"
      },
      "outputs": [
        {
          "output_type": "execute_result",
          "data": {
            "text/plain": [
              "<lifetimes.BetaGeoFitter: fitted with 6661 subjects, a: 0.67, alpha: 80.53, b: 3.37, r: 0.83>"
            ]
          },
          "metadata": {},
          "execution_count": 40
        }
      ],
      "source": [
        "bgf = BetaGeoFitter(penalizer_coef=0)\n",
        "# Fitting the data into the BG-NBD model\n",
        "bgf.fit(Metrics_DF['frequency'], Metrics_DF['recency'], Metrics_DF['T'])"
      ]
    },
    {
      "cell_type": "markdown",
      "metadata": {
        "id": "0DjR0B1suQ6b"
      },
      "source": [
        "### F/R Matrix Visualization:"
      ]
    },
    {
      "cell_type": "markdown",
      "metadata": {
        "id": "PCiwBFCvuOIZ"
      },
      "source": [
        "The BG-NBD model will get as input the frequency and recency and will output the F/R Matrix, a matrix with the expected number of purchases over the next time period. After that, we will visualize the results."
      ]
    },
    {
      "cell_type": "code",
      "execution_count": null,
      "metadata": {
        "colab": {
          "base_uri": "https://localhost:8080/",
          "height": 655
        },
        "id": "PBMLC0vv8PP8",
        "outputId": "3792860d-0c38-442c-c6b1-45c1d93f041e"
      },
      "outputs": [
        {
          "output_type": "execute_result",
          "data": {
            "text/plain": [
              "<matplotlib.axes._subplots.AxesSubplot at 0x7f464df457f0>"
            ]
          },
          "metadata": {},
          "execution_count": 41
        },
        {
          "output_type": "display_data",
          "data": {
            "text/plain": [
              "<Figure size 1080x720 with 2 Axes>"
            ],
            "image/png": "[encoded data removed]"
          },
          "metadata": {
            "needs_background": "light"
          }
        }
      ],
      "source": [
        "plt.figure(figsize=(15, 10))\n",
        "plot_frequency_recency_matrix(bgf)"
      ]
    },
    {
      "cell_type": "markdown",
      "metadata": {
        "id": "5Z-KEBVjwzhS"
      },
      "source": [
        "From the heatmap above we can see that most customers are predicted to not purchase again, except from the customers with high frequency and recency."
      ]
    },
    {
      "cell_type": "code",
      "execution_count": null,
      "metadata": {
        "colab": {
          "base_uri": "https://localhost:8080/",
          "height": 655
        },
        "id": "CL_79dO68PMa",
        "outputId": "8cb5c8dd-8dc0-4bf8-bab1-e1c6eeda3a6c"
      },
      "outputs": [
        {
          "output_type": "execute_result",
          "data": {
            "text/plain": [
              "<matplotlib.axes._subplots.AxesSubplot at 0x7f465057d9a0>"
            ]
          },
          "metadata": {},
          "execution_count": 42
        },
        {
          "output_type": "display_data",
          "data": {
            "text/plain": [
              "<Figure size 1080x720 with 2 Axes>"
            ],
            "image/png": "[encoded data removed]"
          },
          "metadata": {
            "needs_background": "light"
          }
        }
      ],
      "source": [
        "plt.figure(figsize=(15 , 10))\n",
        "plot_probability_alive_matrix(bgf)"
      ]
    },
    {
      "cell_type": "markdown",
      "metadata": {
        "id": "bP9THnvJxlyx"
      },
      "source": [
        "It is visible that most customers are likely to not be active anymore, with only the exception of the customers who present high frequency and recency in transactions."
      ]
    },
    {
      "cell_type": "markdown",
      "metadata": {
        "id": "I8xCKLe6x_xf"
      },
      "source": [
        "Conclusively, the consumers that are predicted to be active and to purchase again in the future are the customers with high frequency and recency."
      ]
    },
    {
      "cell_type": "markdown",
      "source": [
        "### Calibration / Observation period"
      ],
      "metadata": {
        "id": "bZ1XhFkJ73jK"
      }
    },
    {
      "cell_type": "markdown",
      "metadata": {
        "id": "I7BEbJ-Cy9b2"
      },
      "source": [
        "Because the data do not follow a poison distribution, it is expected that the model will lack some accuracy."
      ]
    },
    {
      "cell_type": "markdown",
      "metadata": {
        "id": "e97IXk5l_QhN"
      },
      "source": [
        "We will use the calibration_and_holdout_data function from the Lifetimes Library. This function splits the dataframe into a calibration and an observation period.The calibration period is used for training the model, and the observation period for testing it.\n",
        "\n",
        "We will predict the expected number of transactions for the last 3 months. Therefore, the chosen calibration period starts from the date of the first transaction in the dataset and ends on 2021-12-31 23:49:13.857000+00:00. Immediately after this period the observation period starts, and ends on the DateTime of the last transaction."
      ]
    },
    {
      "cell_type": "code",
      "execution_count": null,
      "metadata": {
        "id": "Hy_Te6rE8Ini"
      },
      "outputs": [],
      "source": [
        "calibration_holdout_matrix = calibration_and_holdout_data( Customers_DF2,\n",
        "                                                    customer_id_col = 'id',\n",
        "                                                    datetime_col = 'settledAt',\n",
        "                                                    calibration_period_end = '2021-12-31 23:49:13.857000+00:00',\n",
        "                                                    observation_period_end= Customers_DF2['settledAt'].max(),  # setting as the end of the observation period the DateTime of the last transaction\n",
        "                                                    freq='h', #Hour - it will average transaction value by hour before calculating the final average transaction value\n",
        "                                                    monetary_value_col = 'transaction_value',\n",
        "                                                    include_first_transaction = True  # So that the first transaction of each customer to be included in the metrics\n",
        "                                                   )\n",
        ""
      ]
    },
    {
      "cell_type": "code",
      "execution_count": null,
      "metadata": {
        "colab": {
          "base_uri": "https://localhost:8080/",
          "height": 519
        },
        "id": "GwGaZsm--BOS",
        "outputId": "01d415be-e922-4e06-939b-50e613a23940"
      },
      "outputs": [
        {
          "output_type": "execute_result",
          "data": {
            "text/plain": [
              "          frequency_cal  recency_cal    T_cal  monetary_value_cal  \\\n",
              "id                                                                  \n",
              "5774.0              2.0        164.0  18085.0            0.000000   \n",
              "5825.0              3.0         73.0  15567.0           11.333333   \n",
              "5830.0              1.0          0.0  15207.0          100.000000   \n",
              "5838.0             23.0       9051.0  17223.0           26.575217   \n",
              "5839.0             19.0       4175.0  18017.0           33.000000   \n",
              "...                 ...          ...      ...                 ...   \n",
              "116466.0            1.0          0.0    252.0         5000.000000   \n",
              "116536.0            1.0          0.0    205.0           20.000000   \n",
              "116576.0            1.0          0.0    108.0          530.000000   \n",
              "116712.0            2.0         24.0     58.0           90.000000   \n",
              "116886.0            1.0          0.0     58.0           30.000000   \n",
              "\n",
              "          frequency_holdout  monetary_value_holdout  duration_holdout  \n",
              "id                                                                     \n",
              "5774.0                  0.0                   0.000            1741.0  \n",
              "5825.0                  0.0                   0.000            1741.0  \n",
              "5830.0                  0.0                   0.000            1741.0  \n",
              "5838.0                  0.0                   0.000            1741.0  \n",
              "5839.0                  0.0                   0.000            1741.0  \n",
              "...                     ...                     ...               ...  \n",
              "116466.0                4.0                6900.000            1741.0  \n",
              "116536.0                0.0                   0.000            1741.0  \n",
              "116576.0                8.0                -118.375            1741.0  \n",
              "116712.0                0.0                   0.000            1741.0  \n",
              "116886.0               20.0                   2.095            1741.0  \n",
              "\n",
              "[6180 rows x 7 columns]"
            ],
            "text/html": [
              "\n",
              "  <div id=\"df-19213b69-99f8-44ec-afc7-fc25805e8b1b\">\n",
              "    <div class=\"colab-df-container\">\n",
              "      <div>\n",
              "<style scoped>\n",
              "    .dataframe tbody tr th:only-of-type {\n",
              "        vertical-align: middle;\n",
              "    }\n",
              "\n",
              "    .dataframe tbody tr th {\n",
              "        vertical-align: top;\n",
              "    }\n",
              "\n",
              "    .dataframe thead th {\n",
              "        text-align: right;\n",
              "    }\n",
              "</style>\n",
              "<table border=\"1\" class=\"dataframe\">\n",
              "  <thead>\n",
              "    <tr style=\"text-align: right;\">\n",
              "      <th></th>\n",
              "      <th>frequency_cal</th>\n",
              "      <th>recency_cal</th>\n",
              "      <th>T_cal</th>\n",
              "      <th>monetary_value_cal</th>\n",
              "      <th>frequency_holdout</th>\n",
              "      <th>monetary_value_holdout</th>\n",
              "      <th>duration_holdout</th>\n",
              "    </tr>\n",
              "    <tr>\n",
              "      <th>id</th>\n",
              "      <th></th>\n",
              "      <th></th>\n",
              "      <th></th>\n",
              "      <th></th>\n",
              "      <th></th>\n",
              "      <th></th>\n",
              "      <th></th>\n",
              "    </tr>\n",
              "  </thead>\n",
              "  <tbody>\n",
              "    <tr>\n",
              "      <th>5774.0</th>\n",
              "      <td>2.0</td>\n",
              "      <td>164.0</td>\n",
              "      <td>18085.0</td>\n",
              "      <td>0.000000</td>\n",
              "      <td>0.0</td>\n",
              "      <td>0.000</td>\n",
              "      <td>1741.0</td>\n",
              "    </tr>\n",
              "    <tr>\n",
              "      <th>5825.0</th>\n",
              "      <td>3.0</td>\n",
              "      <td>73.0</td>\n",
              "      <td>15567.0</td>\n",
              "      <td>11.333333</td>\n",
              "      <td>0.0</td>\n",
              "      <td>0.000</td>\n",
              "      <td>1741.0</td>\n",
              "    </tr>\n",
              "    <tr>\n",
              "      <th>5830.0</th>\n",
              "      <td>1.0</td>\n",
              "      <td>0.0</td>\n",
              "      <td>15207.0</td>\n",
              "      <td>100.000000</td>\n",
              "      <td>0.0</td>\n",
              "      <td>0.000</td>\n",
              "      <td>1741.0</td>\n",
              "    </tr>\n",
              "    <tr>\n",
              "      <th>5838.0</th>\n",
              "      <td>23.0</td>\n",
              "      <td>9051.0</td>\n",
              "      <td>17223.0</td>\n",
              "      <td>26.575217</td>\n",
              "      <td>0.0</td>\n",
              "      <td>0.000</td>\n",
              "      <td>1741.0</td>\n",
              "    </tr>\n",
              "    <tr>\n",
              "      <th>5839.0</th>\n",
              "      <td>19.0</td>\n",
              "      <td>4175.0</td>\n",
              "      <td>18017.0</td>\n",
              "      <td>33.000000</td>\n",
              "      <td>0.0</td>\n",
              "      <td>0.000</td>\n",
              "      <td>1741.0</td>\n",
              "    </tr>\n",
              "    <tr>\n",
              "      <th>...</th>\n",
              "      <td>...</td>\n",
              "      <td>...</td>\n",
              "      <td>...</td>\n",
              "      <td>...</td>\n",
              "      <td>...</td>\n",
              "      <td>...</td>\n",
              "      <td>...</td>\n",
              "    </tr>\n",
              "    <tr>\n",
              "      <th>116466.0</th>\n",
              "      <td>1.0</td>\n",
              "      <td>0.0</td>\n",
              "      <td>252.0</td>\n",
              "      <td>5000.000000</td>\n",
              "      <td>4.0</td>\n",
              "      <td>6900.000</td>\n",
              "      <td>1741.0</td>\n",
              "    </tr>\n",
              "    <tr>\n",
              "      <th>116536.0</th>\n",
              "      <td>1.0</td>\n",
              "      <td>0.0</td>\n",
              "      <td>205.0</td>\n",
              "      <td>20.000000</td>\n",
              "      <td>0.0</td>\n",
              "      <td>0.000</td>\n",
              "      <td>1741.0</td>\n",
              "    </tr>\n",
              "    <tr>\n",
              "      <th>116576.0</th>\n",
              "      <td>1.0</td>\n",
              "      <td>0.0</td>\n",
              "      <td>108.0</td>\n",
              "      <td>530.000000</td>\n",
              "      <td>8.0</td>\n",
              "      <td>-118.375</td>\n",
              "      <td>1741.0</td>\n",
              "    </tr>\n",
              "    <tr>\n",
              "      <th>116712.0</th>\n",
              "      <td>2.0</td>\n",
              "      <td>24.0</td>\n",
              "      <td>58.0</td>\n",
              "      <td>90.000000</td>\n",
              "      <td>0.0</td>\n",
              "      <td>0.000</td>\n",
              "      <td>1741.0</td>\n",
              "    </tr>\n",
              "    <tr>\n",
              "      <th>116886.0</th>\n",
              "      <td>1.0</td>\n",
              "      <td>0.0</td>\n",
              "      <td>58.0</td>\n",
              "      <td>30.000000</td>\n",
              "      <td>20.0</td>\n",
              "      <td>2.095</td>\n",
              "      <td>1741.0</td>\n",
              "    </tr>\n",
              "  </tbody>\n",
              "</table>\n",
              "<p>6180 rows × 7 columns</p>\n",
              "</div>\n",
              "      <button class=\"colab-df-convert\" onclick=\"convertToInteractive('df-19213b69-99f8-44ec-afc7-fc25805e8b1b')\"\n",
              "              title=\"Convert this dataframe to an interactive table.\"\n",
              "              style=\"display:none;\">\n",
              "        \n",
              "  <svg xmlns=\"http://www.w3.org/2000/svg\" height=\"24px\"viewBox=\"0 0 24 24\"\n",
              "       width=\"24px\">\n",
              "    <path d=\"M0 0h24v24H0V0z\" fill=\"none\"/>\n",
              "    <path d=\"M18.56 5.44l.94 2.06.94-2.06 2.06-.94-2.06-.94-.94-2.06-.94 2.06-2.06.94zm-11 1L8.5 8.5l.94-2.06 2.06-.94-2.06-.94L8.5 2.5l-.94 2.06-2.06.94zm10 10l.94 2.06.94-2.06 2.06-.94-2.06-.94-.94-2.06-.94 2.06-2.06.94z\"/><path d=\"M17.41 7.96l-1.37-1.37c-.4-.4-.92-.59-1.43-.59-.52 0-1.04.2-1.43.59L10.3 9.45l-7.72 7.72c-.78.78-.78 2.05 0 2.83L4 21.41c.39.39.9.59 1.41.59.51 0 1.02-.2 1.41-.59l7.78-7.78 2.81-2.81c.8-.78.8-2.07 0-2.86zM5.41 20L4 18.59l7.72-7.72 1.47 1.35L5.41 20z\"/>\n",
              "  </svg>\n",
              "      </button>\n",
              "      \n",
              "  <style>\n",
              "    .colab-df-container {\n",
              "      display:flex;\n",
              "      flex-wrap:wrap;\n",
              "      gap: 12px;\n",
              "    }\n",
              "\n",
              "    .colab-df-convert {\n",
              "      background-color: #E8F0FE;\n",
              "      border: none;\n",
              "      border-radius: 50%;\n",
              "      cursor: pointer;\n",
              "      display: none;\n",
              "      fill: #1967D2;\n",
              "      height: 32px;\n",
              "      padding: 0 0 0 0;\n",
              "      width: 32px;\n",
              "    }\n",
              "\n",
              "    .colab-df-convert:hover {\n",
              "      background-color: #E2EBFA;\n",
              "      box-shadow: 0px 1px 2px rgba(60, 64, 67, 0.3), 0px 1px 3px 1px rgba(60, 64, 67, 0.15);\n",
              "      fill: #174EA6;\n",
              "    }\n",
              "\n",
              "    [theme=dark] .colab-df-convert {\n",
              "      background-color: #3B4455;\n",
              "      fill: #D2E3FC;\n",
              "    }\n",
              "\n",
              "    [theme=dark] .colab-df-convert:hover {\n",
              "      background-color: #434B5C;\n",
              "      box-shadow: 0px 1px 3px 1px rgba(0, 0, 0, 0.15);\n",
              "      filter: drop-shadow(0px 1px 2px rgba(0, 0, 0, 0.3));\n",
              "      fill: #FFFFFF;\n",
              "    }\n",
              "  </style>\n",
              "\n",
              "      <script>\n",
              "        const buttonEl =\n",
              "          document.querySelector('#df-19213b69-99f8-44ec-afc7-fc25805e8b1b button.colab-df-convert');\n",
              "        buttonEl.style.display =\n",
              "          google.colab.kernel.accessAllowed ? 'block' : 'none';\n",
              "\n",
              "        async function convertToInteractive(key) {\n",
              "          const element = document.querySelector('#df-19213b69-99f8-44ec-afc7-fc25805e8b1b');\n",
              "          const dataTable =\n",
              "            await google.colab.kernel.invokeFunction('convertToInteractive',\n",
              "                                                     [key], {});\n",
              "          if (!dataTable) return;\n",
              "\n",
              "          const docLinkHtml = 'Like what you see? Visit the ' +\n",
              "            '<a target=\"_blank\" href=https://colab.research.google.com/notebooks/data_table.ipynb>data table notebook</a>'\n",
              "            + ' to learn more about interactive tables.';\n",
              "          element.innerHTML = '';\n",
              "          dataTable['output_type'] = 'display_data';\n",
              "          await google.colab.output.renderOutput(dataTable, element);\n",
              "          const docLink = document.createElement('div');\n",
              "          docLink.innerHTML = docLinkHtml;\n",
              "          element.appendChild(docLink);\n",
              "        }\n",
              "      </script>\n",
              "    </div>\n",
              "  </div>\n",
              "  "
            ]
          },
          "metadata": {},
          "execution_count": 44
        }
      ],
      "source": [
        "calibration_holdout_matrix"
      ]
    },
    {
      "cell_type": "markdown",
      "source": [
        "Observation, calibration_holdout_matrix has 6180 rows out of the initial 6661, because it cropped out the new customers that appeared for the first time in the observation period."
      ],
      "metadata": {
        "id": "Fg_kZ1GRhvN8"
      }
    },
    {
      "cell_type": "markdown",
      "metadata": {
        "id": "CW_3oW8mDZyC"
      },
      "source": [
        "### Fitting the BG-NBD model on data from the calibration_and_holdout_data  function"
      ]
    },
    {
      "cell_type": "code",
      "execution_count": null,
      "metadata": {
        "colab": {
          "base_uri": "https://localhost:8080/"
        },
        "id": "1X9uryHJ9rNI",
        "outputId": "8cf5845d-c613-4a60-b4eb-ccc1ea5e0a74"
      },
      "outputs": [
        {
          "output_type": "execute_result",
          "data": {
            "text/plain": [
              "<lifetimes.BetaGeoFitter: fitted with 6180 subjects, a: 0.71, alpha: 80.09, b: 3.50, r: 0.84>"
            ]
          },
          "metadata": {},
          "execution_count": 45
        }
      ],
      "source": [
        "bgf = BetaGeoFitter(penalizer_coef=0)\n",
        "# Fitting the data into the BG-NBD model\n",
        "bgf.fit(calibration_holdout_matrix['frequency_cal'],\n",
        "        calibration_holdout_matrix['recency_cal'],\n",
        "        calibration_holdout_matrix['T_cal'])"
      ]
    },
    {
      "cell_type": "code",
      "execution_count": null,
      "metadata": {
        "colab": {
          "base_uri": "https://localhost:8080/",
          "height": 313
        },
        "id": "V8B-65po-f2v",
        "outputId": "02d8f419-f9ef-4bd9-c06f-eba60f2b9d95"
      },
      "outputs": [
        {
          "output_type": "execute_result",
          "data": {
            "text/plain": [
              "<matplotlib.axes._subplots.AxesSubplot at 0x7f4650ab6a90>"
            ]
          },
          "metadata": {},
          "execution_count": 46
        },
        {
          "output_type": "display_data",
          "data": {
            "text/plain": [
              "<Figure size 432x288 with 1 Axes>"
            ],
            "image/png": "[encoded data removed]"
          },
          "metadata": {
            "needs_background": "light"
          }
        }
      ],
      "source": [
        "plot_calibration_purchases_vs_holdout_purchases(bgf, calibration_holdout_matrix)"
      ]
    },
    {
      "cell_type": "code",
      "execution_count": null,
      "metadata": {
        "colab": {
          "base_uri": "https://localhost:8080/",
          "height": 319
        },
        "id": "kb3H93pa-0CZ",
        "outputId": "36583a92-faee-4444-ebbf-bdd5473b8d6b"
      },
      "outputs": [
        {
          "output_type": "execute_result",
          "data": {
            "text/plain": [
              "<matplotlib.axes._subplots.AxesSubplot at 0x7f4650b30d30>"
            ]
          },
          "metadata": {},
          "execution_count": 47
        },
        {
          "output_type": "display_data",
          "data": {
            "text/plain": [
              "<Figure size 432x288 with 1 Axes>"
            ],
            "image/png": "[encoded data removed]"
          },
          "metadata": {
            "needs_background": "light"
          }
        }
      ],
      "source": [
        "plot_period_transactions(bgf)"
      ]
    },
    {
      "cell_type": "markdown",
      "metadata": {
        "id": "S5xdyIss_CwP"
      },
      "source": [
        "As expected, the model is a mediocre one."
      ]
    },
    {
      "cell_type": "markdown",
      "metadata": {
        "id": "MVqlrCXs4EAN"
      },
      "source": [
        "### Prediction of Customers Purchases Analysis"
      ]
    },
    {
      "cell_type": "markdown",
      "metadata": {
        "id": "RMhuMEIBAcZ_"
      },
      "source": [
        "Now, we will predict the customer's 5838 expected number of future purchases in the next 3 months, after the end of the calibration period."
      ]
    },
    {
      "cell_type": "code",
      "execution_count": null,
      "metadata": {
        "colab": {
          "base_uri": "https://localhost:8080/"
        },
        "id": "BCTtE91E4C_W",
        "outputId": "19ce995b-7381-49f8-cd79-594a1663bd9b"
      },
      "outputs": [
        {
          "output_type": "execute_result",
          "data": {
            "text/plain": [
              "2.455095854076855e-05"
            ]
          },
          "metadata": {},
          "execution_count": 48
        }
      ],
      "source": [
        "t = 2160 # 2160 hours is aproximatetly 3 months\n",
        "Customer_5838 = calibration_holdout_matrix.iloc[3]\n",
        "\n",
        "bgf.predict(t, Customer_5838['frequency_cal'], Customer_5838['recency_cal'], Customer_5838['T_cal'] )"
      ]
    },
    {
      "cell_type": "markdown",
      "metadata": {
        "id": "SP0QU75ABd-D"
      },
      "source": [
        "As we can see, the expected number of transactions is near zero. However, why is this happening? We will investigate further with the function plot_history_alive from the Lifetimes Library, which plots the probability of a customer being alive. We will plot the behavior of the customer with id 5838, again in the 3-month future period."
      ]
    },
    {
      "cell_type": "code",
      "execution_count": null,
      "metadata": {
        "colab": {
          "base_uri": "https://localhost:8080/",
          "height": 517
        },
        "id": "U-NskuM94C8O",
        "outputId": "71c9ba31-708d-49ef-d5a3-45a1736cd9b2"
      },
      "outputs": [
        {
          "output_type": "execute_result",
          "data": {
            "text/plain": [
              "<matplotlib.axes._subplots.AxesSubplot at 0x7f464df6bfd0>"
            ]
          },
          "metadata": {},
          "execution_count": 49
        },
        {
          "output_type": "display_data",
          "data": {
            "text/plain": [
              "<Figure size 864x576 with 1 Axes>"
            ],
            "image/png": "[encoded data removed]"
          },
          "metadata": {
            "needs_background": "light"
          }
        }
      ],
      "source": [
        "plt.figure(figsize=(12 , 8))\n",
        "plot_history_alive(bgf, 20160 ,Customers_DF2.loc[Customers_DF2['id'] == 5838] , 'settledAt' , freq='h')"
      ]
    },
    {
      "cell_type": "markdown",
      "metadata": {
        "id": "8hMoa5TNC73a"
      },
      "source": [
        "From the line plot, we can see that the probability decreases rapidly between periods of inactivity. For this reason, because of the inactivity that occurred after the customer's 5838 last transactions, the model dropped its probability of being active near zero, hence, the predicted zero future transactions in the next period."
      ]
    },
    {
      "cell_type": "markdown",
      "source": [
        "The next step is to predict the expected number of purchases each customer will make from the end of the calibration period until the end of the observation period and save the results."
      ],
      "metadata": {
        "id": "ZTWsBgXIhfBg"
      }
    },
    {
      "cell_type": "code",
      "source": [
        "from datetime import datetime\n",
        "\n",
        "start_time = datetime.strptime('2021-12-31 23:49:13.857000', '%Y-%m-%d %H:%M:%S.%f')  # End of calibration period\n",
        "end_time = datetime.strptime('2022-03-14 12:26:02.236000', '%Y-%m-%d %H:%M:%S.%f') # End of observation period\n",
        "\n",
        "# get difference\n",
        "delta = end_time - start_time\n",
        "sec = delta.total_seconds()\n",
        "\n",
        "hours = sec / (60 * 60)\n",
        "print('difference in hours:', hours)"
      ],
      "metadata": {
        "colab": {
          "base_uri": "https://localhost:8080/"
        },
        "id": "FLsPJEBuemJ-",
        "outputId": "6c73290e-629a-40a0-ff65-91ed4364b244"
      },
      "execution_count": null,
      "outputs": [
        {
          "output_type": "stream",
          "name": "stdout",
          "text": [
            "difference in hours: 1740.613438611111\n"
          ]
        }
      ]
    },
    {
      "cell_type": "code",
      "source": [
        "t = 1740.613438611111 # 1740.613438611111 hours from the calibration period until the end of the observation period\n",
        "\n",
        "Expected_number_of_transactions = bgf.predict(t, calibration_holdout_matrix['frequency_cal'], calibration_holdout_matrix['recency_cal'], calibration_holdout_matrix['T_cal'] )\n",
        "Expected_number_of_transactions = pd.DataFrame(Expected_number_of_transactions , columns = ['Expected number of transactions'])\n",
        "Expected_number_of_transactions = Expected_number_of_transactions.sort_values(by = 'Expected number of transactions' , ascending=False)"
      ],
      "metadata": {
        "id": "b0xfnVz0aZaT"
      },
      "execution_count": null,
      "outputs": []
    },
    {
      "cell_type": "code",
      "source": [
        "Expected_number_of_transactions"
      ],
      "metadata": {
        "colab": {
          "base_uri": "https://localhost:8080/",
          "height": 455
        },
        "id": "OSkjhSc4dTb-",
        "outputId": "2b153e05-fabe-4b01-9109-8d50ca048642"
      },
      "execution_count": null,
      "outputs": [
        {
          "output_type": "execute_result",
          "data": {
            "text/plain": [
              "          Expected number of transactions\n",
              "id                                       \n",
              "111399.0                     8.314757e+01\n",
              "44231.0                      7.506898e+01\n",
              "47515.0                      6.724275e+01\n",
              "14129.0                      6.306945e+01\n",
              "66813.0                      6.292902e+01\n",
              "...                                   ...\n",
              "30050.0                      7.006778e-61\n",
              "8595.0                       4.369354e-64\n",
              "49720.0                      5.484344e-66\n",
              "25036.0                      2.219556e-75\n",
              "25682.0                      1.067211e-91\n",
              "\n",
              "[6180 rows x 1 columns]"
            ],
            "text/html": [
              "\n",
              "  <div id=\"df-d789f855-a3ca-4c0b-b020-06770191c087\">\n",
              "    <div class=\"colab-df-container\">\n",
              "      <div>\n",
              "<style scoped>\n",
              "    .dataframe tbody tr th:only-of-type {\n",
              "        vertical-align: middle;\n",
              "    }\n",
              "\n",
              "    .dataframe tbody tr th {\n",
              "        vertical-align: top;\n",
              "    }\n",
              "\n",
              "    .dataframe thead th {\n",
              "        text-align: right;\n",
              "    }\n",
              "</style>\n",
              "<table border=\"1\" class=\"dataframe\">\n",
              "  <thead>\n",
              "    <tr style=\"text-align: right;\">\n",
              "      <th></th>\n",
              "      <th>Expected number of transactions</th>\n",
              "    </tr>\n",
              "    <tr>\n",
              "      <th>id</th>\n",
              "      <th></th>\n",
              "    </tr>\n",
              "  </thead>\n",
              "  <tbody>\n",
              "    <tr>\n",
              "      <th>111399.0</th>\n",
              "      <td>8.314757e+01</td>\n",
              "    </tr>\n",
              "    <tr>\n",
              "      <th>44231.0</th>\n",
              "      <td>7.506898e+01</td>\n",
              "    </tr>\n",
              "    <tr>\n",
              "      <th>47515.0</th>\n",
              "      <td>6.724275e+01</td>\n",
              "    </tr>\n",
              "    <tr>\n",
              "      <th>14129.0</th>\n",
              "      <td>6.306945e+01</td>\n",
              "    </tr>\n",
              "    <tr>\n",
              "      <th>66813.0</th>\n",
              "      <td>6.292902e+01</td>\n",
              "    </tr>\n",
              "    <tr>\n",
              "      <th>...</th>\n",
              "      <td>...</td>\n",
              "    </tr>\n",
              "    <tr>\n",
              "      <th>30050.0</th>\n",
              "      <td>7.006778e-61</td>\n",
              "    </tr>\n",
              "    <tr>\n",
              "      <th>8595.0</th>\n",
              "      <td>4.369354e-64</td>\n",
              "    </tr>\n",
              "    <tr>\n",
              "      <th>49720.0</th>\n",
              "      <td>5.484344e-66</td>\n",
              "    </tr>\n",
              "    <tr>\n",
              "      <th>25036.0</th>\n",
              "      <td>2.219556e-75</td>\n",
              "    </tr>\n",
              "    <tr>\n",
              "      <th>25682.0</th>\n",
              "      <td>1.067211e-91</td>\n",
              "    </tr>\n",
              "  </tbody>\n",
              "</table>\n",
              "<p>6180 rows × 1 columns</p>\n",
              "</div>\n",
              "      <button class=\"colab-df-convert\" onclick=\"convertToInteractive('df-d789f855-a3ca-4c0b-b020-06770191c087')\"\n",
              "              title=\"Convert this dataframe to an interactive table.\"\n",
              "              style=\"display:none;\">\n",
              "        \n",
              "  <svg xmlns=\"http://www.w3.org/2000/svg\" height=\"24px\"viewBox=\"0 0 24 24\"\n",
              "       width=\"24px\">\n",
              "    <path d=\"M0 0h24v24H0V0z\" fill=\"none\"/>\n",
              "    <path d=\"M18.56 5.44l.94 2.06.94-2.06 2.06-.94-2.06-.94-.94-2.06-.94 2.06-2.06.94zm-11 1L8.5 8.5l.94-2.06 2.06-.94-2.06-.94L8.5 2.5l-.94 2.06-2.06.94zm10 10l.94 2.06.94-2.06 2.06-.94-2.06-.94-.94-2.06-.94 2.06-2.06.94z\"/><path d=\"M17.41 7.96l-1.37-1.37c-.4-.4-.92-.59-1.43-.59-.52 0-1.04.2-1.43.59L10.3 9.45l-7.72 7.72c-.78.78-.78 2.05 0 2.83L4 21.41c.39.39.9.59 1.41.59.51 0 1.02-.2 1.41-.59l7.78-7.78 2.81-2.81c.8-.78.8-2.07 0-2.86zM5.41 20L4 18.59l7.72-7.72 1.47 1.35L5.41 20z\"/>\n",
              "  </svg>\n",
              "      </button>\n",
              "      \n",
              "  <style>\n",
              "    .colab-df-container {\n",
              "      display:flex;\n",
              "      flex-wrap:wrap;\n",
              "      gap: 12px;\n",
              "    }\n",
              "\n",
              "    .colab-df-convert {\n",
              "      background-color: #E8F0FE;\n",
              "      border: none;\n",
              "      border-radius: 50%;\n",
              "      cursor: pointer;\n",
              "      display: none;\n",
              "      fill: #1967D2;\n",
              "      height: 32px;\n",
              "      padding: 0 0 0 0;\n",
              "      width: 32px;\n",
              "    }\n",
              "\n",
              "    .colab-df-convert:hover {\n",
              "      background-color: #E2EBFA;\n",
              "      box-shadow: 0px 1px 2px rgba(60, 64, 67, 0.3), 0px 1px 3px 1px rgba(60, 64, 67, 0.15);\n",
              "      fill: #174EA6;\n",
              "    }\n",
              "\n",
              "    [theme=dark] .colab-df-convert {\n",
              "      background-color: #3B4455;\n",
              "      fill: #D2E3FC;\n",
              "    }\n",
              "\n",
              "    [theme=dark] .colab-df-convert:hover {\n",
              "      background-color: #434B5C;\n",
              "      box-shadow: 0px 1px 3px 1px rgba(0, 0, 0, 0.15);\n",
              "      filter: drop-shadow(0px 1px 2px rgba(0, 0, 0, 0.3));\n",
              "      fill: #FFFFFF;\n",
              "    }\n",
              "  </style>\n",
              "\n",
              "      <script>\n",
              "        const buttonEl =\n",
              "          document.querySelector('#df-d789f855-a3ca-4c0b-b020-06770191c087 button.colab-df-convert');\n",
              "        buttonEl.style.display =\n",
              "          google.colab.kernel.accessAllowed ? 'block' : 'none';\n",
              "\n",
              "        async function convertToInteractive(key) {\n",
              "          const element = document.querySelector('#df-d789f855-a3ca-4c0b-b020-06770191c087');\n",
              "          const dataTable =\n",
              "            await google.colab.kernel.invokeFunction('convertToInteractive',\n",
              "                                                     [key], {});\n",
              "          if (!dataTable) return;\n",
              "\n",
              "          const docLinkHtml = 'Like what you see? Visit the ' +\n",
              "            '<a target=\"_blank\" href=https://colab.research.google.com/notebooks/data_table.ipynb>data table notebook</a>'\n",
              "            + ' to learn more about interactive tables.';\n",
              "          element.innerHTML = '';\n",
              "          dataTable['output_type'] = 'display_data';\n",
              "          await google.colab.output.renderOutput(dataTable, element);\n",
              "          const docLink = document.createElement('div');\n",
              "          docLink.innerHTML = docLinkHtml;\n",
              "          element.appendChild(docLink);\n",
              "        }\n",
              "      </script>\n",
              "    </div>\n",
              "  </div>\n",
              "  "
            ]
          },
          "metadata": {},
          "execution_count": 52
        }
      ]
    },
    {
      "cell_type": "markdown",
      "source": [
        "# Linear Regression Model"
      ],
      "metadata": {
        "id": "u34EmAC2ef3W"
      }
    },
    {
      "cell_type": "markdown",
      "metadata": {
        "id": "pOFqBXLwThDv"
      },
      "source": [
        "After predicting each customer's expected number of purchases, we will use the Linear Regression model to predict the expected transaction value each customer will purchase in the next time period."
      ]
    },
    {
      "cell_type": "markdown",
      "source": [
        "For the Linear regression model, we will initially have to do some data preprocessing. After dropping the customers that made their first appearance in the last 3-month period, we will generate the RFM matrix manually, and afterward, we will compartmentalize the data into 3-month period chunks and take the last chunk as the target for predictions. After the data modification, we will fit the model and predict each customer's average revenue for the last 3-month period ( 2021/12/31 end of calibration period - 2022/3/10 end of the observation period). Lastly, we will assess the model using the R-Squared, which is a statistical measure of fit that indicates how much variation of a dependent variable is explained by the independent variable(s) in a regression model."
      ],
      "metadata": {
        "id": "r8cSXggYfthE"
      }
    },
    {
      "cell_type": "markdown",
      "source": [
        "## Data Preprocessing part 3"
      ],
      "metadata": {
        "id": "iV5rf1hDyKDc"
      }
    },
    {
      "cell_type": "markdown",
      "source": [
        "### Creating the RFM Matrix manually"
      ],
      "metadata": {
        "id": "j8S8vOozqoCL"
      }
    },
    {
      "cell_type": "code",
      "source": [
        "Customers_DF3 = Customers_DF2.copy()"
      ],
      "metadata": {
        "id": "CVuRft4sKzP7"
      },
      "execution_count": null,
      "outputs": []
    },
    {
      "cell_type": "markdown",
      "source": [
        "We will create a new column, that will assign each row to its chunk. C_1 is the first 3-month period of the dataset and C_10 is the last."
      ],
      "metadata": {
        "id": "NHRVERefLm3j"
      }
    },
    {
      "cell_type": "code",
      "source": [
        "def mean(x):\n",
        "    return x.mean()\n",
        "\n",
        "def frequency(x):\n",
        "    return x.count()\n",
        "\n",
        "def recency(x):\n",
        "    return (x.max() - x.min()).days\n",
        "\n",
        "\n",
        "freq = '3M'\n",
        "RFM = Customers_DF3.groupby([ 'id',  pd.Grouper(key='settledAt', freq= freq) ]).agg({'transaction_value': [mean , frequency],\n",
        "                                                                                    'settledAt': [recency]})\n",
        "RFM.columns = ['_'.join(col).lower() for col in RFM.columns]\n",
        "RFM.rename(columns = {'transaction_value_mean':'Monetary Value'}, inplace = True)\n",
        "RFM.rename(columns = {'transaction_value_frequency':'Frequency'}, inplace = True)\n",
        "RFM.rename(columns = {'settledat_recency':'Recency'}, inplace = True)\n",
        "RFM = RFM.reset_index()\n",
        "map_date_month = {str(x)[:10]: 'C_%s' % (i+1) for i, x in enumerate( sorted(RFM.reset_index()['settledAt'].unique(), reverse=False))}\n",
        "\n",
        "RFM['Chunks'] = RFM['settledAt'].apply(lambda x: map_date_month[str(x)[:10]])"
      ],
      "metadata": {
        "id": "ExKN6sSFgCGR"
      },
      "execution_count": null,
      "outputs": []
    },
    {
      "cell_type": "code",
      "source": [
        "map_date_month"
      ],
      "metadata": {
        "colab": {
          "base_uri": "https://localhost:8080/"
        },
        "id": "Gz6gduVPMGMd",
        "outputId": "e16ae29d-10ce-47bf-a988-7afef7e850ab"
      },
      "execution_count": null,
      "outputs": [
        {
          "output_type": "execute_result",
          "data": {
            "text/plain": [
              "{'2019-12-31': 'C_1',\n",
              " '2020-03-31': 'C_2',\n",
              " '2020-06-30': 'C_3',\n",
              " '2020-09-30': 'C_4',\n",
              " '2020-12-31': 'C_5',\n",
              " '2021-03-31': 'C_6',\n",
              " '2021-06-30': 'C_7',\n",
              " '2021-09-30': 'C_8',\n",
              " '2021-12-31': 'C_9',\n",
              " '2022-03-31': 'C_10'}"
            ]
          },
          "metadata": {},
          "execution_count": 55
        }
      ]
    },
    {
      "cell_type": "code",
      "source": [
        "RFM.head()"
      ],
      "metadata": {
        "colab": {
          "base_uri": "https://localhost:8080/",
          "height": 206
        },
        "id": "3Rf4Q3oHLiRg",
        "outputId": "e7a121d0-a29c-4fda-b2ec-0104a9a910d9"
      },
      "execution_count": null,
      "outputs": [
        {
          "output_type": "execute_result",
          "data": {
            "text/plain": [
              "       id                 settledAt  Monetary Value  Frequency  Recency Chunks\n",
              "0  5774.0 2019-12-31 00:00:00+00:00        0.000000          2        6    C_1\n",
              "1  5825.0 2020-03-31 00:00:00+00:00       11.333333          3        3    C_2\n",
              "2  5830.0 2020-06-30 00:00:00+00:00      100.000000          1        0    C_3\n",
              "3  5838.0 2020-03-31 00:00:00+00:00       27.781250         16       77    C_2\n",
              "4  5838.0 2020-06-30 00:00:00+00:00       14.000000          3        8    C_3"
            ],
            "text/html": [
              "\n",
              "  <div id=\"df-621b03d7-97a2-4a7b-90a3-cf6f4167bb9e\">\n",
              "    <div class=\"colab-df-container\">\n",
              "      <div>\n",
              "<style scoped>\n",
              "    .dataframe tbody tr th:only-of-type {\n",
              "        vertical-align: middle;\n",
              "    }\n",
              "\n",
              "    .dataframe tbody tr th {\n",
              "        vertical-align: top;\n",
              "    }\n",
              "\n",
              "    .dataframe thead th {\n",
              "        text-align: right;\n",
              "    }\n",
              "</style>\n",
              "<table border=\"1\" class=\"dataframe\">\n",
              "  <thead>\n",
              "    <tr style=\"text-align: right;\">\n",
              "      <th></th>\n",
              "      <th>id</th>\n",
              "      <th>settledAt</th>\n",
              "      <th>Monetary Value</th>\n",
              "      <th>Frequency</th>\n",
              "      <th>Recency</th>\n",
              "      <th>Chunks</th>\n",
              "    </tr>\n",
              "  </thead>\n",
              "  <tbody>\n",
              "    <tr>\n",
              "      <th>0</th>\n",
              "      <td>5774.0</td>\n",
              "      <td>2019-12-31 00:00:00+00:00</td>\n",
              "      <td>0.000000</td>\n",
              "      <td>2</td>\n",
              "      <td>6</td>\n",
              "      <td>C_1</td>\n",
              "    </tr>\n",
              "    <tr>\n",
              "      <th>1</th>\n",
              "      <td>5825.0</td>\n",
              "      <td>2020-03-31 00:00:00+00:00</td>\n",
              "      <td>11.333333</td>\n",
              "      <td>3</td>\n",
              "      <td>3</td>\n",
              "      <td>C_2</td>\n",
              "    </tr>\n",
              "    <tr>\n",
              "      <th>2</th>\n",
              "      <td>5830.0</td>\n",
              "      <td>2020-06-30 00:00:00+00:00</td>\n",
              "      <td>100.000000</td>\n",
              "      <td>1</td>\n",
              "      <td>0</td>\n",
              "      <td>C_3</td>\n",
              "    </tr>\n",
              "    <tr>\n",
              "      <th>3</th>\n",
              "      <td>5838.0</td>\n",
              "      <td>2020-03-31 00:00:00+00:00</td>\n",
              "      <td>27.781250</td>\n",
              "      <td>16</td>\n",
              "      <td>77</td>\n",
              "      <td>C_2</td>\n",
              "    </tr>\n",
              "    <tr>\n",
              "      <th>4</th>\n",
              "      <td>5838.0</td>\n",
              "      <td>2020-06-30 00:00:00+00:00</td>\n",
              "      <td>14.000000</td>\n",
              "      <td>3</td>\n",
              "      <td>8</td>\n",
              "      <td>C_3</td>\n",
              "    </tr>\n",
              "  </tbody>\n",
              "</table>\n",
              "</div>\n",
              "      <button class=\"colab-df-convert\" onclick=\"convertToInteractive('df-621b03d7-97a2-4a7b-90a3-cf6f4167bb9e')\"\n",
              "              title=\"Convert this dataframe to an interactive table.\"\n",
              "              style=\"display:none;\">\n",
              "        \n",
              "  <svg xmlns=\"http://www.w3.org/2000/svg\" height=\"24px\"viewBox=\"0 0 24 24\"\n",
              "       width=\"24px\">\n",
              "    <path d=\"M0 0h24v24H0V0z\" fill=\"none\"/>\n",
              "    <path d=\"M18.56 5.44l.94 2.06.94-2.06 2.06-.94-2.06-.94-.94-2.06-.94 2.06-2.06.94zm-11 1L8.5 8.5l.94-2.06 2.06-.94-2.06-.94L8.5 2.5l-.94 2.06-2.06.94zm10 10l.94 2.06.94-2.06 2.06-.94-2.06-.94-.94-2.06-.94 2.06-2.06.94z\"/><path d=\"M17.41 7.96l-1.37-1.37c-.4-.4-.92-.59-1.43-.59-.52 0-1.04.2-1.43.59L10.3 9.45l-7.72 7.72c-.78.78-.78 2.05 0 2.83L4 21.41c.39.39.9.59 1.41.59.51 0 1.02-.2 1.41-.59l7.78-7.78 2.81-2.81c.8-.78.8-2.07 0-2.86zM5.41 20L4 18.59l7.72-7.72 1.47 1.35L5.41 20z\"/>\n",
              "  </svg>\n",
              "      </button>\n",
              "      \n",
              "  <style>\n",
              "    .colab-df-container {\n",
              "      display:flex;\n",
              "      flex-wrap:wrap;\n",
              "      gap: 12px;\n",
              "    }\n",
              "\n",
              "    .colab-df-convert {\n",
              "      background-color: #E8F0FE;\n",
              "      border: none;\n",
              "      border-radius: 50%;\n",
              "      cursor: pointer;\n",
              "      display: none;\n",
              "      fill: #1967D2;\n",
              "      height: 32px;\n",
              "      padding: 0 0 0 0;\n",
              "      width: 32px;\n",
              "    }\n",
              "\n",
              "    .colab-df-convert:hover {\n",
              "      background-color: #E2EBFA;\n",
              "      box-shadow: 0px 1px 2px rgba(60, 64, 67, 0.3), 0px 1px 3px 1px rgba(60, 64, 67, 0.15);\n",
              "      fill: #174EA6;\n",
              "    }\n",
              "\n",
              "    [theme=dark] .colab-df-convert {\n",
              "      background-color: #3B4455;\n",
              "      fill: #D2E3FC;\n",
              "    }\n",
              "\n",
              "    [theme=dark] .colab-df-convert:hover {\n",
              "      background-color: #434B5C;\n",
              "      box-shadow: 0px 1px 3px 1px rgba(0, 0, 0, 0.15);\n",
              "      filter: drop-shadow(0px 1px 2px rgba(0, 0, 0, 0.3));\n",
              "      fill: #FFFFFF;\n",
              "    }\n",
              "  </style>\n",
              "\n",
              "      <script>\n",
              "        const buttonEl =\n",
              "          document.querySelector('#df-621b03d7-97a2-4a7b-90a3-cf6f4167bb9e button.colab-df-convert');\n",
              "        buttonEl.style.display =\n",
              "          google.colab.kernel.accessAllowed ? 'block' : 'none';\n",
              "\n",
              "        async function convertToInteractive(key) {\n",
              "          const element = document.querySelector('#df-621b03d7-97a2-4a7b-90a3-cf6f4167bb9e');\n",
              "          const dataTable =\n",
              "            await google.colab.kernel.invokeFunction('convertToInteractive',\n",
              "                                                     [key], {});\n",
              "          if (!dataTable) return;\n",
              "\n",
              "          const docLinkHtml = 'Like what you see? Visit the ' +\n",
              "            '<a target=\"_blank\" href=https://colab.research.google.com/notebooks/data_table.ipynb>data table notebook</a>'\n",
              "            + ' to learn more about interactive tables.';\n",
              "          element.innerHTML = '';\n",
              "          dataTable['output_type'] = 'display_data';\n",
              "          await google.colab.output.renderOutput(dataTable, element);\n",
              "          const docLink = document.createElement('div');\n",
              "          docLink.innerHTML = docLinkHtml;\n",
              "          element.appendChild(docLink);\n",
              "        }\n",
              "      </script>\n",
              "    </div>\n",
              "  </div>\n",
              "  "
            ]
          },
          "metadata": {},
          "execution_count": 56
        }
      ]
    },
    {
      "cell_type": "markdown",
      "source": [
        "Compartmentalizing the data into 3-month period chunks."
      ],
      "metadata": {
        "id": "lBX_J3cJHAFS"
      }
    },
    {
      "cell_type": "code",
      "source": [
        "Customers_DF3 = pd.pivot_table( RFM, values=['Monetary Value'], columns='Chunks', index='id')\n",
        "\n",
        "Customers_DF3.reset_index()\n",
        "Customers_DF3.columns = ['_'.join(col) for col in Customers_DF3.columns]\n",
        "\n",
        "Customers_DF3.fillna(0, inplace=True)"
      ],
      "metadata": {
        "id": "AGc8ecAnLfWW"
      },
      "execution_count": null,
      "outputs": []
    },
    {
      "cell_type": "code",
      "source": [
        "Customers_DF3"
      ],
      "metadata": {
        "colab": {
          "base_uri": "https://localhost:8080/",
          "height": 516
        },
        "id": "iqipDTjhPpQW",
        "outputId": "37f41cd1-4189-42f6-fec4-2c35e9146c19"
      },
      "execution_count": null,
      "outputs": [
        {
          "output_type": "execute_result",
          "data": {
            "text/plain": [
              "          Monetary Value_C_1  Monetary Value_C_10  Monetary Value_C_2  \\\n",
              "id                                                                      \n",
              "5774.0                   0.0                  0.0            0.000000   \n",
              "5825.0                   0.0                  0.0           11.333333   \n",
              "5830.0                   0.0                  0.0            0.000000   \n",
              "5838.0                   0.0                  0.0           27.781250   \n",
              "5839.0                  44.7                  0.0            8.333333   \n",
              "...                      ...                  ...                 ...   \n",
              "128786.0                 0.0                 70.0            0.000000   \n",
              "128797.0                 0.0                100.0            0.000000   \n",
              "128850.0                 0.0                159.0            0.000000   \n",
              "128853.0                 0.0                 50.0            0.000000   \n",
              "128867.0                 0.0                 40.0            0.000000   \n",
              "\n",
              "          Monetary Value_C_3  Monetary Value_C_4  Monetary Value_C_5  \\\n",
              "id                                                                     \n",
              "5774.0                   0.0                 0.0                 0.0   \n",
              "5825.0                   0.0                 0.0                 0.0   \n",
              "5830.0                 100.0                 0.0                 0.0   \n",
              "5838.0                  14.0                 0.0                49.0   \n",
              "5839.0                  10.0                 0.0                 0.0   \n",
              "...                      ...                 ...                 ...   \n",
              "128786.0                 0.0                 0.0                 0.0   \n",
              "128797.0                 0.0                 0.0                 0.0   \n",
              "128850.0                 0.0                 0.0                 0.0   \n",
              "128853.0                 0.0                 0.0                 0.0   \n",
              "128867.0                 0.0                 0.0                 0.0   \n",
              "\n",
              "          Monetary Value_C_6  Monetary Value_C_7  Monetary Value_C_8  \\\n",
              "id                                                                     \n",
              "5774.0                 0.000                 0.0                 0.0   \n",
              "5825.0                 0.000                 0.0                 0.0   \n",
              "5830.0                 0.000                 0.0                 0.0   \n",
              "5838.0                13.365                 0.0                 0.0   \n",
              "5839.0                 0.000                 0.0                 0.0   \n",
              "...                      ...                 ...                 ...   \n",
              "128786.0               0.000                 0.0                 0.0   \n",
              "128797.0               0.000                 0.0                 0.0   \n",
              "128850.0               0.000                 0.0                 0.0   \n",
              "128853.0               0.000                 0.0                 0.0   \n",
              "128867.0               0.000                 0.0                 0.0   \n",
              "\n",
              "          Monetary Value_C_9  \n",
              "id                            \n",
              "5774.0                   0.0  \n",
              "5825.0                   0.0  \n",
              "5830.0                   0.0  \n",
              "5838.0                   0.0  \n",
              "5839.0                   0.0  \n",
              "...                      ...  \n",
              "128786.0                 0.0  \n",
              "128797.0                 0.0  \n",
              "128850.0                 0.0  \n",
              "128853.0                 0.0  \n",
              "128867.0                 0.0  \n",
              "\n",
              "[6661 rows x 10 columns]"
            ],
            "text/html": [
              "\n",
              "  <div id=\"df-9df68dda-3fda-4e2d-afe4-8912c1f378b7\">\n",
              "    <div class=\"colab-df-container\">\n",
              "      <div>\n",
              "<style scoped>\n",
              "    .dataframe tbody tr th:only-of-type {\n",
              "        vertical-align: middle;\n",
              "    }\n",
              "\n",
              "    .dataframe tbody tr th {\n",
              "        vertical-align: top;\n",
              "    }\n",
              "\n",
              "    .dataframe thead th {\n",
              "        text-align: right;\n",
              "    }\n",
              "</style>\n",
              "<table border=\"1\" class=\"dataframe\">\n",
              "  <thead>\n",
              "    <tr style=\"text-align: right;\">\n",
              "      <th></th>\n",
              "      <th>Monetary Value_C_1</th>\n",
              "      <th>Monetary Value_C_10</th>\n",
              "      <th>Monetary Value_C_2</th>\n",
              "      <th>Monetary Value_C_3</th>\n",
              "      <th>Monetary Value_C_4</th>\n",
              "      <th>Monetary Value_C_5</th>\n",
              "      <th>Monetary Value_C_6</th>\n",
              "      <th>Monetary Value_C_7</th>\n",
              "      <th>Monetary Value_C_8</th>\n",
              "      <th>Monetary Value_C_9</th>\n",
              "    </tr>\n",
              "    <tr>\n",
              "      <th>id</th>\n",
              "      <th></th>\n",
              "      <th></th>\n",
              "      <th></th>\n",
              "      <th></th>\n",
              "      <th></th>\n",
              "      <th></th>\n",
              "      <th></th>\n",
              "      <th></th>\n",
              "      <th></th>\n",
              "      <th></th>\n",
              "    </tr>\n",
              "  </thead>\n",
              "  <tbody>\n",
              "    <tr>\n",
              "      <th>5774.0</th>\n",
              "      <td>0.0</td>\n",
              "      <td>0.0</td>\n",
              "      <td>0.000000</td>\n",
              "      <td>0.0</td>\n",
              "      <td>0.0</td>\n",
              "      <td>0.0</td>\n",
              "      <td>0.000</td>\n",
              "      <td>0.0</td>\n",
              "      <td>0.0</td>\n",
              "      <td>0.0</td>\n",
              "    </tr>\n",
              "    <tr>\n",
              "      <th>5825.0</th>\n",
              "      <td>0.0</td>\n",
              "      <td>0.0</td>\n",
              "      <td>11.333333</td>\n",
              "      <td>0.0</td>\n",
              "      <td>0.0</td>\n",
              "      <td>0.0</td>\n",
              "      <td>0.000</td>\n",
              "      <td>0.0</td>\n",
              "      <td>0.0</td>\n",
              "      <td>0.0</td>\n",
              "    </tr>\n",
              "    <tr>\n",
              "      <th>5830.0</th>\n",
              "      <td>0.0</td>\n",
              "      <td>0.0</td>\n",
              "      <td>0.000000</td>\n",
              "      <td>100.0</td>\n",
              "      <td>0.0</td>\n",
              "      <td>0.0</td>\n",
              "      <td>0.000</td>\n",
              "      <td>0.0</td>\n",
              "      <td>0.0</td>\n",
              "      <td>0.0</td>\n",
              "    </tr>\n",
              "    <tr>\n",
              "      <th>5838.0</th>\n",
              "      <td>0.0</td>\n",
              "      <td>0.0</td>\n",
              "      <td>27.781250</td>\n",
              "      <td>14.0</td>\n",
              "      <td>0.0</td>\n",
              "      <td>49.0</td>\n",
              "      <td>13.365</td>\n",
              "      <td>0.0</td>\n",
              "      <td>0.0</td>\n",
              "      <td>0.0</td>\n",
              "    </tr>\n",
              "    <tr>\n",
              "      <th>5839.0</th>\n",
              "      <td>44.7</td>\n",
              "      <td>0.0</td>\n",
              "      <td>8.333333</td>\n",
              "      <td>10.0</td>\n",
              "      <td>0.0</td>\n",
              "      <td>0.0</td>\n",
              "      <td>0.000</td>\n",
              "      <td>0.0</td>\n",
              "      <td>0.0</td>\n",
              "      <td>0.0</td>\n",
              "    </tr>\n",
              "    <tr>\n",
              "      <th>...</th>\n",
              "      <td>...</td>\n",
              "      <td>...</td>\n",
              "      <td>...</td>\n",
              "      <td>...</td>\n",
              "      <td>...</td>\n",
              "      <td>...</td>\n",
              "      <td>...</td>\n",
              "      <td>...</td>\n",
              "      <td>...</td>\n",
              "      <td>...</td>\n",
              "    </tr>\n",
              "    <tr>\n",
              "      <th>128786.0</th>\n",
              "      <td>0.0</td>\n",
              "      <td>70.0</td>\n",
              "      <td>0.000000</td>\n",
              "      <td>0.0</td>\n",
              "      <td>0.0</td>\n",
              "      <td>0.0</td>\n",
              "      <td>0.000</td>\n",
              "      <td>0.0</td>\n",
              "      <td>0.0</td>\n",
              "      <td>0.0</td>\n",
              "    </tr>\n",
              "    <tr>\n",
              "      <th>128797.0</th>\n",
              "      <td>0.0</td>\n",
              "      <td>100.0</td>\n",
              "      <td>0.000000</td>\n",
              "      <td>0.0</td>\n",
              "      <td>0.0</td>\n",
              "      <td>0.0</td>\n",
              "      <td>0.000</td>\n",
              "      <td>0.0</td>\n",
              "      <td>0.0</td>\n",
              "      <td>0.0</td>\n",
              "    </tr>\n",
              "    <tr>\n",
              "      <th>128850.0</th>\n",
              "      <td>0.0</td>\n",
              "      <td>159.0</td>\n",
              "      <td>0.000000</td>\n",
              "      <td>0.0</td>\n",
              "      <td>0.0</td>\n",
              "      <td>0.0</td>\n",
              "      <td>0.000</td>\n",
              "      <td>0.0</td>\n",
              "      <td>0.0</td>\n",
              "      <td>0.0</td>\n",
              "    </tr>\n",
              "    <tr>\n",
              "      <th>128853.0</th>\n",
              "      <td>0.0</td>\n",
              "      <td>50.0</td>\n",
              "      <td>0.000000</td>\n",
              "      <td>0.0</td>\n",
              "      <td>0.0</td>\n",
              "      <td>0.0</td>\n",
              "      <td>0.000</td>\n",
              "      <td>0.0</td>\n",
              "      <td>0.0</td>\n",
              "      <td>0.0</td>\n",
              "    </tr>\n",
              "    <tr>\n",
              "      <th>128867.0</th>\n",
              "      <td>0.0</td>\n",
              "      <td>40.0</td>\n",
              "      <td>0.000000</td>\n",
              "      <td>0.0</td>\n",
              "      <td>0.0</td>\n",
              "      <td>0.0</td>\n",
              "      <td>0.000</td>\n",
              "      <td>0.0</td>\n",
              "      <td>0.0</td>\n",
              "      <td>0.0</td>\n",
              "    </tr>\n",
              "  </tbody>\n",
              "</table>\n",
              "<p>6661 rows × 10 columns</p>\n",
              "</div>\n",
              "      <button class=\"colab-df-convert\" onclick=\"convertToInteractive('df-9df68dda-3fda-4e2d-afe4-8912c1f378b7')\"\n",
              "              title=\"Convert this dataframe to an interactive table.\"\n",
              "              style=\"display:none;\">\n",
              "        \n",
              "  <svg xmlns=\"http://www.w3.org/2000/svg\" height=\"24px\"viewBox=\"0 0 24 24\"\n",
              "       width=\"24px\">\n",
              "    <path d=\"M0 0h24v24H0V0z\" fill=\"none\"/>\n",
              "    <path d=\"M18.56 5.44l.94 2.06.94-2.06 2.06-.94-2.06-.94-.94-2.06-.94 2.06-2.06.94zm-11 1L8.5 8.5l.94-2.06 2.06-.94-2.06-.94L8.5 2.5l-.94 2.06-2.06.94zm10 10l.94 2.06.94-2.06 2.06-.94-2.06-.94-.94-2.06-.94 2.06-2.06.94z\"/><path d=\"M17.41 7.96l-1.37-1.37c-.4-.4-.92-.59-1.43-.59-.52 0-1.04.2-1.43.59L10.3 9.45l-7.72 7.72c-.78.78-.78 2.05 0 2.83L4 21.41c.39.39.9.59 1.41.59.51 0 1.02-.2 1.41-.59l7.78-7.78 2.81-2.81c.8-.78.8-2.07 0-2.86zM5.41 20L4 18.59l7.72-7.72 1.47 1.35L5.41 20z\"/>\n",
              "  </svg>\n",
              "      </button>\n",
              "      \n",
              "  <style>\n",
              "    .colab-df-container {\n",
              "      display:flex;\n",
              "      flex-wrap:wrap;\n",
              "      gap: 12px;\n",
              "    }\n",
              "\n",
              "    .colab-df-convert {\n",
              "      background-color: #E8F0FE;\n",
              "      border: none;\n",
              "      border-radius: 50%;\n",
              "      cursor: pointer;\n",
              "      display: none;\n",
              "      fill: #1967D2;\n",
              "      height: 32px;\n",
              "      padding: 0 0 0 0;\n",
              "      width: 32px;\n",
              "    }\n",
              "\n",
              "    .colab-df-convert:hover {\n",
              "      background-color: #E2EBFA;\n",
              "      box-shadow: 0px 1px 2px rgba(60, 64, 67, 0.3), 0px 1px 3px 1px rgba(60, 64, 67, 0.15);\n",
              "      fill: #174EA6;\n",
              "    }\n",
              "\n",
              "    [theme=dark] .colab-df-convert {\n",
              "      background-color: #3B4455;\n",
              "      fill: #D2E3FC;\n",
              "    }\n",
              "\n",
              "    [theme=dark] .colab-df-convert:hover {\n",
              "      background-color: #434B5C;\n",
              "      box-shadow: 0px 1px 3px 1px rgba(0, 0, 0, 0.15);\n",
              "      filter: drop-shadow(0px 1px 2px rgba(0, 0, 0, 0.3));\n",
              "      fill: #FFFFFF;\n",
              "    }\n",
              "  </style>\n",
              "\n",
              "      <script>\n",
              "        const buttonEl =\n",
              "          document.querySelector('#df-9df68dda-3fda-4e2d-afe4-8912c1f378b7 button.colab-df-convert');\n",
              "        buttonEl.style.display =\n",
              "          google.colab.kernel.accessAllowed ? 'block' : 'none';\n",
              "\n",
              "        async function convertToInteractive(key) {\n",
              "          const element = document.querySelector('#df-9df68dda-3fda-4e2d-afe4-8912c1f378b7');\n",
              "          const dataTable =\n",
              "            await google.colab.kernel.invokeFunction('convertToInteractive',\n",
              "                                                     [key], {});\n",
              "          if (!dataTable) return;\n",
              "\n",
              "          const docLinkHtml = 'Like what you see? Visit the ' +\n",
              "            '<a target=\"_blank\" href=https://colab.research.google.com/notebooks/data_table.ipynb>data table notebook</a>'\n",
              "            + ' to learn more about interactive tables.';\n",
              "          element.innerHTML = '';\n",
              "          dataTable['output_type'] = 'display_data';\n",
              "          await google.colab.output.renderOutput(dataTable, element);\n",
              "          const docLink = document.createElement('div');\n",
              "          docLink.innerHTML = docLinkHtml;\n",
              "          element.appendChild(docLink);\n",
              "        }\n",
              "      </script>\n",
              "    </div>\n",
              "  </div>\n",
              "  "
            ]
          },
          "metadata": {},
          "execution_count": 58
        }
      ]
    },
    {
      "cell_type": "markdown",
      "source": [
        "We want only the customers that purchased for the first time before the start of the observation period, hence we will drop any new customers that made their appearance after 2021-12-31 23:49:13.857000+00:00, which is the end of the calibration period."
      ],
      "metadata": {
        "id": "4ukVUEgFlrQZ"
      }
    },
    {
      "cell_type": "code",
      "source": [
        "Customers_DF3.drop(Customers_DF3.drop( calibration_holdout_matrix.index , inplace = False).index , inplace = True)"
      ],
      "metadata": {
        "id": "iCsQKyQ5yAvL"
      },
      "execution_count": null,
      "outputs": []
    },
    {
      "cell_type": "code",
      "source": [
        "Customers_DF3.shape"
      ],
      "metadata": {
        "colab": {
          "base_uri": "https://localhost:8080/"
        },
        "id": "GwqNFPRpyvm6",
        "outputId": "06c11256-cfe8-4a60-c561-67a4f117beda"
      },
      "execution_count": null,
      "outputs": [
        {
          "output_type": "execute_result",
          "data": {
            "text/plain": [
              "(6180, 10)"
            ]
          },
          "metadata": {},
          "execution_count": 60
        }
      ]
    },
    {
      "cell_type": "markdown",
      "source": [
        "To summarise, for the data processing for the Linear Regression model, we have computed a matrix in which each row represents the average transactions every 3-month period each customer made."
      ],
      "metadata": {
        "id": "2As16q4cXwVo"
      }
    },
    {
      "cell_type": "markdown",
      "source": [
        "## Creating the Calibration and Observation period"
      ],
      "metadata": {
        "id": "ZDJWxZzv13ZM"
      }
    },
    {
      "cell_type": "code",
      "source": [
        "Testing = Customers_DF3[{'Monetary Value_C_10'}]\n",
        "Training = Customers_DF3.drop(['Monetary Value_C_10'] , axis = 1)"
      ],
      "metadata": {
        "id": "76-GKBDd1_rZ"
      },
      "execution_count": null,
      "outputs": []
    },
    {
      "cell_type": "code",
      "source": [
        "Y_train = Training['Monetary Value_C_9']\n",
        "X_train = Training.drop(['Monetary Value_C_9'] , axis = 1)"
      ],
      "metadata": {
        "id": "Ao3OECSS3bWC"
      },
      "execution_count": null,
      "outputs": []
    },
    {
      "cell_type": "code",
      "source": [
        "lin_reg = LinearRegression()\n",
        "lin_reg.fit(X_train, Y_train)"
      ],
      "metadata": {
        "colab": {
          "base_uri": "https://localhost:8080/"
        },
        "id": "kUeD8RtvRjSK",
        "outputId": "18f7015c-e45c-485a-f702-e4e8308950e4"
      },
      "execution_count": null,
      "outputs": [
        {
          "output_type": "execute_result",
          "data": {
            "text/plain": [
              "LinearRegression()"
            ]
          },
          "metadata": {},
          "execution_count": 90
        }
      ]
    },
    {
      "cell_type": "code",
      "source": [
        "Predictions =  lin_reg.predict(X_train)"
      ],
      "metadata": {
        "id": "EYYCLzyGu99c"
      },
      "execution_count": null,
      "outputs": []
    },
    {
      "cell_type": "markdown",
      "source": [
        "## Predictions Vs Actual Data"
      ],
      "metadata": {
        "id": "1v41cN0upOmn"
      }
    },
    {
      "cell_type": "markdown",
      "source": [
        "R-squared for training:"
      ],
      "metadata": {
        "id": "rWMv4LI4Vcxo"
      }
    },
    {
      "cell_type": "code",
      "source": [
        "r2_score( Y_train , Predictions )"
      ],
      "metadata": {
        "colab": {
          "base_uri": "https://localhost:8080/"
        },
        "id": "dV-lo0qppVzX",
        "outputId": "bade5f39-f24f-4875-fa4d-e4c868fcce2f"
      },
      "execution_count": null,
      "outputs": [
        {
          "output_type": "execute_result",
          "data": {
            "text/plain": [
              "0.004811973054991037"
            ]
          },
          "metadata": {},
          "execution_count": 92
        }
      ]
    },
    {
      "cell_type": "markdown",
      "source": [
        "R-squared for testing:"
      ],
      "metadata": {
        "id": "bX6J_7rzVbfd"
      }
    },
    {
      "cell_type": "code",
      "source": [
        "Predictions_2 =  lin_reg.predict(Training.drop(['Monetary Value_C_1'] , axis = 1))"
      ],
      "metadata": {
        "id": "jysDXyuXaHFe"
      },
      "execution_count": null,
      "outputs": []
    },
    {
      "cell_type": "code",
      "source": [
        "r2_score( Testing , Predictions_2)"
      ],
      "metadata": {
        "colab": {
          "base_uri": "https://localhost:8080/"
        },
        "id": "B21M5bhzppkQ",
        "outputId": "8f921d12-6041-4101-bd8f-b0fb0799f885"
      },
      "execution_count": null,
      "outputs": [
        {
          "output_type": "execute_result",
          "data": {
            "text/plain": [
              "-0.06869748880062954"
            ]
          },
          "metadata": {},
          "execution_count": 94
        }
      ]
    },
    {
      "cell_type": "markdown",
      "source": [
        "The R-squared scores are different for train and test data, thus there is some potential overfitting/underfitting. In addition, knowing that the R-squared ranges from 0 to 1, and for the last 3-month period prediction's assessment, the value was negative, we can conclude that the model performed extremely badly. Nevertheless, we will continue with the calculation of CLV."
      ],
      "metadata": {
        "id": "LHSIP9kyp2IM"
      }
    },
    {
      "cell_type": "markdown",
      "source": [
        "The next step is to predict the expected value of purchases each customer will make from the end of the calibration period until the end of the observation period and save the results."
      ],
      "metadata": {
        "id": "5U2kgBLTz1Ye"
      }
    },
    {
      "cell_type": "code",
      "source": [
        "Expected_value_of_purchases = Testing.copy()\n",
        "Expected_value_of_purchases['Monetary Value_C_10'] = Predictions_2\n",
        "Expected_value_of_purchases.rename(columns = {'Monetary Value_C_10' : 'Expected value of purchases'}, inplace = True)"
      ],
      "metadata": {
        "id": "1_OAOHayz-tY"
      },
      "execution_count": null,
      "outputs": []
    },
    {
      "cell_type": "code",
      "source": [
        "Expected_value_of_purchases"
      ],
      "metadata": {
        "colab": {
          "base_uri": "https://localhost:8080/",
          "height": 455
        },
        "id": "Dv6WZckJ4cOM",
        "outputId": "fe6eb802-d465-4029-ea4e-55ef7a184f1c"
      },
      "execution_count": null,
      "outputs": [
        {
          "output_type": "execute_result",
          "data": {
            "text/plain": [
              "          Expected value of purchases\n",
              "id                                   \n",
              "5774.0                     101.531454\n",
              "5825.0                     101.468049\n",
              "5830.0                     101.320309\n",
              "5838.0                     103.000000\n",
              "5839.0                     101.463718\n",
              "...                               ...\n",
              "116466.0                   665.999763\n",
              "116536.0                   103.789328\n",
              "116576.0                   161.365095\n",
              "116712.0                   106.611669\n",
              "116886.0                   104.918264\n",
              "\n",
              "[6180 rows x 1 columns]"
            ],
            "text/html": [
              "\n",
              "  <div id=\"df-7ae51c20-73fa-4f80-bf1b-e1a0529d6899\">\n",
              "    <div class=\"colab-df-container\">\n",
              "      <div>\n",
              "<style scoped>\n",
              "    .dataframe tbody tr th:only-of-type {\n",
              "        vertical-align: middle;\n",
              "    }\n",
              "\n",
              "    .dataframe tbody tr th {\n",
              "        vertical-align: top;\n",
              "    }\n",
              "\n",
              "    .dataframe thead th {\n",
              "        text-align: right;\n",
              "    }\n",
              "</style>\n",
              "<table border=\"1\" class=\"dataframe\">\n",
              "  <thead>\n",
              "    <tr style=\"text-align: right;\">\n",
              "      <th></th>\n",
              "      <th>Expected value of purchases</th>\n",
              "    </tr>\n",
              "    <tr>\n",
              "      <th>id</th>\n",
              "      <th></th>\n",
              "    </tr>\n",
              "  </thead>\n",
              "  <tbody>\n",
              "    <tr>\n",
              "      <th>5774.0</th>\n",
              "      <td>101.531454</td>\n",
              "    </tr>\n",
              "    <tr>\n",
              "      <th>5825.0</th>\n",
              "      <td>101.468049</td>\n",
              "    </tr>\n",
              "    <tr>\n",
              "      <th>5830.0</th>\n",
              "      <td>101.320309</td>\n",
              "    </tr>\n",
              "    <tr>\n",
              "      <th>5838.0</th>\n",
              "      <td>103.000000</td>\n",
              "    </tr>\n",
              "    <tr>\n",
              "      <th>5839.0</th>\n",
              "      <td>101.463718</td>\n",
              "    </tr>\n",
              "    <tr>\n",
              "      <th>...</th>\n",
              "      <td>...</td>\n",
              "    </tr>\n",
              "    <tr>\n",
              "      <th>116466.0</th>\n",
              "      <td>665.999763</td>\n",
              "    </tr>\n",
              "    <tr>\n",
              "      <th>116536.0</th>\n",
              "      <td>103.789328</td>\n",
              "    </tr>\n",
              "    <tr>\n",
              "      <th>116576.0</th>\n",
              "      <td>161.365095</td>\n",
              "    </tr>\n",
              "    <tr>\n",
              "      <th>116712.0</th>\n",
              "      <td>106.611669</td>\n",
              "    </tr>\n",
              "    <tr>\n",
              "      <th>116886.0</th>\n",
              "      <td>104.918264</td>\n",
              "    </tr>\n",
              "  </tbody>\n",
              "</table>\n",
              "<p>6180 rows × 1 columns</p>\n",
              "</div>\n",
              "      <button class=\"colab-df-convert\" onclick=\"convertToInteractive('df-7ae51c20-73fa-4f80-bf1b-e1a0529d6899')\"\n",
              "              title=\"Convert this dataframe to an interactive table.\"\n",
              "              style=\"display:none;\">\n",
              "        \n",
              "  <svg xmlns=\"http://www.w3.org/2000/svg\" height=\"24px\"viewBox=\"0 0 24 24\"\n",
              "       width=\"24px\">\n",
              "    <path d=\"M0 0h24v24H0V0z\" fill=\"none\"/>\n",
              "    <path d=\"M18.56 5.44l.94 2.06.94-2.06 2.06-.94-2.06-.94-.94-2.06-.94 2.06-2.06.94zm-11 1L8.5 8.5l.94-2.06 2.06-.94-2.06-.94L8.5 2.5l-.94 2.06-2.06.94zm10 10l.94 2.06.94-2.06 2.06-.94-2.06-.94-.94-2.06-.94 2.06-2.06.94z\"/><path d=\"M17.41 7.96l-1.37-1.37c-.4-.4-.92-.59-1.43-.59-.52 0-1.04.2-1.43.59L10.3 9.45l-7.72 7.72c-.78.78-.78 2.05 0 2.83L4 21.41c.39.39.9.59 1.41.59.51 0 1.02-.2 1.41-.59l7.78-7.78 2.81-2.81c.8-.78.8-2.07 0-2.86zM5.41 20L4 18.59l7.72-7.72 1.47 1.35L5.41 20z\"/>\n",
              "  </svg>\n",
              "      </button>\n",
              "      \n",
              "  <style>\n",
              "    .colab-df-container {\n",
              "      display:flex;\n",
              "      flex-wrap:wrap;\n",
              "      gap: 12px;\n",
              "    }\n",
              "\n",
              "    .colab-df-convert {\n",
              "      background-color: #E8F0FE;\n",
              "      border: none;\n",
              "      border-radius: 50%;\n",
              "      cursor: pointer;\n",
              "      display: none;\n",
              "      fill: #1967D2;\n",
              "      height: 32px;\n",
              "      padding: 0 0 0 0;\n",
              "      width: 32px;\n",
              "    }\n",
              "\n",
              "    .colab-df-convert:hover {\n",
              "      background-color: #E2EBFA;\n",
              "      box-shadow: 0px 1px 2px rgba(60, 64, 67, 0.3), 0px 1px 3px 1px rgba(60, 64, 67, 0.15);\n",
              "      fill: #174EA6;\n",
              "    }\n",
              "\n",
              "    [theme=dark] .colab-df-convert {\n",
              "      background-color: #3B4455;\n",
              "      fill: #D2E3FC;\n",
              "    }\n",
              "\n",
              "    [theme=dark] .colab-df-convert:hover {\n",
              "      background-color: #434B5C;\n",
              "      box-shadow: 0px 1px 3px 1px rgba(0, 0, 0, 0.15);\n",
              "      filter: drop-shadow(0px 1px 2px rgba(0, 0, 0, 0.3));\n",
              "      fill: #FFFFFF;\n",
              "    }\n",
              "  </style>\n",
              "\n",
              "      <script>\n",
              "        const buttonEl =\n",
              "          document.querySelector('#df-7ae51c20-73fa-4f80-bf1b-e1a0529d6899 button.colab-df-convert');\n",
              "        buttonEl.style.display =\n",
              "          google.colab.kernel.accessAllowed ? 'block' : 'none';\n",
              "\n",
              "        async function convertToInteractive(key) {\n",
              "          const element = document.querySelector('#df-7ae51c20-73fa-4f80-bf1b-e1a0529d6899');\n",
              "          const dataTable =\n",
              "            await google.colab.kernel.invokeFunction('convertToInteractive',\n",
              "                                                     [key], {});\n",
              "          if (!dataTable) return;\n",
              "\n",
              "          const docLinkHtml = 'Like what you see? Visit the ' +\n",
              "            '<a target=\"_blank\" href=https://colab.research.google.com/notebooks/data_table.ipynb>data table notebook</a>'\n",
              "            + ' to learn more about interactive tables.';\n",
              "          element.innerHTML = '';\n",
              "          dataTable['output_type'] = 'display_data';\n",
              "          await google.colab.output.renderOutput(dataTable, element);\n",
              "          const docLink = document.createElement('div');\n",
              "          docLink.innerHTML = docLinkHtml;\n",
              "          element.appendChild(docLink);\n",
              "        }\n",
              "      </script>\n",
              "    </div>\n",
              "  </div>\n",
              "  "
            ]
          },
          "metadata": {},
          "execution_count": 69
        }
      ]
    },
    {
      "cell_type": "markdown",
      "source": [
        "Except for Linear Regression, Gamma-Gamma is another model that can predict each customer's expected value of transactions. However, it takes as input only positive monetary values. Nevertheless, we will still use Gamma-Gamma for the prediction as well as for data analysis purposes."
      ],
      "metadata": {
        "id": "vP8odkkFTJzB"
      }
    },
    {
      "cell_type": "markdown",
      "metadata": {
        "id": "c02qI94-EYtB"
      },
      "source": [
        "# Gamma-Gamma Model"
      ]
    },
    {
      "cell_type": "markdown",
      "metadata": {
        "id": "xR7O53bHGsKJ"
      },
      "source": [
        "We will fit the model with the calibration_holdout_matrix Data. However, we must investigate the correlation between monetary value and frequency, because the model relies upon the assumption that there is no relation between them"
      ]
    },
    {
      "cell_type": "code",
      "execution_count": null,
      "metadata": {
        "colab": {
          "base_uri": "https://localhost:8080/",
          "height": 112
        },
        "id": "G-Gws7XuGl9y",
        "outputId": "c0b6d0f2-b1f9-40d2-8740-fca1dc81edf5"
      },
      "outputs": [
        {
          "output_type": "execute_result",
          "data": {
            "text/plain": [
              "                    monetary_value_cal  frequency_cal\n",
              "monetary_value_cal            1.000000      -0.029401\n",
              "frequency_cal                -0.029401       1.000000"
            ],
            "text/html": [
              "\n",
              "  <div id=\"df-f50cb871-2101-41d8-a7cf-fd343f623d74\">\n",
              "    <div class=\"colab-df-container\">\n",
              "      <div>\n",
              "<style scoped>\n",
              "    .dataframe tbody tr th:only-of-type {\n",
              "        vertical-align: middle;\n",
              "    }\n",
              "\n",
              "    .dataframe tbody tr th {\n",
              "        vertical-align: top;\n",
              "    }\n",
              "\n",
              "    .dataframe thead th {\n",
              "        text-align: right;\n",
              "    }\n",
              "</style>\n",
              "<table border=\"1\" class=\"dataframe\">\n",
              "  <thead>\n",
              "    <tr style=\"text-align: right;\">\n",
              "      <th></th>\n",
              "      <th>monetary_value_cal</th>\n",
              "      <th>frequency_cal</th>\n",
              "    </tr>\n",
              "  </thead>\n",
              "  <tbody>\n",
              "    <tr>\n",
              "      <th>monetary_value_cal</th>\n",
              "      <td>1.000000</td>\n",
              "      <td>-0.029401</td>\n",
              "    </tr>\n",
              "    <tr>\n",
              "      <th>frequency_cal</th>\n",
              "      <td>-0.029401</td>\n",
              "      <td>1.000000</td>\n",
              "    </tr>\n",
              "  </tbody>\n",
              "</table>\n",
              "</div>\n",
              "      <button class=\"colab-df-convert\" onclick=\"convertToInteractive('df-f50cb871-2101-41d8-a7cf-fd343f623d74')\"\n",
              "              title=\"Convert this dataframe to an interactive table.\"\n",
              "              style=\"display:none;\">\n",
              "        \n",
              "  <svg xmlns=\"http://www.w3.org/2000/svg\" height=\"24px\"viewBox=\"0 0 24 24\"\n",
              "       width=\"24px\">\n",
              "    <path d=\"M0 0h24v24H0V0z\" fill=\"none\"/>\n",
              "    <path d=\"M18.56 5.44l.94 2.06.94-2.06 2.06-.94-2.06-.94-.94-2.06-.94 2.06-2.06.94zm-11 1L8.5 8.5l.94-2.06 2.06-.94-2.06-.94L8.5 2.5l-.94 2.06-2.06.94zm10 10l.94 2.06.94-2.06 2.06-.94-2.06-.94-.94-2.06-.94 2.06-2.06.94z\"/><path d=\"M17.41 7.96l-1.37-1.37c-.4-.4-.92-.59-1.43-.59-.52 0-1.04.2-1.43.59L10.3 9.45l-7.72 7.72c-.78.78-.78 2.05 0 2.83L4 21.41c.39.39.9.59 1.41.59.51 0 1.02-.2 1.41-.59l7.78-7.78 2.81-2.81c.8-.78.8-2.07 0-2.86zM5.41 20L4 18.59l7.72-7.72 1.47 1.35L5.41 20z\"/>\n",
              "  </svg>\n",
              "      </button>\n",
              "      \n",
              "  <style>\n",
              "    .colab-df-container {\n",
              "      display:flex;\n",
              "      flex-wrap:wrap;\n",
              "      gap: 12px;\n",
              "    }\n",
              "\n",
              "    .colab-df-convert {\n",
              "      background-color: #E8F0FE;\n",
              "      border: none;\n",
              "      border-radius: 50%;\n",
              "      cursor: pointer;\n",
              "      display: none;\n",
              "      fill: #1967D2;\n",
              "      height: 32px;\n",
              "      padding: 0 0 0 0;\n",
              "      width: 32px;\n",
              "    }\n",
              "\n",
              "    .colab-df-convert:hover {\n",
              "      background-color: #E2EBFA;\n",
              "      box-shadow: 0px 1px 2px rgba(60, 64, 67, 0.3), 0px 1px 3px 1px rgba(60, 64, 67, 0.15);\n",
              "      fill: #174EA6;\n",
              "    }\n",
              "\n",
              "    [theme=dark] .colab-df-convert {\n",
              "      background-color: #3B4455;\n",
              "      fill: #D2E3FC;\n",
              "    }\n",
              "\n",
              "    [theme=dark] .colab-df-convert:hover {\n",
              "      background-color: #434B5C;\n",
              "      box-shadow: 0px 1px 3px 1px rgba(0, 0, 0, 0.15);\n",
              "      filter: drop-shadow(0px 1px 2px rgba(0, 0, 0, 0.3));\n",
              "      fill: #FFFFFF;\n",
              "    }\n",
              "  </style>\n",
              "\n",
              "      <script>\n",
              "        const buttonEl =\n",
              "          document.querySelector('#df-f50cb871-2101-41d8-a7cf-fd343f623d74 button.colab-df-convert');\n",
              "        buttonEl.style.display =\n",
              "          google.colab.kernel.accessAllowed ? 'block' : 'none';\n",
              "\n",
              "        async function convertToInteractive(key) {\n",
              "          const element = document.querySelector('#df-f50cb871-2101-41d8-a7cf-fd343f623d74');\n",
              "          const dataTable =\n",
              "            await google.colab.kernel.invokeFunction('convertToInteractive',\n",
              "                                                     [key], {});\n",
              "          if (!dataTable) return;\n",
              "\n",
              "          const docLinkHtml = 'Like what you see? Visit the ' +\n",
              "            '<a target=\"_blank\" href=https://colab.research.google.com/notebooks/data_table.ipynb>data table notebook</a>'\n",
              "            + ' to learn more about interactive tables.';\n",
              "          element.innerHTML = '';\n",
              "          dataTable['output_type'] = 'display_data';\n",
              "          await google.colab.output.renderOutput(dataTable, element);\n",
              "          const docLink = document.createElement('div');\n",
              "          docLink.innerHTML = docLinkHtml;\n",
              "          element.appendChild(docLink);\n",
              "        }\n",
              "      </script>\n",
              "    </div>\n",
              "  </div>\n",
              "  "
            ]
          },
          "metadata": {},
          "execution_count": 70
        }
      ],
      "source": [
        "calibration_holdout_matrix[['monetary_value_cal', 'frequency_cal']].corr()"
      ]
    },
    {
      "cell_type": "markdown",
      "metadata": {
        "id": "AD8Bu_BZHcBr"
      },
      "source": [
        "Because the two have no correlation we can proceed with fitting the data to the model"
      ]
    },
    {
      "cell_type": "markdown",
      "metadata": {
        "id": "7f1x3ordKBio"
      },
      "source": [
        "In this step, we have to drop the rows that have monetary values <= 0, because the gamma gamma model can only input positive monetary values."
      ]
    },
    {
      "cell_type": "code",
      "execution_count": null,
      "metadata": {
        "id": "CtNBzQAaI4r3"
      },
      "outputs": [],
      "source": [
        "Data = calibration_holdout_matrix.loc[ calibration_holdout_matrix[\"monetary_value_cal\"] > 0 ].copy()"
      ]
    },
    {
      "cell_type": "code",
      "source": [
        "Data"
      ],
      "metadata": {
        "colab": {
          "base_uri": "https://localhost:8080/",
          "height": 519
        },
        "id": "KFRnyvMjQW_H",
        "outputId": "f71b751a-23a9-4497-aae2-2090cf687758"
      },
      "execution_count": null,
      "outputs": [
        {
          "output_type": "execute_result",
          "data": {
            "text/plain": [
              "          frequency_cal  recency_cal    T_cal  monetary_value_cal  \\\n",
              "id                                                                  \n",
              "5825.0              3.0         73.0  15567.0           11.333333   \n",
              "5830.0              1.0          0.0  15207.0          100.000000   \n",
              "5838.0             23.0       9051.0  17223.0           26.575217   \n",
              "5839.0             19.0       4175.0  18017.0           33.000000   \n",
              "5848.0              1.0          0.0  18013.0           40.000000   \n",
              "...                 ...          ...      ...                 ...   \n",
              "116466.0            1.0          0.0    252.0         5000.000000   \n",
              "116536.0            1.0          0.0    205.0           20.000000   \n",
              "116576.0            1.0          0.0    108.0          530.000000   \n",
              "116712.0            2.0         24.0     58.0           90.000000   \n",
              "116886.0            1.0          0.0     58.0           30.000000   \n",
              "\n",
              "          frequency_holdout  monetary_value_holdout  duration_holdout  \n",
              "id                                                                     \n",
              "5825.0                  0.0                   0.000            1741.0  \n",
              "5830.0                  0.0                   0.000            1741.0  \n",
              "5838.0                  0.0                   0.000            1741.0  \n",
              "5839.0                  0.0                   0.000            1741.0  \n",
              "5848.0                  0.0                   0.000            1741.0  \n",
              "...                     ...                     ...               ...  \n",
              "116466.0                4.0                6900.000            1741.0  \n",
              "116536.0                0.0                   0.000            1741.0  \n",
              "116576.0                8.0                -118.375            1741.0  \n",
              "116712.0                0.0                   0.000            1741.0  \n",
              "116886.0               20.0                   2.095            1741.0  \n",
              "\n",
              "[5281 rows x 7 columns]"
            ],
            "text/html": [
              "\n",
              "  <div id=\"df-b659cacf-ce0f-440e-a381-50a328946d82\">\n",
              "    <div class=\"colab-df-container\">\n",
              "      <div>\n",
              "<style scoped>\n",
              "    .dataframe tbody tr th:only-of-type {\n",
              "        vertical-align: middle;\n",
              "    }\n",
              "\n",
              "    .dataframe tbody tr th {\n",
              "        vertical-align: top;\n",
              "    }\n",
              "\n",
              "    .dataframe thead th {\n",
              "        text-align: right;\n",
              "    }\n",
              "</style>\n",
              "<table border=\"1\" class=\"dataframe\">\n",
              "  <thead>\n",
              "    <tr style=\"text-align: right;\">\n",
              "      <th></th>\n",
              "      <th>frequency_cal</th>\n",
              "      <th>recency_cal</th>\n",
              "      <th>T_cal</th>\n",
              "      <th>monetary_value_cal</th>\n",
              "      <th>frequency_holdout</th>\n",
              "      <th>monetary_value_holdout</th>\n",
              "      <th>duration_holdout</th>\n",
              "    </tr>\n",
              "    <tr>\n",
              "      <th>id</th>\n",
              "      <th></th>\n",
              "      <th></th>\n",
              "      <th></th>\n",
              "      <th></th>\n",
              "      <th></th>\n",
              "      <th></th>\n",
              "      <th></th>\n",
              "    </tr>\n",
              "  </thead>\n",
              "  <tbody>\n",
              "    <tr>\n",
              "      <th>5825.0</th>\n",
              "      <td>3.0</td>\n",
              "      <td>73.0</td>\n",
              "      <td>15567.0</td>\n",
              "      <td>11.333333</td>\n",
              "      <td>0.0</td>\n",
              "      <td>0.000</td>\n",
              "      <td>1741.0</td>\n",
              "    </tr>\n",
              "    <tr>\n",
              "      <th>5830.0</th>\n",
              "      <td>1.0</td>\n",
              "      <td>0.0</td>\n",
              "      <td>15207.0</td>\n",
              "      <td>100.000000</td>\n",
              "      <td>0.0</td>\n",
              "      <td>0.000</td>\n",
              "      <td>1741.0</td>\n",
              "    </tr>\n",
              "    <tr>\n",
              "      <th>5838.0</th>\n",
              "      <td>23.0</td>\n",
              "      <td>9051.0</td>\n",
              "      <td>17223.0</td>\n",
              "      <td>26.575217</td>\n",
              "      <td>0.0</td>\n",
              "      <td>0.000</td>\n",
              "      <td>1741.0</td>\n",
              "    </tr>\n",
              "    <tr>\n",
              "      <th>5839.0</th>\n",
              "      <td>19.0</td>\n",
              "      <td>4175.0</td>\n",
              "      <td>18017.0</td>\n",
              "      <td>33.000000</td>\n",
              "      <td>0.0</td>\n",
              "      <td>0.000</td>\n",
              "      <td>1741.0</td>\n",
              "    </tr>\n",
              "    <tr>\n",
              "      <th>5848.0</th>\n",
              "      <td>1.0</td>\n",
              "      <td>0.0</td>\n",
              "      <td>18013.0</td>\n",
              "      <td>40.000000</td>\n",
              "      <td>0.0</td>\n",
              "      <td>0.000</td>\n",
              "      <td>1741.0</td>\n",
              "    </tr>\n",
              "    <tr>\n",
              "      <th>...</th>\n",
              "      <td>...</td>\n",
              "      <td>...</td>\n",
              "      <td>...</td>\n",
              "      <td>...</td>\n",
              "      <td>...</td>\n",
              "      <td>...</td>\n",
              "      <td>...</td>\n",
              "    </tr>\n",
              "    <tr>\n",
              "      <th>116466.0</th>\n",
              "      <td>1.0</td>\n",
              "      <td>0.0</td>\n",
              "      <td>252.0</td>\n",
              "      <td>5000.000000</td>\n",
              "      <td>4.0</td>\n",
              "      <td>6900.000</td>\n",
              "      <td>1741.0</td>\n",
              "    </tr>\n",
              "    <tr>\n",
              "      <th>116536.0</th>\n",
              "      <td>1.0</td>\n",
              "      <td>0.0</td>\n",
              "      <td>205.0</td>\n",
              "      <td>20.000000</td>\n",
              "      <td>0.0</td>\n",
              "      <td>0.000</td>\n",
              "      <td>1741.0</td>\n",
              "    </tr>\n",
              "    <tr>\n",
              "      <th>116576.0</th>\n",
              "      <td>1.0</td>\n",
              "      <td>0.0</td>\n",
              "      <td>108.0</td>\n",
              "      <td>530.000000</td>\n",
              "      <td>8.0</td>\n",
              "      <td>-118.375</td>\n",
              "      <td>1741.0</td>\n",
              "    </tr>\n",
              "    <tr>\n",
              "      <th>116712.0</th>\n",
              "      <td>2.0</td>\n",
              "      <td>24.0</td>\n",
              "      <td>58.0</td>\n",
              "      <td>90.000000</td>\n",
              "      <td>0.0</td>\n",
              "      <td>0.000</td>\n",
              "      <td>1741.0</td>\n",
              "    </tr>\n",
              "    <tr>\n",
              "      <th>116886.0</th>\n",
              "      <td>1.0</td>\n",
              "      <td>0.0</td>\n",
              "      <td>58.0</td>\n",
              "      <td>30.000000</td>\n",
              "      <td>20.0</td>\n",
              "      <td>2.095</td>\n",
              "      <td>1741.0</td>\n",
              "    </tr>\n",
              "  </tbody>\n",
              "</table>\n",
              "<p>5281 rows × 7 columns</p>\n",
              "</div>\n",
              "      <button class=\"colab-df-convert\" onclick=\"convertToInteractive('df-b659cacf-ce0f-440e-a381-50a328946d82')\"\n",
              "              title=\"Convert this dataframe to an interactive table.\"\n",
              "              style=\"display:none;\">\n",
              "        \n",
              "  <svg xmlns=\"http://www.w3.org/2000/svg\" height=\"24px\"viewBox=\"0 0 24 24\"\n",
              "       width=\"24px\">\n",
              "    <path d=\"M0 0h24v24H0V0z\" fill=\"none\"/>\n",
              "    <path d=\"M18.56 5.44l.94 2.06.94-2.06 2.06-.94-2.06-.94-.94-2.06-.94 2.06-2.06.94zm-11 1L8.5 8.5l.94-2.06 2.06-.94-2.06-.94L8.5 2.5l-.94 2.06-2.06.94zm10 10l.94 2.06.94-2.06 2.06-.94-2.06-.94-.94-2.06-.94 2.06-2.06.94z\"/><path d=\"M17.41 7.96l-1.37-1.37c-.4-.4-.92-.59-1.43-.59-.52 0-1.04.2-1.43.59L10.3 9.45l-7.72 7.72c-.78.78-.78 2.05 0 2.83L4 21.41c.39.39.9.59 1.41.59.51 0 1.02-.2 1.41-.59l7.78-7.78 2.81-2.81c.8-.78.8-2.07 0-2.86zM5.41 20L4 18.59l7.72-7.72 1.47 1.35L5.41 20z\"/>\n",
              "  </svg>\n",
              "      </button>\n",
              "      \n",
              "  <style>\n",
              "    .colab-df-container {\n",
              "      display:flex;\n",
              "      flex-wrap:wrap;\n",
              "      gap: 12px;\n",
              "    }\n",
              "\n",
              "    .colab-df-convert {\n",
              "      background-color: #E8F0FE;\n",
              "      border: none;\n",
              "      border-radius: 50%;\n",
              "      cursor: pointer;\n",
              "      display: none;\n",
              "      fill: #1967D2;\n",
              "      height: 32px;\n",
              "      padding: 0 0 0 0;\n",
              "      width: 32px;\n",
              "    }\n",
              "\n",
              "    .colab-df-convert:hover {\n",
              "      background-color: #E2EBFA;\n",
              "      box-shadow: 0px 1px 2px rgba(60, 64, 67, 0.3), 0px 1px 3px 1px rgba(60, 64, 67, 0.15);\n",
              "      fill: #174EA6;\n",
              "    }\n",
              "\n",
              "    [theme=dark] .colab-df-convert {\n",
              "      background-color: #3B4455;\n",
              "      fill: #D2E3FC;\n",
              "    }\n",
              "\n",
              "    [theme=dark] .colab-df-convert:hover {\n",
              "      background-color: #434B5C;\n",
              "      box-shadow: 0px 1px 3px 1px rgba(0, 0, 0, 0.15);\n",
              "      filter: drop-shadow(0px 1px 2px rgba(0, 0, 0, 0.3));\n",
              "      fill: #FFFFFF;\n",
              "    }\n",
              "  </style>\n",
              "\n",
              "      <script>\n",
              "        const buttonEl =\n",
              "          document.querySelector('#df-b659cacf-ce0f-440e-a381-50a328946d82 button.colab-df-convert');\n",
              "        buttonEl.style.display =\n",
              "          google.colab.kernel.accessAllowed ? 'block' : 'none';\n",
              "\n",
              "        async function convertToInteractive(key) {\n",
              "          const element = document.querySelector('#df-b659cacf-ce0f-440e-a381-50a328946d82');\n",
              "          const dataTable =\n",
              "            await google.colab.kernel.invokeFunction('convertToInteractive',\n",
              "                                                     [key], {});\n",
              "          if (!dataTable) return;\n",
              "\n",
              "          const docLinkHtml = 'Like what you see? Visit the ' +\n",
              "            '<a target=\"_blank\" href=https://colab.research.google.com/notebooks/data_table.ipynb>data table notebook</a>'\n",
              "            + ' to learn more about interactive tables.';\n",
              "          element.innerHTML = '';\n",
              "          dataTable['output_type'] = 'display_data';\n",
              "          await google.colab.output.renderOutput(dataTable, element);\n",
              "          const docLink = document.createElement('div');\n",
              "          docLink.innerHTML = docLinkHtml;\n",
              "          element.appendChild(docLink);\n",
              "        }\n",
              "      </script>\n",
              "    </div>\n",
              "  </div>\n",
              "  "
            ]
          },
          "metadata": {},
          "execution_count": 72
        }
      ]
    },
    {
      "cell_type": "code",
      "source": [
        "calibration_holdout_matrix.shape[0] - Data.shape[0]"
      ],
      "metadata": {
        "colab": {
          "base_uri": "https://localhost:8080/"
        },
        "id": "n4zP0eg6ikEy",
        "outputId": "adc70cf5-1dc9-4a23-d406-21a1af46b702"
      },
      "execution_count": null,
      "outputs": [
        {
          "output_type": "execute_result",
          "data": {
            "text/plain": [
              "899"
            ]
          },
          "metadata": {},
          "execution_count": 73
        }
      ]
    },
    {
      "cell_type": "markdown",
      "metadata": {
        "id": "kS6sbZ96cUcM"
      },
      "source": [
        "### Fitting the data to the Gamma-Gamma Model"
      ]
    },
    {
      "cell_type": "code",
      "execution_count": null,
      "metadata": {
        "colab": {
          "base_uri": "https://localhost:8080/"
        },
        "id": "TK2E5VE9-fzq",
        "outputId": "e3e82826-8307-4143-c45e-e7d16c76f7e8"
      },
      "outputs": [
        {
          "output_type": "execute_result",
          "data": {
            "text/plain": [
              "<lifetimes.GammaGammaFitter: fitted with 5281 subjects, p: 0.81, q: 0.33, v: 2.12>"
            ]
          },
          "metadata": {},
          "execution_count": 74
        }
      ],
      "source": [
        "ggf = GammaGammaFitter(penalizer_coef=0.01)\n",
        "ggf.fit(Data[\"frequency_cal\"], Data[\"monetary_value_cal\"])"
      ]
    },
    {
      "cell_type": "markdown",
      "metadata": {
        "id": "DZAqnCkOcjyt"
      },
      "source": [
        "### Average Order Value"
      ]
    },
    {
      "cell_type": "markdown",
      "metadata": {
        "id": "hD0EsU9OVDNv"
      },
      "source": [
        "Now we will predict customer's expected purchase value - AOV"
      ]
    },
    {
      "cell_type": "code",
      "execution_count": null,
      "metadata": {
        "id": "uj2oE77t-fwn"
      },
      "outputs": [],
      "source": [
        "AOV = ggf.conditional_expected_average_profit(\n",
        "        Data['frequency_cal'],\n",
        "        Data['monetary_value_cal'])"
      ]
    },
    {
      "cell_type": "code",
      "execution_count": null,
      "metadata": {
        "colab": {
          "base_uri": "https://localhost:8080/",
          "height": 238
        },
        "id": "aUzMAerR-fuB",
        "outputId": "d5def136-f22e-4b16-8834-fc8c4e77f013"
      },
      "outputs": [
        {
          "output_type": "execute_result",
          "data": {
            "text/plain": [
              "               AOV\n",
              "id                \n",
              "5825.0   16.661400\n",
              "5830.0  608.029536\n",
              "5838.0   27.668370\n",
              "5839.0   34.628068\n",
              "5848.0  250.789423"
            ],
            "text/html": [
              "\n",
              "  <div id=\"df-5e62eeed-aa02-4862-9e34-e8e82054b770\">\n",
              "    <div class=\"colab-df-container\">\n",
              "      <div>\n",
              "<style scoped>\n",
              "    .dataframe tbody tr th:only-of-type {\n",
              "        vertical-align: middle;\n",
              "    }\n",
              "\n",
              "    .dataframe tbody tr th {\n",
              "        vertical-align: top;\n",
              "    }\n",
              "\n",
              "    .dataframe thead th {\n",
              "        text-align: right;\n",
              "    }\n",
              "</style>\n",
              "<table border=\"1\" class=\"dataframe\">\n",
              "  <thead>\n",
              "    <tr style=\"text-align: right;\">\n",
              "      <th></th>\n",
              "      <th>AOV</th>\n",
              "    </tr>\n",
              "    <tr>\n",
              "      <th>id</th>\n",
              "      <th></th>\n",
              "    </tr>\n",
              "  </thead>\n",
              "  <tbody>\n",
              "    <tr>\n",
              "      <th>5825.0</th>\n",
              "      <td>16.661400</td>\n",
              "    </tr>\n",
              "    <tr>\n",
              "      <th>5830.0</th>\n",
              "      <td>608.029536</td>\n",
              "    </tr>\n",
              "    <tr>\n",
              "      <th>5838.0</th>\n",
              "      <td>27.668370</td>\n",
              "    </tr>\n",
              "    <tr>\n",
              "      <th>5839.0</th>\n",
              "      <td>34.628068</td>\n",
              "    </tr>\n",
              "    <tr>\n",
              "      <th>5848.0</th>\n",
              "      <td>250.789423</td>\n",
              "    </tr>\n",
              "  </tbody>\n",
              "</table>\n",
              "</div>\n",
              "      <button class=\"colab-df-convert\" onclick=\"convertToInteractive('df-5e62eeed-aa02-4862-9e34-e8e82054b770')\"\n",
              "              title=\"Convert this dataframe to an interactive table.\"\n",
              "              style=\"display:none;\">\n",
              "        \n",
              "  <svg xmlns=\"http://www.w3.org/2000/svg\" height=\"24px\"viewBox=\"0 0 24 24\"\n",
              "       width=\"24px\">\n",
              "    <path d=\"M0 0h24v24H0V0z\" fill=\"none\"/>\n",
              "    <path d=\"M18.56 5.44l.94 2.06.94-2.06 2.06-.94-2.06-.94-.94-2.06-.94 2.06-2.06.94zm-11 1L8.5 8.5l.94-2.06 2.06-.94-2.06-.94L8.5 2.5l-.94 2.06-2.06.94zm10 10l.94 2.06.94-2.06 2.06-.94-2.06-.94-.94-2.06-.94 2.06-2.06.94z\"/><path d=\"M17.41 7.96l-1.37-1.37c-.4-.4-.92-.59-1.43-.59-.52 0-1.04.2-1.43.59L10.3 9.45l-7.72 7.72c-.78.78-.78 2.05 0 2.83L4 21.41c.39.39.9.59 1.41.59.51 0 1.02-.2 1.41-.59l7.78-7.78 2.81-2.81c.8-.78.8-2.07 0-2.86zM5.41 20L4 18.59l7.72-7.72 1.47 1.35L5.41 20z\"/>\n",
              "  </svg>\n",
              "      </button>\n",
              "      \n",
              "  <style>\n",
              "    .colab-df-container {\n",
              "      display:flex;\n",
              "      flex-wrap:wrap;\n",
              "      gap: 12px;\n",
              "    }\n",
              "\n",
              "    .colab-df-convert {\n",
              "      background-color: #E8F0FE;\n",
              "      border: none;\n",
              "      border-radius: 50%;\n",
              "      cursor: pointer;\n",
              "      display: none;\n",
              "      fill: #1967D2;\n",
              "      height: 32px;\n",
              "      padding: 0 0 0 0;\n",
              "      width: 32px;\n",
              "    }\n",
              "\n",
              "    .colab-df-convert:hover {\n",
              "      background-color: #E2EBFA;\n",
              "      box-shadow: 0px 1px 2px rgba(60, 64, 67, 0.3), 0px 1px 3px 1px rgba(60, 64, 67, 0.15);\n",
              "      fill: #174EA6;\n",
              "    }\n",
              "\n",
              "    [theme=dark] .colab-df-convert {\n",
              "      background-color: #3B4455;\n",
              "      fill: #D2E3FC;\n",
              "    }\n",
              "\n",
              "    [theme=dark] .colab-df-convert:hover {\n",
              "      background-color: #434B5C;\n",
              "      box-shadow: 0px 1px 3px 1px rgba(0, 0, 0, 0.15);\n",
              "      filter: drop-shadow(0px 1px 2px rgba(0, 0, 0, 0.3));\n",
              "      fill: #FFFFFF;\n",
              "    }\n",
              "  </style>\n",
              "\n",
              "      <script>\n",
              "        const buttonEl =\n",
              "          document.querySelector('#df-5e62eeed-aa02-4862-9e34-e8e82054b770 button.colab-df-convert');\n",
              "        buttonEl.style.display =\n",
              "          google.colab.kernel.accessAllowed ? 'block' : 'none';\n",
              "\n",
              "        async function convertToInteractive(key) {\n",
              "          const element = document.querySelector('#df-5e62eeed-aa02-4862-9e34-e8e82054b770');\n",
              "          const dataTable =\n",
              "            await google.colab.kernel.invokeFunction('convertToInteractive',\n",
              "                                                     [key], {});\n",
              "          if (!dataTable) return;\n",
              "\n",
              "          const docLinkHtml = 'Like what you see? Visit the ' +\n",
              "            '<a target=\"_blank\" href=https://colab.research.google.com/notebooks/data_table.ipynb>data table notebook</a>'\n",
              "            + ' to learn more about interactive tables.';\n",
              "          element.innerHTML = '';\n",
              "          dataTable['output_type'] = 'display_data';\n",
              "          await google.colab.output.renderOutput(dataTable, element);\n",
              "          const docLink = document.createElement('div');\n",
              "          docLink.innerHTML = docLinkHtml;\n",
              "          element.appendChild(docLink);\n",
              "        }\n",
              "      </script>\n",
              "    </div>\n",
              "  </div>\n",
              "  "
            ]
          },
          "metadata": {},
          "execution_count": 76
        }
      ],
      "source": [
        "AOV_DF = pd.DataFrame(AOV , columns = ['AOV'])\n",
        "AOV_DF.head()"
      ]
    },
    {
      "cell_type": "code",
      "execution_count": null,
      "metadata": {
        "colab": {
          "base_uri": "https://localhost:8080/",
          "height": 460
        },
        "id": "aCABJ6ce-frZ",
        "outputId": "3c8d9af2-330c-4b7c-853f-0416f48c60e8"
      },
      "outputs": [
        {
          "output_type": "execute_result",
          "data": {
            "text/plain": [
              "<matplotlib.axes._subplots.AxesSubplot at 0x7f46494f83a0>"
            ]
          },
          "metadata": {},
          "execution_count": 77
        },
        {
          "output_type": "display_data",
          "data": {
            "text/plain": [
              "<Figure size 720x504 with 1 Axes>"
            ],
            "image/png": "[encoded data removed]"
          },
          "metadata": {
            "needs_background": "light"
          }
        }
      ],
      "source": [
        "plt.figure(figsize=(10 , 7))\n",
        "sns.distplot(AOV_DF['AOV'])"
      ]
    },
    {
      "cell_type": "markdown",
      "metadata": {
        "id": "7_CBvIkdYjvY"
      },
      "source": [
        "Most of the customers are expected to end up with only small average transactions, but there exists a long tail of higher-value customers."
      ]
    },
    {
      "cell_type": "markdown",
      "metadata": {
        "id": "P9reZaZmbl4w"
      },
      "source": [
        "Moreover, we will apply K-means clustering to the AOV dataframe so we can analyze further the differences in average transactions and get a better picture of the data."
      ]
    },
    {
      "cell_type": "code",
      "execution_count": null,
      "metadata": {
        "colab": {
          "base_uri": "https://localhost:8080/",
          "height": 238
        },
        "id": "qExPn68c-fpD",
        "outputId": "f1a6bb0d-89b1-4ecc-b7ec-978289756c40"
      },
      "outputs": [
        {
          "output_type": "execute_result",
          "data": {
            "text/plain": [
              "                   AOV\n",
              "cluster               \n",
              "2        893112.911934\n",
              "1        285804.719775\n",
              "3         83831.874952\n",
              "4         21761.185635\n",
              "0           398.262143"
            ],
            "text/html": [
              "\n",
              "  <div id=\"df-8b417495-625b-4ff0-932d-18901f1a95e5\">\n",
              "    <div class=\"colab-df-container\">\n",
              "      <div>\n",
              "<style scoped>\n",
              "    .dataframe tbody tr th:only-of-type {\n",
              "        vertical-align: middle;\n",
              "    }\n",
              "\n",
              "    .dataframe tbody tr th {\n",
              "        vertical-align: top;\n",
              "    }\n",
              "\n",
              "    .dataframe thead th {\n",
              "        text-align: right;\n",
              "    }\n",
              "</style>\n",
              "<table border=\"1\" class=\"dataframe\">\n",
              "  <thead>\n",
              "    <tr style=\"text-align: right;\">\n",
              "      <th></th>\n",
              "      <th>AOV</th>\n",
              "    </tr>\n",
              "    <tr>\n",
              "      <th>cluster</th>\n",
              "      <th></th>\n",
              "    </tr>\n",
              "  </thead>\n",
              "  <tbody>\n",
              "    <tr>\n",
              "      <th>2</th>\n",
              "      <td>893112.911934</td>\n",
              "    </tr>\n",
              "    <tr>\n",
              "      <th>1</th>\n",
              "      <td>285804.719775</td>\n",
              "    </tr>\n",
              "    <tr>\n",
              "      <th>3</th>\n",
              "      <td>83831.874952</td>\n",
              "    </tr>\n",
              "    <tr>\n",
              "      <th>4</th>\n",
              "      <td>21761.185635</td>\n",
              "    </tr>\n",
              "    <tr>\n",
              "      <th>0</th>\n",
              "      <td>398.262143</td>\n",
              "    </tr>\n",
              "  </tbody>\n",
              "</table>\n",
              "</div>\n",
              "      <button class=\"colab-df-convert\" onclick=\"convertToInteractive('df-8b417495-625b-4ff0-932d-18901f1a95e5')\"\n",
              "              title=\"Convert this dataframe to an interactive table.\"\n",
              "              style=\"display:none;\">\n",
              "        \n",
              "  <svg xmlns=\"http://www.w3.org/2000/svg\" height=\"24px\"viewBox=\"0 0 24 24\"\n",
              "       width=\"24px\">\n",
              "    <path d=\"M0 0h24v24H0V0z\" fill=\"none\"/>\n",
              "    <path d=\"M18.56 5.44l.94 2.06.94-2.06 2.06-.94-2.06-.94-.94-2.06-.94 2.06-2.06.94zm-11 1L8.5 8.5l.94-2.06 2.06-.94-2.06-.94L8.5 2.5l-.94 2.06-2.06.94zm10 10l.94 2.06.94-2.06 2.06-.94-2.06-.94-.94-2.06-.94 2.06-2.06.94z\"/><path d=\"M17.41 7.96l-1.37-1.37c-.4-.4-.92-.59-1.43-.59-.52 0-1.04.2-1.43.59L10.3 9.45l-7.72 7.72c-.78.78-.78 2.05 0 2.83L4 21.41c.39.39.9.59 1.41.59.51 0 1.02-.2 1.41-.59l7.78-7.78 2.81-2.81c.8-.78.8-2.07 0-2.86zM5.41 20L4 18.59l7.72-7.72 1.47 1.35L5.41 20z\"/>\n",
              "  </svg>\n",
              "      </button>\n",
              "      \n",
              "  <style>\n",
              "    .colab-df-container {\n",
              "      display:flex;\n",
              "      flex-wrap:wrap;\n",
              "      gap: 12px;\n",
              "    }\n",
              "\n",
              "    .colab-df-convert {\n",
              "      background-color: #E8F0FE;\n",
              "      border: none;\n",
              "      border-radius: 50%;\n",
              "      cursor: pointer;\n",
              "      display: none;\n",
              "      fill: #1967D2;\n",
              "      height: 32px;\n",
              "      padding: 0 0 0 0;\n",
              "      width: 32px;\n",
              "    }\n",
              "\n",
              "    .colab-df-convert:hover {\n",
              "      background-color: #E2EBFA;\n",
              "      box-shadow: 0px 1px 2px rgba(60, 64, 67, 0.3), 0px 1px 3px 1px rgba(60, 64, 67, 0.15);\n",
              "      fill: #174EA6;\n",
              "    }\n",
              "\n",
              "    [theme=dark] .colab-df-convert {\n",
              "      background-color: #3B4455;\n",
              "      fill: #D2E3FC;\n",
              "    }\n",
              "\n",
              "    [theme=dark] .colab-df-convert:hover {\n",
              "      background-color: #434B5C;\n",
              "      box-shadow: 0px 1px 3px 1px rgba(0, 0, 0, 0.15);\n",
              "      filter: drop-shadow(0px 1px 2px rgba(0, 0, 0, 0.3));\n",
              "      fill: #FFFFFF;\n",
              "    }\n",
              "  </style>\n",
              "\n",
              "      <script>\n",
              "        const buttonEl =\n",
              "          document.querySelector('#df-8b417495-625b-4ff0-932d-18901f1a95e5 button.colab-df-convert');\n",
              "        buttonEl.style.display =\n",
              "          google.colab.kernel.accessAllowed ? 'block' : 'none';\n",
              "\n",
              "        async function convertToInteractive(key) {\n",
              "          const element = document.querySelector('#df-8b417495-625b-4ff0-932d-18901f1a95e5');\n",
              "          const dataTable =\n",
              "            await google.colab.kernel.invokeFunction('convertToInteractive',\n",
              "                                                     [key], {});\n",
              "          if (!dataTable) return;\n",
              "\n",
              "          const docLinkHtml = 'Like what you see? Visit the ' +\n",
              "            '<a target=\"_blank\" href=https://colab.research.google.com/notebooks/data_table.ipynb>data table notebook</a>'\n",
              "            + ' to learn more about interactive tables.';\n",
              "          element.innerHTML = '';\n",
              "          dataTable['output_type'] = 'display_data';\n",
              "          await google.colab.output.renderOutput(dataTable, element);\n",
              "          const docLink = document.createElement('div');\n",
              "          docLink.innerHTML = docLinkHtml;\n",
              "          element.appendChild(docLink);\n",
              "        }\n",
              "      </script>\n",
              "    </div>\n",
              "  </div>\n",
              "  "
            ]
          },
          "metadata": {},
          "execution_count": 78
        }
      ],
      "source": [
        "clusters = AOV_DF[['AOV']]\n",
        "kmeans = KMeans(n_clusters = 5)\n",
        "kmeans.fit(clusters)\n",
        "\n",
        "clusters = clusters.assign(cluster=kmeans.labels_)\n",
        "clusters.groupby('cluster')['AOV'].mean().sort_values(ascending=False).to_frame()"
      ]
    },
    {
      "cell_type": "code",
      "execution_count": null,
      "metadata": {
        "colab": {
          "base_uri": "https://localhost:8080/",
          "height": 238
        },
        "id": "gjQ2rYy-eVrH",
        "outputId": "177188e7-e666-4f5e-bee6-c9062267ef15"
      },
      "outputs": [
        {
          "output_type": "execute_result",
          "data": {
            "text/plain": [
              "          AOV\n",
              "cluster      \n",
              "0        5135\n",
              "1           6\n",
              "2           1\n",
              "3          19\n",
              "4         120"
            ],
            "text/html": [
              "\n",
              "  <div id=\"df-2e0fa836-3a03-4fbe-9435-aae5d6ac663e\">\n",
              "    <div class=\"colab-df-container\">\n",
              "      <div>\n",
              "<style scoped>\n",
              "    .dataframe tbody tr th:only-of-type {\n",
              "        vertical-align: middle;\n",
              "    }\n",
              "\n",
              "    .dataframe tbody tr th {\n",
              "        vertical-align: top;\n",
              "    }\n",
              "\n",
              "    .dataframe thead th {\n",
              "        text-align: right;\n",
              "    }\n",
              "</style>\n",
              "<table border=\"1\" class=\"dataframe\">\n",
              "  <thead>\n",
              "    <tr style=\"text-align: right;\">\n",
              "      <th></th>\n",
              "      <th>AOV</th>\n",
              "    </tr>\n",
              "    <tr>\n",
              "      <th>cluster</th>\n",
              "      <th></th>\n",
              "    </tr>\n",
              "  </thead>\n",
              "  <tbody>\n",
              "    <tr>\n",
              "      <th>0</th>\n",
              "      <td>5135</td>\n",
              "    </tr>\n",
              "    <tr>\n",
              "      <th>1</th>\n",
              "      <td>6</td>\n",
              "    </tr>\n",
              "    <tr>\n",
              "      <th>2</th>\n",
              "      <td>1</td>\n",
              "    </tr>\n",
              "    <tr>\n",
              "      <th>3</th>\n",
              "      <td>19</td>\n",
              "    </tr>\n",
              "    <tr>\n",
              "      <th>4</th>\n",
              "      <td>120</td>\n",
              "    </tr>\n",
              "  </tbody>\n",
              "</table>\n",
              "</div>\n",
              "      <button class=\"colab-df-convert\" onclick=\"convertToInteractive('df-2e0fa836-3a03-4fbe-9435-aae5d6ac663e')\"\n",
              "              title=\"Convert this dataframe to an interactive table.\"\n",
              "              style=\"display:none;\">\n",
              "        \n",
              "  <svg xmlns=\"http://www.w3.org/2000/svg\" height=\"24px\"viewBox=\"0 0 24 24\"\n",
              "       width=\"24px\">\n",
              "    <path d=\"M0 0h24v24H0V0z\" fill=\"none\"/>\n",
              "    <path d=\"M18.56 5.44l.94 2.06.94-2.06 2.06-.94-2.06-.94-.94-2.06-.94 2.06-2.06.94zm-11 1L8.5 8.5l.94-2.06 2.06-.94-2.06-.94L8.5 2.5l-.94 2.06-2.06.94zm10 10l.94 2.06.94-2.06 2.06-.94-2.06-.94-.94-2.06-.94 2.06-2.06.94z\"/><path d=\"M17.41 7.96l-1.37-1.37c-.4-.4-.92-.59-1.43-.59-.52 0-1.04.2-1.43.59L10.3 9.45l-7.72 7.72c-.78.78-.78 2.05 0 2.83L4 21.41c.39.39.9.59 1.41.59.51 0 1.02-.2 1.41-.59l7.78-7.78 2.81-2.81c.8-.78.8-2.07 0-2.86zM5.41 20L4 18.59l7.72-7.72 1.47 1.35L5.41 20z\"/>\n",
              "  </svg>\n",
              "      </button>\n",
              "      \n",
              "  <style>\n",
              "    .colab-df-container {\n",
              "      display:flex;\n",
              "      flex-wrap:wrap;\n",
              "      gap: 12px;\n",
              "    }\n",
              "\n",
              "    .colab-df-convert {\n",
              "      background-color: #E8F0FE;\n",
              "      border: none;\n",
              "      border-radius: 50%;\n",
              "      cursor: pointer;\n",
              "      display: none;\n",
              "      fill: #1967D2;\n",
              "      height: 32px;\n",
              "      padding: 0 0 0 0;\n",
              "      width: 32px;\n",
              "    }\n",
              "\n",
              "    .colab-df-convert:hover {\n",
              "      background-color: #E2EBFA;\n",
              "      box-shadow: 0px 1px 2px rgba(60, 64, 67, 0.3), 0px 1px 3px 1px rgba(60, 64, 67, 0.15);\n",
              "      fill: #174EA6;\n",
              "    }\n",
              "\n",
              "    [theme=dark] .colab-df-convert {\n",
              "      background-color: #3B4455;\n",
              "      fill: #D2E3FC;\n",
              "    }\n",
              "\n",
              "    [theme=dark] .colab-df-convert:hover {\n",
              "      background-color: #434B5C;\n",
              "      box-shadow: 0px 1px 3px 1px rgba(0, 0, 0, 0.15);\n",
              "      filter: drop-shadow(0px 1px 2px rgba(0, 0, 0, 0.3));\n",
              "      fill: #FFFFFF;\n",
              "    }\n",
              "  </style>\n",
              "\n",
              "      <script>\n",
              "        const buttonEl =\n",
              "          document.querySelector('#df-2e0fa836-3a03-4fbe-9435-aae5d6ac663e button.colab-df-convert');\n",
              "        buttonEl.style.display =\n",
              "          google.colab.kernel.accessAllowed ? 'block' : 'none';\n",
              "\n",
              "        async function convertToInteractive(key) {\n",
              "          const element = document.querySelector('#df-2e0fa836-3a03-4fbe-9435-aae5d6ac663e');\n",
              "          const dataTable =\n",
              "            await google.colab.kernel.invokeFunction('convertToInteractive',\n",
              "                                                     [key], {});\n",
              "          if (!dataTable) return;\n",
              "\n",
              "          const docLinkHtml = 'Like what you see? Visit the ' +\n",
              "            '<a target=\"_blank\" href=https://colab.research.google.com/notebooks/data_table.ipynb>data table notebook</a>'\n",
              "            + ' to learn more about interactive tables.';\n",
              "          element.innerHTML = '';\n",
              "          dataTable['output_type'] = 'display_data';\n",
              "          await google.colab.output.renderOutput(dataTable, element);\n",
              "          const docLink = document.createElement('div');\n",
              "          docLink.innerHTML = docLinkHtml;\n",
              "          element.appendChild(docLink);\n",
              "        }\n",
              "      </script>\n",
              "    </div>\n",
              "  </div>\n",
              "  "
            ]
          },
          "metadata": {},
          "execution_count": 79
        }
      ],
      "source": [
        "clusters.groupby('cluster').count()"
      ]
    },
    {
      "cell_type": "markdown",
      "metadata": {
        "id": "Y1rBPp8jdUPz"
      },
      "source": [
        "Clusters 2 and 1 contain customers who are predicted to be high spenders with an average order value of 893113 and 285805 respectively. Cluster 0, which contains 97% of the firm's customers, holds the low spenders, with an average order value of 398."
      ]
    },
    {
      "cell_type": "markdown",
      "metadata": {
        "id": "AOdUF-zlgrVA"
      },
      "source": [
        "# Predicting Customer Lifetime Value"
      ]
    },
    {
      "cell_type": "markdown",
      "source": [
        "## CLV with Gamma-Gamma"
      ],
      "metadata": {
        "id": "yLrxNN9QzcaP"
      }
    },
    {
      "cell_type": "markdown",
      "metadata": {
        "id": "5Nnkj_n1hjVr"
      },
      "source": [
        "We will use both models to predict the CLV, BG-NBD model to predict the number of orders and the Gamma Gamma model to predict their values."
      ]
    },
    {
      "cell_type": "code",
      "execution_count": null,
      "metadata": {
        "id": "t7xLixr9-fla"
      },
      "outputs": [],
      "source": [
        "CLV_gg = ggf.customer_lifetime_value(\n",
        "    bgf,\n",
        "    Data['frequency_cal'],\n",
        "    Data['recency_cal'],\n",
        "    Data['T_cal'],\n",
        "    Data['monetary_value_cal'],\n",
        "    time = 2.3 # the lifetime expected for the user in months\n",
        ")\n",
        "\n",
        "CLV_gg = CLV_gg.to_frame().reset_index()\n",
        "CLV_gg = CLV_gg.sort_values(by='clv', ascending=False)"
      ]
    },
    {
      "cell_type": "code",
      "execution_count": null,
      "metadata": {
        "colab": {
          "base_uri": "https://localhost:8080/",
          "height": 424
        },
        "id": "tADpgJEU-ffk",
        "outputId": "788d8ff6-5274-4290-e038-bc93f27b3602"
      },
      "outputs": [
        {
          "output_type": "execute_result",
          "data": {
            "text/plain": [
              "            id           clv\n",
              "5160  113157.0  4.041028e+04\n",
              "5244  115348.0  2.649742e+04\n",
              "2073   41433.0  9.451518e+03\n",
              "2085   41692.0  9.055432e+03\n",
              "4416   97605.0  5.804484e+03\n",
              "...        ...           ...\n",
              "890    15484.0  1.778096e-55\n",
              "824    14863.0  1.948409e-58\n",
              "1655   30050.0  7.694391e-63\n",
              "242     8595.0  5.523658e-64\n",
              "2549   49720.0  2.772031e-66\n",
              "\n",
              "[5281 rows x 2 columns]"
            ],
            "text/html": [
              "\n",
              "  <div id=\"df-404a39c0-078e-4e26-90bc-5991f3038683\">\n",
              "    <div class=\"colab-df-container\">\n",
              "      <div>\n",
              "<style scoped>\n",
              "    .dataframe tbody tr th:only-of-type {\n",
              "        vertical-align: middle;\n",
              "    }\n",
              "\n",
              "    .dataframe tbody tr th {\n",
              "        vertical-align: top;\n",
              "    }\n",
              "\n",
              "    .dataframe thead th {\n",
              "        text-align: right;\n",
              "    }\n",
              "</style>\n",
              "<table border=\"1\" class=\"dataframe\">\n",
              "  <thead>\n",
              "    <tr style=\"text-align: right;\">\n",
              "      <th></th>\n",
              "      <th>id</th>\n",
              "      <th>clv</th>\n",
              "    </tr>\n",
              "  </thead>\n",
              "  <tbody>\n",
              "    <tr>\n",
              "      <th>5160</th>\n",
              "      <td>113157.0</td>\n",
              "      <td>4.041028e+04</td>\n",
              "    </tr>\n",
              "    <tr>\n",
              "      <th>5244</th>\n",
              "      <td>115348.0</td>\n",
              "      <td>2.649742e+04</td>\n",
              "    </tr>\n",
              "    <tr>\n",
              "      <th>2073</th>\n",
              "      <td>41433.0</td>\n",
              "      <td>9.451518e+03</td>\n",
              "    </tr>\n",
              "    <tr>\n",
              "      <th>2085</th>\n",
              "      <td>41692.0</td>\n",
              "      <td>9.055432e+03</td>\n",
              "    </tr>\n",
              "    <tr>\n",
              "      <th>4416</th>\n",
              "      <td>97605.0</td>\n",
              "      <td>5.804484e+03</td>\n",
              "    </tr>\n",
              "    <tr>\n",
              "      <th>...</th>\n",
              "      <td>...</td>\n",
              "      <td>...</td>\n",
              "    </tr>\n",
              "    <tr>\n",
              "      <th>890</th>\n",
              "      <td>15484.0</td>\n",
              "      <td>1.778096e-55</td>\n",
              "    </tr>\n",
              "    <tr>\n",
              "      <th>824</th>\n",
              "      <td>14863.0</td>\n",
              "      <td>1.948409e-58</td>\n",
              "    </tr>\n",
              "    <tr>\n",
              "      <th>1655</th>\n",
              "      <td>30050.0</td>\n",
              "      <td>7.694391e-63</td>\n",
              "    </tr>\n",
              "    <tr>\n",
              "      <th>242</th>\n",
              "      <td>8595.0</td>\n",
              "      <td>5.523658e-64</td>\n",
              "    </tr>\n",
              "    <tr>\n",
              "      <th>2549</th>\n",
              "      <td>49720.0</td>\n",
              "      <td>2.772031e-66</td>\n",
              "    </tr>\n",
              "  </tbody>\n",
              "</table>\n",
              "<p>5281 rows × 2 columns</p>\n",
              "</div>\n",
              "      <button class=\"colab-df-convert\" onclick=\"convertToInteractive('df-404a39c0-078e-4e26-90bc-5991f3038683')\"\n",
              "              title=\"Convert this dataframe to an interactive table.\"\n",
              "              style=\"display:none;\">\n",
              "        \n",
              "  <svg xmlns=\"http://www.w3.org/2000/svg\" height=\"24px\"viewBox=\"0 0 24 24\"\n",
              "       width=\"24px\">\n",
              "    <path d=\"M0 0h24v24H0V0z\" fill=\"none\"/>\n",
              "    <path d=\"M18.56 5.44l.94 2.06.94-2.06 2.06-.94-2.06-.94-.94-2.06-.94 2.06-2.06.94zm-11 1L8.5 8.5l.94-2.06 2.06-.94-2.06-.94L8.5 2.5l-.94 2.06-2.06.94zm10 10l.94 2.06.94-2.06 2.06-.94-2.06-.94-.94-2.06-.94 2.06-2.06.94z\"/><path d=\"M17.41 7.96l-1.37-1.37c-.4-.4-.92-.59-1.43-.59-.52 0-1.04.2-1.43.59L10.3 9.45l-7.72 7.72c-.78.78-.78 2.05 0 2.83L4 21.41c.39.39.9.59 1.41.59.51 0 1.02-.2 1.41-.59l7.78-7.78 2.81-2.81c.8-.78.8-2.07 0-2.86zM5.41 20L4 18.59l7.72-7.72 1.47 1.35L5.41 20z\"/>\n",
              "  </svg>\n",
              "      </button>\n",
              "      \n",
              "  <style>\n",
              "    .colab-df-container {\n",
              "      display:flex;\n",
              "      flex-wrap:wrap;\n",
              "      gap: 12px;\n",
              "    }\n",
              "\n",
              "    .colab-df-convert {\n",
              "      background-color: #E8F0FE;\n",
              "      border: none;\n",
              "      border-radius: 50%;\n",
              "      cursor: pointer;\n",
              "      display: none;\n",
              "      fill: #1967D2;\n",
              "      height: 32px;\n",
              "      padding: 0 0 0 0;\n",
              "      width: 32px;\n",
              "    }\n",
              "\n",
              "    .colab-df-convert:hover {\n",
              "      background-color: #E2EBFA;\n",
              "      box-shadow: 0px 1px 2px rgba(60, 64, 67, 0.3), 0px 1px 3px 1px rgba(60, 64, 67, 0.15);\n",
              "      fill: #174EA6;\n",
              "    }\n",
              "\n",
              "    [theme=dark] .colab-df-convert {\n",
              "      background-color: #3B4455;\n",
              "      fill: #D2E3FC;\n",
              "    }\n",
              "\n",
              "    [theme=dark] .colab-df-convert:hover {\n",
              "      background-color: #434B5C;\n",
              "      box-shadow: 0px 1px 3px 1px rgba(0, 0, 0, 0.15);\n",
              "      filter: drop-shadow(0px 1px 2px rgba(0, 0, 0, 0.3));\n",
              "      fill: #FFFFFF;\n",
              "    }\n",
              "  </style>\n",
              "\n",
              "      <script>\n",
              "        const buttonEl =\n",
              "          document.querySelector('#df-404a39c0-078e-4e26-90bc-5991f3038683 button.colab-df-convert');\n",
              "        buttonEl.style.display =\n",
              "          google.colab.kernel.accessAllowed ? 'block' : 'none';\n",
              "\n",
              "        async function convertToInteractive(key) {\n",
              "          const element = document.querySelector('#df-404a39c0-078e-4e26-90bc-5991f3038683');\n",
              "          const dataTable =\n",
              "            await google.colab.kernel.invokeFunction('convertToInteractive',\n",
              "                                                     [key], {});\n",
              "          if (!dataTable) return;\n",
              "\n",
              "          const docLinkHtml = 'Like what you see? Visit the ' +\n",
              "            '<a target=\"_blank\" href=https://colab.research.google.com/notebooks/data_table.ipynb>data table notebook</a>'\n",
              "            + ' to learn more about interactive tables.';\n",
              "          element.innerHTML = '';\n",
              "          dataTable['output_type'] = 'display_data';\n",
              "          await google.colab.output.renderOutput(dataTable, element);\n",
              "          const docLink = document.createElement('div');\n",
              "          docLink.innerHTML = docLinkHtml;\n",
              "          element.appendChild(docLink);\n",
              "        }\n",
              "      </script>\n",
              "    </div>\n",
              "  </div>\n",
              "  "
            ]
          },
          "metadata": {},
          "execution_count": 81
        }
      ],
      "source": [
        "CLV_gg"
      ]
    },
    {
      "cell_type": "markdown",
      "source": [
        "## CLV with Linear Regression"
      ],
      "metadata": {
        "id": "bxJXbPyxDXGr"
      }
    },
    {
      "cell_type": "code",
      "source": [
        "Expected_number_of_transactions"
      ],
      "metadata": {
        "colab": {
          "base_uri": "https://localhost:8080/",
          "height": 455
        },
        "id": "PB46Ja55zC6P",
        "outputId": "4cee093c-4d31-4567-c32d-72a1f2e29eb1"
      },
      "execution_count": null,
      "outputs": [
        {
          "output_type": "execute_result",
          "data": {
            "text/plain": [
              "          Expected number of transactions\n",
              "id                                       \n",
              "111399.0                     8.314757e+01\n",
              "44231.0                      7.506898e+01\n",
              "47515.0                      6.724275e+01\n",
              "14129.0                      6.306945e+01\n",
              "66813.0                      6.292902e+01\n",
              "...                                   ...\n",
              "30050.0                      7.006778e-61\n",
              "8595.0                       4.369354e-64\n",
              "49720.0                      5.484344e-66\n",
              "25036.0                      2.219556e-75\n",
              "25682.0                      1.067211e-91\n",
              "\n",
              "[6180 rows x 1 columns]"
            ],
            "text/html": [
              "\n",
              "  <div id=\"df-a07b7e57-f8f0-4584-9ced-cd50ee492a7f\">\n",
              "    <div class=\"colab-df-container\">\n",
              "      <div>\n",
              "<style scoped>\n",
              "    .dataframe tbody tr th:only-of-type {\n",
              "        vertical-align: middle;\n",
              "    }\n",
              "\n",
              "    .dataframe tbody tr th {\n",
              "        vertical-align: top;\n",
              "    }\n",
              "\n",
              "    .dataframe thead th {\n",
              "        text-align: right;\n",
              "    }\n",
              "</style>\n",
              "<table border=\"1\" class=\"dataframe\">\n",
              "  <thead>\n",
              "    <tr style=\"text-align: right;\">\n",
              "      <th></th>\n",
              "      <th>Expected number of transactions</th>\n",
              "    </tr>\n",
              "    <tr>\n",
              "      <th>id</th>\n",
              "      <th></th>\n",
              "    </tr>\n",
              "  </thead>\n",
              "  <tbody>\n",
              "    <tr>\n",
              "      <th>111399.0</th>\n",
              "      <td>8.314757e+01</td>\n",
              "    </tr>\n",
              "    <tr>\n",
              "      <th>44231.0</th>\n",
              "      <td>7.506898e+01</td>\n",
              "    </tr>\n",
              "    <tr>\n",
              "      <th>47515.0</th>\n",
              "      <td>6.724275e+01</td>\n",
              "    </tr>\n",
              "    <tr>\n",
              "      <th>14129.0</th>\n",
              "      <td>6.306945e+01</td>\n",
              "    </tr>\n",
              "    <tr>\n",
              "      <th>66813.0</th>\n",
              "      <td>6.292902e+01</td>\n",
              "    </tr>\n",
              "    <tr>\n",
              "      <th>...</th>\n",
              "      <td>...</td>\n",
              "    </tr>\n",
              "    <tr>\n",
              "      <th>30050.0</th>\n",
              "      <td>7.006778e-61</td>\n",
              "    </tr>\n",
              "    <tr>\n",
              "      <th>8595.0</th>\n",
              "      <td>4.369354e-64</td>\n",
              "    </tr>\n",
              "    <tr>\n",
              "      <th>49720.0</th>\n",
              "      <td>5.484344e-66</td>\n",
              "    </tr>\n",
              "    <tr>\n",
              "      <th>25036.0</th>\n",
              "      <td>2.219556e-75</td>\n",
              "    </tr>\n",
              "    <tr>\n",
              "      <th>25682.0</th>\n",
              "      <td>1.067211e-91</td>\n",
              "    </tr>\n",
              "  </tbody>\n",
              "</table>\n",
              "<p>6180 rows × 1 columns</p>\n",
              "</div>\n",
              "      <button class=\"colab-df-convert\" onclick=\"convertToInteractive('df-a07b7e57-f8f0-4584-9ced-cd50ee492a7f')\"\n",
              "              title=\"Convert this dataframe to an interactive table.\"\n",
              "              style=\"display:none;\">\n",
              "        \n",
              "  <svg xmlns=\"http://www.w3.org/2000/svg\" height=\"24px\"viewBox=\"0 0 24 24\"\n",
              "       width=\"24px\">\n",
              "    <path d=\"M0 0h24v24H0V0z\" fill=\"none\"/>\n",
              "    <path d=\"M18.56 5.44l.94 2.06.94-2.06 2.06-.94-2.06-.94-.94-2.06-.94 2.06-2.06.94zm-11 1L8.5 8.5l.94-2.06 2.06-.94-2.06-.94L8.5 2.5l-.94 2.06-2.06.94zm10 10l.94 2.06.94-2.06 2.06-.94-2.06-.94-.94-2.06-.94 2.06-2.06.94z\"/><path d=\"M17.41 7.96l-1.37-1.37c-.4-.4-.92-.59-1.43-.59-.52 0-1.04.2-1.43.59L10.3 9.45l-7.72 7.72c-.78.78-.78 2.05 0 2.83L4 21.41c.39.39.9.59 1.41.59.51 0 1.02-.2 1.41-.59l7.78-7.78 2.81-2.81c.8-.78.8-2.07 0-2.86zM5.41 20L4 18.59l7.72-7.72 1.47 1.35L5.41 20z\"/>\n",
              "  </svg>\n",
              "      </button>\n",
              "      \n",
              "  <style>\n",
              "    .colab-df-container {\n",
              "      display:flex;\n",
              "      flex-wrap:wrap;\n",
              "      gap: 12px;\n",
              "    }\n",
              "\n",
              "    .colab-df-convert {\n",
              "      background-color: #E8F0FE;\n",
              "      border: none;\n",
              "      border-radius: 50%;\n",
              "      cursor: pointer;\n",
              "      display: none;\n",
              "      fill: #1967D2;\n",
              "      height: 32px;\n",
              "      padding: 0 0 0 0;\n",
              "      width: 32px;\n",
              "    }\n",
              "\n",
              "    .colab-df-convert:hover {\n",
              "      background-color: #E2EBFA;\n",
              "      box-shadow: 0px 1px 2px rgba(60, 64, 67, 0.3), 0px 1px 3px 1px rgba(60, 64, 67, 0.15);\n",
              "      fill: #174EA6;\n",
              "    }\n",
              "\n",
              "    [theme=dark] .colab-df-convert {\n",
              "      background-color: #3B4455;\n",
              "      fill: #D2E3FC;\n",
              "    }\n",
              "\n",
              "    [theme=dark] .colab-df-convert:hover {\n",
              "      background-color: #434B5C;\n",
              "      box-shadow: 0px 1px 3px 1px rgba(0, 0, 0, 0.15);\n",
              "      filter: drop-shadow(0px 1px 2px rgba(0, 0, 0, 0.3));\n",
              "      fill: #FFFFFF;\n",
              "    }\n",
              "  </style>\n",
              "\n",
              "      <script>\n",
              "        const buttonEl =\n",
              "          document.querySelector('#df-a07b7e57-f8f0-4584-9ced-cd50ee492a7f button.colab-df-convert');\n",
              "        buttonEl.style.display =\n",
              "          google.colab.kernel.accessAllowed ? 'block' : 'none';\n",
              "\n",
              "        async function convertToInteractive(key) {\n",
              "          const element = document.querySelector('#df-a07b7e57-f8f0-4584-9ced-cd50ee492a7f');\n",
              "          const dataTable =\n",
              "            await google.colab.kernel.invokeFunction('convertToInteractive',\n",
              "                                                     [key], {});\n",
              "          if (!dataTable) return;\n",
              "\n",
              "          const docLinkHtml = 'Like what you see? Visit the ' +\n",
              "            '<a target=\"_blank\" href=https://colab.research.google.com/notebooks/data_table.ipynb>data table notebook</a>'\n",
              "            + ' to learn more about interactive tables.';\n",
              "          element.innerHTML = '';\n",
              "          dataTable['output_type'] = 'display_data';\n",
              "          await google.colab.output.renderOutput(dataTable, element);\n",
              "          const docLink = document.createElement('div');\n",
              "          docLink.innerHTML = docLinkHtml;\n",
              "          element.appendChild(docLink);\n",
              "        }\n",
              "      </script>\n",
              "    </div>\n",
              "  </div>\n",
              "  "
            ]
          },
          "metadata": {},
          "execution_count": 82
        }
      ]
    },
    {
      "cell_type": "code",
      "source": [
        "Expected_value_of_purchases"
      ],
      "metadata": {
        "colab": {
          "base_uri": "https://localhost:8080/",
          "height": 455
        },
        "id": "AB07NcR_5GF5",
        "outputId": "bec314e1-bf4f-410b-fe2f-19609bcf50d7"
      },
      "execution_count": null,
      "outputs": [
        {
          "output_type": "execute_result",
          "data": {
            "text/plain": [
              "          Expected value of purchases\n",
              "id                                   \n",
              "5774.0                     101.531454\n",
              "5825.0                     101.468049\n",
              "5830.0                     101.320309\n",
              "5838.0                     103.000000\n",
              "5839.0                     101.463718\n",
              "...                               ...\n",
              "116466.0                   665.999763\n",
              "116536.0                   103.789328\n",
              "116576.0                   161.365095\n",
              "116712.0                   106.611669\n",
              "116886.0                   104.918264\n",
              "\n",
              "[6180 rows x 1 columns]"
            ],
            "text/html": [
              "\n",
              "  <div id=\"df-b2879e89-6276-4a25-91ce-ed3be616e816\">\n",
              "    <div class=\"colab-df-container\">\n",
              "      <div>\n",
              "<style scoped>\n",
              "    .dataframe tbody tr th:only-of-type {\n",
              "        vertical-align: middle;\n",
              "    }\n",
              "\n",
              "    .dataframe tbody tr th {\n",
              "        vertical-align: top;\n",
              "    }\n",
              "\n",
              "    .dataframe thead th {\n",
              "        text-align: right;\n",
              "    }\n",
              "</style>\n",
              "<table border=\"1\" class=\"dataframe\">\n",
              "  <thead>\n",
              "    <tr style=\"text-align: right;\">\n",
              "      <th></th>\n",
              "      <th>Expected value of purchases</th>\n",
              "    </tr>\n",
              "    <tr>\n",
              "      <th>id</th>\n",
              "      <th></th>\n",
              "    </tr>\n",
              "  </thead>\n",
              "  <tbody>\n",
              "    <tr>\n",
              "      <th>5774.0</th>\n",
              "      <td>101.531454</td>\n",
              "    </tr>\n",
              "    <tr>\n",
              "      <th>5825.0</th>\n",
              "      <td>101.468049</td>\n",
              "    </tr>\n",
              "    <tr>\n",
              "      <th>5830.0</th>\n",
              "      <td>101.320309</td>\n",
              "    </tr>\n",
              "    <tr>\n",
              "      <th>5838.0</th>\n",
              "      <td>103.000000</td>\n",
              "    </tr>\n",
              "    <tr>\n",
              "      <th>5839.0</th>\n",
              "      <td>101.463718</td>\n",
              "    </tr>\n",
              "    <tr>\n",
              "      <th>...</th>\n",
              "      <td>...</td>\n",
              "    </tr>\n",
              "    <tr>\n",
              "      <th>116466.0</th>\n",
              "      <td>665.999763</td>\n",
              "    </tr>\n",
              "    <tr>\n",
              "      <th>116536.0</th>\n",
              "      <td>103.789328</td>\n",
              "    </tr>\n",
              "    <tr>\n",
              "      <th>116576.0</th>\n",
              "      <td>161.365095</td>\n",
              "    </tr>\n",
              "    <tr>\n",
              "      <th>116712.0</th>\n",
              "      <td>106.611669</td>\n",
              "    </tr>\n",
              "    <tr>\n",
              "      <th>116886.0</th>\n",
              "      <td>104.918264</td>\n",
              "    </tr>\n",
              "  </tbody>\n",
              "</table>\n",
              "<p>6180 rows × 1 columns</p>\n",
              "</div>\n",
              "      <button class=\"colab-df-convert\" onclick=\"convertToInteractive('df-b2879e89-6276-4a25-91ce-ed3be616e816')\"\n",
              "              title=\"Convert this dataframe to an interactive table.\"\n",
              "              style=\"display:none;\">\n",
              "        \n",
              "  <svg xmlns=\"http://www.w3.org/2000/svg\" height=\"24px\"viewBox=\"0 0 24 24\"\n",
              "       width=\"24px\">\n",
              "    <path d=\"M0 0h24v24H0V0z\" fill=\"none\"/>\n",
              "    <path d=\"M18.56 5.44l.94 2.06.94-2.06 2.06-.94-2.06-.94-.94-2.06-.94 2.06-2.06.94zm-11 1L8.5 8.5l.94-2.06 2.06-.94-2.06-.94L8.5 2.5l-.94 2.06-2.06.94zm10 10l.94 2.06.94-2.06 2.06-.94-2.06-.94-.94-2.06-.94 2.06-2.06.94z\"/><path d=\"M17.41 7.96l-1.37-1.37c-.4-.4-.92-.59-1.43-.59-.52 0-1.04.2-1.43.59L10.3 9.45l-7.72 7.72c-.78.78-.78 2.05 0 2.83L4 21.41c.39.39.9.59 1.41.59.51 0 1.02-.2 1.41-.59l7.78-7.78 2.81-2.81c.8-.78.8-2.07 0-2.86zM5.41 20L4 18.59l7.72-7.72 1.47 1.35L5.41 20z\"/>\n",
              "  </svg>\n",
              "      </button>\n",
              "      \n",
              "  <style>\n",
              "    .colab-df-container {\n",
              "      display:flex;\n",
              "      flex-wrap:wrap;\n",
              "      gap: 12px;\n",
              "    }\n",
              "\n",
              "    .colab-df-convert {\n",
              "      background-color: #E8F0FE;\n",
              "      border: none;\n",
              "      border-radius: 50%;\n",
              "      cursor: pointer;\n",
              "      display: none;\n",
              "      fill: #1967D2;\n",
              "      height: 32px;\n",
              "      padding: 0 0 0 0;\n",
              "      width: 32px;\n",
              "    }\n",
              "\n",
              "    .colab-df-convert:hover {\n",
              "      background-color: #E2EBFA;\n",
              "      box-shadow: 0px 1px 2px rgba(60, 64, 67, 0.3), 0px 1px 3px 1px rgba(60, 64, 67, 0.15);\n",
              "      fill: #174EA6;\n",
              "    }\n",
              "\n",
              "    [theme=dark] .colab-df-convert {\n",
              "      background-color: #3B4455;\n",
              "      fill: #D2E3FC;\n",
              "    }\n",
              "\n",
              "    [theme=dark] .colab-df-convert:hover {\n",
              "      background-color: #434B5C;\n",
              "      box-shadow: 0px 1px 3px 1px rgba(0, 0, 0, 0.15);\n",
              "      filter: drop-shadow(0px 1px 2px rgba(0, 0, 0, 0.3));\n",
              "      fill: #FFFFFF;\n",
              "    }\n",
              "  </style>\n",
              "\n",
              "      <script>\n",
              "        const buttonEl =\n",
              "          document.querySelector('#df-b2879e89-6276-4a25-91ce-ed3be616e816 button.colab-df-convert');\n",
              "        buttonEl.style.display =\n",
              "          google.colab.kernel.accessAllowed ? 'block' : 'none';\n",
              "\n",
              "        async function convertToInteractive(key) {\n",
              "          const element = document.querySelector('#df-b2879e89-6276-4a25-91ce-ed3be616e816');\n",
              "          const dataTable =\n",
              "            await google.colab.kernel.invokeFunction('convertToInteractive',\n",
              "                                                     [key], {});\n",
              "          if (!dataTable) return;\n",
              "\n",
              "          const docLinkHtml = 'Like what you see? Visit the ' +\n",
              "            '<a target=\"_blank\" href=https://colab.research.google.com/notebooks/data_table.ipynb>data table notebook</a>'\n",
              "            + ' to learn more about interactive tables.';\n",
              "          element.innerHTML = '';\n",
              "          dataTable['output_type'] = 'display_data';\n",
              "          await google.colab.output.renderOutput(dataTable, element);\n",
              "          const docLink = document.createElement('div');\n",
              "          docLink.innerHTML = docLinkHtml;\n",
              "          element.appendChild(docLink);\n",
              "        }\n",
              "      </script>\n",
              "    </div>\n",
              "  </div>\n",
              "  "
            ]
          },
          "metadata": {},
          "execution_count": 83
        }
      ]
    },
    {
      "cell_type": "code",
      "source": [
        "CLV_pred = Expected_number_of_transactions['Expected number of transactions'] * Expected_value_of_purchases['Expected value of purchases']\n",
        "CLV_pred = CLV_pred.to_frame().reset_index()\n",
        "CLV_pred.rename(columns = { 0 : 'CLV' }, inplace = True)\n",
        "CLV_pred"
      ],
      "metadata": {
        "colab": {
          "base_uri": "https://localhost:8080/",
          "height": 424
        },
        "id": "CZSN3uu6zEmk",
        "outputId": "62f54e71-741d-45f8-df60-3599415b4cc2"
      },
      "execution_count": null,
      "outputs": [
        {
          "output_type": "execute_result",
          "data": {
            "text/plain": [
              "            id           CLV\n",
              "0       5774.0  8.101464e-04\n",
              "1       5825.0  6.130590e-06\n",
              "2       5830.0  6.338253e-03\n",
              "3       5838.0  2.052730e-03\n",
              "4       5839.0  1.889814e-09\n",
              "...        ...           ...\n",
              "6175  116466.0  9.967531e+02\n",
              "6176  116536.0  2.101241e+02\n",
              "6177  116576.0  6.699984e+02\n",
              "6178  116712.0  1.121730e+03\n",
              "6179  116886.0  6.682192e+02\n",
              "\n",
              "[6180 rows x 2 columns]"
            ],
            "text/html": [
              "\n",
              "  <div id=\"df-10b13330-0aa6-4f67-88e6-586be38c3b1b\">\n",
              "    <div class=\"colab-df-container\">\n",
              "      <div>\n",
              "<style scoped>\n",
              "    .dataframe tbody tr th:only-of-type {\n",
              "        vertical-align: middle;\n",
              "    }\n",
              "\n",
              "    .dataframe tbody tr th {\n",
              "        vertical-align: top;\n",
              "    }\n",
              "\n",
              "    .dataframe thead th {\n",
              "        text-align: right;\n",
              "    }\n",
              "</style>\n",
              "<table border=\"1\" class=\"dataframe\">\n",
              "  <thead>\n",
              "    <tr style=\"text-align: right;\">\n",
              "      <th></th>\n",
              "      <th>id</th>\n",
              "      <th>CLV</th>\n",
              "    </tr>\n",
              "  </thead>\n",
              "  <tbody>\n",
              "    <tr>\n",
              "      <th>0</th>\n",
              "      <td>5774.0</td>\n",
              "      <td>8.101464e-04</td>\n",
              "    </tr>\n",
              "    <tr>\n",
              "      <th>1</th>\n",
              "      <td>5825.0</td>\n",
              "      <td>6.130590e-06</td>\n",
              "    </tr>\n",
              "    <tr>\n",
              "      <th>2</th>\n",
              "      <td>5830.0</td>\n",
              "      <td>6.338253e-03</td>\n",
              "    </tr>\n",
              "    <tr>\n",
              "      <th>3</th>\n",
              "      <td>5838.0</td>\n",
              "      <td>2.052730e-03</td>\n",
              "    </tr>\n",
              "    <tr>\n",
              "      <th>4</th>\n",
              "      <td>5839.0</td>\n",
              "      <td>1.889814e-09</td>\n",
              "    </tr>\n",
              "    <tr>\n",
              "      <th>...</th>\n",
              "      <td>...</td>\n",
              "      <td>...</td>\n",
              "    </tr>\n",
              "    <tr>\n",
              "      <th>6175</th>\n",
              "      <td>116466.0</td>\n",
              "      <td>9.967531e+02</td>\n",
              "    </tr>\n",
              "    <tr>\n",
              "      <th>6176</th>\n",
              "      <td>116536.0</td>\n",
              "      <td>2.101241e+02</td>\n",
              "    </tr>\n",
              "    <tr>\n",
              "      <th>6177</th>\n",
              "      <td>116576.0</td>\n",
              "      <td>6.699984e+02</td>\n",
              "    </tr>\n",
              "    <tr>\n",
              "      <th>6178</th>\n",
              "      <td>116712.0</td>\n",
              "      <td>1.121730e+03</td>\n",
              "    </tr>\n",
              "    <tr>\n",
              "      <th>6179</th>\n",
              "      <td>116886.0</td>\n",
              "      <td>6.682192e+02</td>\n",
              "    </tr>\n",
              "  </tbody>\n",
              "</table>\n",
              "<p>6180 rows × 2 columns</p>\n",
              "</div>\n",
              "      <button class=\"colab-df-convert\" onclick=\"convertToInteractive('df-10b13330-0aa6-4f67-88e6-586be38c3b1b')\"\n",
              "              title=\"Convert this dataframe to an interactive table.\"\n",
              "              style=\"display:none;\">\n",
              "        \n",
              "  <svg xmlns=\"http://www.w3.org/2000/svg\" height=\"24px\"viewBox=\"0 0 24 24\"\n",
              "       width=\"24px\">\n",
              "    <path d=\"M0 0h24v24H0V0z\" fill=\"none\"/>\n",
              "    <path d=\"M18.56 5.44l.94 2.06.94-2.06 2.06-.94-2.06-.94-.94-2.06-.94 2.06-2.06.94zm-11 1L8.5 8.5l.94-2.06 2.06-.94-2.06-.94L8.5 2.5l-.94 2.06-2.06.94zm10 10l.94 2.06.94-2.06 2.06-.94-2.06-.94-.94-2.06-.94 2.06-2.06.94z\"/><path d=\"M17.41 7.96l-1.37-1.37c-.4-.4-.92-.59-1.43-.59-.52 0-1.04.2-1.43.59L10.3 9.45l-7.72 7.72c-.78.78-.78 2.05 0 2.83L4 21.41c.39.39.9.59 1.41.59.51 0 1.02-.2 1.41-.59l7.78-7.78 2.81-2.81c.8-.78.8-2.07 0-2.86zM5.41 20L4 18.59l7.72-7.72 1.47 1.35L5.41 20z\"/>\n",
              "  </svg>\n",
              "      </button>\n",
              "      \n",
              "  <style>\n",
              "    .colab-df-container {\n",
              "      display:flex;\n",
              "      flex-wrap:wrap;\n",
              "      gap: 12px;\n",
              "    }\n",
              "\n",
              "    .colab-df-convert {\n",
              "      background-color: #E8F0FE;\n",
              "      border: none;\n",
              "      border-radius: 50%;\n",
              "      cursor: pointer;\n",
              "      display: none;\n",
              "      fill: #1967D2;\n",
              "      height: 32px;\n",
              "      padding: 0 0 0 0;\n",
              "      width: 32px;\n",
              "    }\n",
              "\n",
              "    .colab-df-convert:hover {\n",
              "      background-color: #E2EBFA;\n",
              "      box-shadow: 0px 1px 2px rgba(60, 64, 67, 0.3), 0px 1px 3px 1px rgba(60, 64, 67, 0.15);\n",
              "      fill: #174EA6;\n",
              "    }\n",
              "\n",
              "    [theme=dark] .colab-df-convert {\n",
              "      background-color: #3B4455;\n",
              "      fill: #D2E3FC;\n",
              "    }\n",
              "\n",
              "    [theme=dark] .colab-df-convert:hover {\n",
              "      background-color: #434B5C;\n",
              "      box-shadow: 0px 1px 3px 1px rgba(0, 0, 0, 0.15);\n",
              "      filter: drop-shadow(0px 1px 2px rgba(0, 0, 0, 0.3));\n",
              "      fill: #FFFFFF;\n",
              "    }\n",
              "  </style>\n",
              "\n",
              "      <script>\n",
              "        const buttonEl =\n",
              "          document.querySelector('#df-10b13330-0aa6-4f67-88e6-586be38c3b1b button.colab-df-convert');\n",
              "        buttonEl.style.display =\n",
              "          google.colab.kernel.accessAllowed ? 'block' : 'none';\n",
              "\n",
              "        async function convertToInteractive(key) {\n",
              "          const element = document.querySelector('#df-10b13330-0aa6-4f67-88e6-586be38c3b1b');\n",
              "          const dataTable =\n",
              "            await google.colab.kernel.invokeFunction('convertToInteractive',\n",
              "                                                     [key], {});\n",
              "          if (!dataTable) return;\n",
              "\n",
              "          const docLinkHtml = 'Like what you see? Visit the ' +\n",
              "            '<a target=\"_blank\" href=https://colab.research.google.com/notebooks/data_table.ipynb>data table notebook</a>'\n",
              "            + ' to learn more about interactive tables.';\n",
              "          element.innerHTML = '';\n",
              "          dataTable['output_type'] = 'display_data';\n",
              "          await google.colab.output.renderOutput(dataTable, element);\n",
              "          const docLink = document.createElement('div');\n",
              "          docLink.innerHTML = docLinkHtml;\n",
              "          element.appendChild(docLink);\n",
              "        }\n",
              "      </script>\n",
              "    </div>\n",
              "  </div>\n",
              "  "
            ]
          },
          "metadata": {},
          "execution_count": 84
        }
      ]
    },
    {
      "cell_type": "markdown",
      "source": [
        "## Calculation of the actual CLV"
      ],
      "metadata": {
        "id": "mQG3YApPD1y9"
      }
    },
    {
      "cell_type": "markdown",
      "source": [
        "Now that we have predicted the Customer's Life Value over the last 3 months, we will compute the actual CLV for the model's assessment."
      ],
      "metadata": {
        "id": "-DlvcNp759JZ"
      }
    },
    {
      "cell_type": "code",
      "source": [
        "Customers_DF4 = pd.pivot_table( RFM, values=['Monetary Value' , 'Frequency'], columns='Chunks', index='id')\n",
        "\n",
        "Customers_DF4.reset_index()\n",
        "Customers_DF4.columns = ['_'.join(col) for col in Customers_DF4.columns]\n",
        "\n",
        "Customers_DF4.fillna(0, inplace=True)\n",
        "Customers_DF4.drop(Customers_DF4.drop( calibration_holdout_matrix.index , inplace = False).index , inplace = True)"
      ],
      "metadata": {
        "id": "1QWkLGW29QLM"
      },
      "execution_count": null,
      "outputs": []
    },
    {
      "cell_type": "code",
      "source": [
        "CLV = Customers_DF4['Frequency_C_10'] * Customers_DF4['Monetary Value_C_10']\n",
        "CLV = CLV.to_frame().reset_index()\n",
        "CLV.rename(columns = { 0 : 'real_CLV' }, inplace = True)\n",
        "CLV"
      ],
      "metadata": {
        "colab": {
          "base_uri": "https://localhost:8080/",
          "height": 424
        },
        "id": "UtQZTsCE997t",
        "outputId": "54ce9c6c-f8c5-4d3f-b97d-df2254d25d12"
      },
      "execution_count": null,
      "outputs": [
        {
          "output_type": "execute_result",
          "data": {
            "text/plain": [
              "            id  real_CLV\n",
              "0       5774.0       0.0\n",
              "1       5825.0       0.0\n",
              "2       5830.0       0.0\n",
              "3       5838.0       0.0\n",
              "4       5839.0       0.0\n",
              "...        ...       ...\n",
              "6175  116466.0   27600.0\n",
              "6176  116536.0       0.0\n",
              "6177  116576.0    -947.0\n",
              "6178  116712.0       0.0\n",
              "6179  116886.0      41.9\n",
              "\n",
              "[6180 rows x 2 columns]"
            ],
            "text/html": [
              "\n",
              "  <div id=\"df-d9a601ac-91f8-4a35-805a-2dd0eb1e62c9\">\n",
              "    <div class=\"colab-df-container\">\n",
              "      <div>\n",
              "<style scoped>\n",
              "    .dataframe tbody tr th:only-of-type {\n",
              "        vertical-align: middle;\n",
              "    }\n",
              "\n",
              "    .dataframe tbody tr th {\n",
              "        vertical-align: top;\n",
              "    }\n",
              "\n",
              "    .dataframe thead th {\n",
              "        text-align: right;\n",
              "    }\n",
              "</style>\n",
              "<table border=\"1\" class=\"dataframe\">\n",
              "  <thead>\n",
              "    <tr style=\"text-align: right;\">\n",
              "      <th></th>\n",
              "      <th>id</th>\n",
              "      <th>real_CLV</th>\n",
              "    </tr>\n",
              "  </thead>\n",
              "  <tbody>\n",
              "    <tr>\n",
              "      <th>0</th>\n",
              "      <td>5774.0</td>\n",
              "      <td>0.0</td>\n",
              "    </tr>\n",
              "    <tr>\n",
              "      <th>1</th>\n",
              "      <td>5825.0</td>\n",
              "      <td>0.0</td>\n",
              "    </tr>\n",
              "    <tr>\n",
              "      <th>2</th>\n",
              "      <td>5830.0</td>\n",
              "      <td>0.0</td>\n",
              "    </tr>\n",
              "    <tr>\n",
              "      <th>3</th>\n",
              "      <td>5838.0</td>\n",
              "      <td>0.0</td>\n",
              "    </tr>\n",
              "    <tr>\n",
              "      <th>4</th>\n",
              "      <td>5839.0</td>\n",
              "      <td>0.0</td>\n",
              "    </tr>\n",
              "    <tr>\n",
              "      <th>...</th>\n",
              "      <td>...</td>\n",
              "      <td>...</td>\n",
              "    </tr>\n",
              "    <tr>\n",
              "      <th>6175</th>\n",
              "      <td>116466.0</td>\n",
              "      <td>27600.0</td>\n",
              "    </tr>\n",
              "    <tr>\n",
              "      <th>6176</th>\n",
              "      <td>116536.0</td>\n",
              "      <td>0.0</td>\n",
              "    </tr>\n",
              "    <tr>\n",
              "      <th>6177</th>\n",
              "      <td>116576.0</td>\n",
              "      <td>-947.0</td>\n",
              "    </tr>\n",
              "    <tr>\n",
              "      <th>6178</th>\n",
              "      <td>116712.0</td>\n",
              "      <td>0.0</td>\n",
              "    </tr>\n",
              "    <tr>\n",
              "      <th>6179</th>\n",
              "      <td>116886.0</td>\n",
              "      <td>41.9</td>\n",
              "    </tr>\n",
              "  </tbody>\n",
              "</table>\n",
              "<p>6180 rows × 2 columns</p>\n",
              "</div>\n",
              "      <button class=\"colab-df-convert\" onclick=\"convertToInteractive('df-d9a601ac-91f8-4a35-805a-2dd0eb1e62c9')\"\n",
              "              title=\"Convert this dataframe to an interactive table.\"\n",
              "              style=\"display:none;\">\n",
              "        \n",
              "  <svg xmlns=\"http://www.w3.org/2000/svg\" height=\"24px\"viewBox=\"0 0 24 24\"\n",
              "       width=\"24px\">\n",
              "    <path d=\"M0 0h24v24H0V0z\" fill=\"none\"/>\n",
              "    <path d=\"M18.56 5.44l.94 2.06.94-2.06 2.06-.94-2.06-.94-.94-2.06-.94 2.06-2.06.94zm-11 1L8.5 8.5l.94-2.06 2.06-.94-2.06-.94L8.5 2.5l-.94 2.06-2.06.94zm10 10l.94 2.06.94-2.06 2.06-.94-2.06-.94-.94-2.06-.94 2.06-2.06.94z\"/><path d=\"M17.41 7.96l-1.37-1.37c-.4-.4-.92-.59-1.43-.59-.52 0-1.04.2-1.43.59L10.3 9.45l-7.72 7.72c-.78.78-.78 2.05 0 2.83L4 21.41c.39.39.9.59 1.41.59.51 0 1.02-.2 1.41-.59l7.78-7.78 2.81-2.81c.8-.78.8-2.07 0-2.86zM5.41 20L4 18.59l7.72-7.72 1.47 1.35L5.41 20z\"/>\n",
              "  </svg>\n",
              "      </button>\n",
              "      \n",
              "  <style>\n",
              "    .colab-df-container {\n",
              "      display:flex;\n",
              "      flex-wrap:wrap;\n",
              "      gap: 12px;\n",
              "    }\n",
              "\n",
              "    .colab-df-convert {\n",
              "      background-color: #E8F0FE;\n",
              "      border: none;\n",
              "      border-radius: 50%;\n",
              "      cursor: pointer;\n",
              "      display: none;\n",
              "      fill: #1967D2;\n",
              "      height: 32px;\n",
              "      padding: 0 0 0 0;\n",
              "      width: 32px;\n",
              "    }\n",
              "\n",
              "    .colab-df-convert:hover {\n",
              "      background-color: #E2EBFA;\n",
              "      box-shadow: 0px 1px 2px rgba(60, 64, 67, 0.3), 0px 1px 3px 1px rgba(60, 64, 67, 0.15);\n",
              "      fill: #174EA6;\n",
              "    }\n",
              "\n",
              "    [theme=dark] .colab-df-convert {\n",
              "      background-color: #3B4455;\n",
              "      fill: #D2E3FC;\n",
              "    }\n",
              "\n",
              "    [theme=dark] .colab-df-convert:hover {\n",
              "      background-color: #434B5C;\n",
              "      box-shadow: 0px 1px 3px 1px rgba(0, 0, 0, 0.15);\n",
              "      filter: drop-shadow(0px 1px 2px rgba(0, 0, 0, 0.3));\n",
              "      fill: #FFFFFF;\n",
              "    }\n",
              "  </style>\n",
              "\n",
              "      <script>\n",
              "        const buttonEl =\n",
              "          document.querySelector('#df-d9a601ac-91f8-4a35-805a-2dd0eb1e62c9 button.colab-df-convert');\n",
              "        buttonEl.style.display =\n",
              "          google.colab.kernel.accessAllowed ? 'block' : 'none';\n",
              "\n",
              "        async function convertToInteractive(key) {\n",
              "          const element = document.querySelector('#df-d9a601ac-91f8-4a35-805a-2dd0eb1e62c9');\n",
              "          const dataTable =\n",
              "            await google.colab.kernel.invokeFunction('convertToInteractive',\n",
              "                                                     [key], {});\n",
              "          if (!dataTable) return;\n",
              "\n",
              "          const docLinkHtml = 'Like what you see? Visit the ' +\n",
              "            '<a target=\"_blank\" href=https://colab.research.google.com/notebooks/data_table.ipynb>data table notebook</a>'\n",
              "            + ' to learn more about interactive tables.';\n",
              "          element.innerHTML = '';\n",
              "          dataTable['output_type'] = 'display_data';\n",
              "          await google.colab.output.renderOutput(dataTable, element);\n",
              "          const docLink = document.createElement('div');\n",
              "          docLink.innerHTML = docLinkHtml;\n",
              "          element.appendChild(docLink);\n",
              "        }\n",
              "      </script>\n",
              "    </div>\n",
              "  </div>\n",
              "  "
            ]
          },
          "metadata": {},
          "execution_count": 86
        }
      ]
    },
    {
      "cell_type": "markdown",
      "source": [
        "Real CLV for the Gamma Gamma Model:"
      ],
      "metadata": {
        "id": "NfofN4A2E0bt"
      }
    },
    {
      "cell_type": "code",
      "source": [
        "calibration_holdout_matrix = calibration_holdout_matrix.loc[ calibration_holdout_matrix[\"monetary_value_cal\"] > 0 ].copy()\n",
        "\n",
        "\n",
        "CLV_GG = calibration_holdout_matrix['frequency_holdout']*calibration_holdout_matrix['monetary_value_holdout']\n",
        "CLV_GG = CLV_GG.to_frame().reset_index()\n",
        "CLV_GG.rename(columns = { 0 : 'real_CLV' }, inplace = True)\n",
        "CLV_GG"
      ],
      "metadata": {
        "colab": {
          "base_uri": "https://localhost:8080/",
          "height": 424
        },
        "id": "xHYNpYXunm58",
        "outputId": "e9eb906b-126e-4b77-b8bb-bd51acdbe4b4"
      },
      "execution_count": null,
      "outputs": [
        {
          "output_type": "execute_result",
          "data": {
            "text/plain": [
              "            id  real_CLV\n",
              "0       5825.0       0.0\n",
              "1       5830.0       0.0\n",
              "2       5838.0       0.0\n",
              "3       5839.0       0.0\n",
              "4       5848.0       0.0\n",
              "...        ...       ...\n",
              "5276  116466.0   27600.0\n",
              "5277  116536.0       0.0\n",
              "5278  116576.0    -947.0\n",
              "5279  116712.0       0.0\n",
              "5280  116886.0      41.9\n",
              "\n",
              "[5281 rows x 2 columns]"
            ],
            "text/html": [
              "\n",
              "  <div id=\"df-b6108026-ba34-47b6-9155-a7f7f9fdbc17\">\n",
              "    <div class=\"colab-df-container\">\n",
              "      <div>\n",
              "<style scoped>\n",
              "    .dataframe tbody tr th:only-of-type {\n",
              "        vertical-align: middle;\n",
              "    }\n",
              "\n",
              "    .dataframe tbody tr th {\n",
              "        vertical-align: top;\n",
              "    }\n",
              "\n",
              "    .dataframe thead th {\n",
              "        text-align: right;\n",
              "    }\n",
              "</style>\n",
              "<table border=\"1\" class=\"dataframe\">\n",
              "  <thead>\n",
              "    <tr style=\"text-align: right;\">\n",
              "      <th></th>\n",
              "      <th>id</th>\n",
              "      <th>real_CLV</th>\n",
              "    </tr>\n",
              "  </thead>\n",
              "  <tbody>\n",
              "    <tr>\n",
              "      <th>0</th>\n",
              "      <td>5825.0</td>\n",
              "      <td>0.0</td>\n",
              "    </tr>\n",
              "    <tr>\n",
              "      <th>1</th>\n",
              "      <td>5830.0</td>\n",
              "      <td>0.0</td>\n",
              "    </tr>\n",
              "    <tr>\n",
              "      <th>2</th>\n",
              "      <td>5838.0</td>\n",
              "      <td>0.0</td>\n",
              "    </tr>\n",
              "    <tr>\n",
              "      <th>3</th>\n",
              "      <td>5839.0</td>\n",
              "      <td>0.0</td>\n",
              "    </tr>\n",
              "    <tr>\n",
              "      <th>4</th>\n",
              "      <td>5848.0</td>\n",
              "      <td>0.0</td>\n",
              "    </tr>\n",
              "    <tr>\n",
              "      <th>...</th>\n",
              "      <td>...</td>\n",
              "      <td>...</td>\n",
              "    </tr>\n",
              "    <tr>\n",
              "      <th>5276</th>\n",
              "      <td>116466.0</td>\n",
              "      <td>27600.0</td>\n",
              "    </tr>\n",
              "    <tr>\n",
              "      <th>5277</th>\n",
              "      <td>116536.0</td>\n",
              "      <td>0.0</td>\n",
              "    </tr>\n",
              "    <tr>\n",
              "      <th>5278</th>\n",
              "      <td>116576.0</td>\n",
              "      <td>-947.0</td>\n",
              "    </tr>\n",
              "    <tr>\n",
              "      <th>5279</th>\n",
              "      <td>116712.0</td>\n",
              "      <td>0.0</td>\n",
              "    </tr>\n",
              "    <tr>\n",
              "      <th>5280</th>\n",
              "      <td>116886.0</td>\n",
              "      <td>41.9</td>\n",
              "    </tr>\n",
              "  </tbody>\n",
              "</table>\n",
              "<p>5281 rows × 2 columns</p>\n",
              "</div>\n",
              "      <button class=\"colab-df-convert\" onclick=\"convertToInteractive('df-b6108026-ba34-47b6-9155-a7f7f9fdbc17')\"\n",
              "              title=\"Convert this dataframe to an interactive table.\"\n",
              "              style=\"display:none;\">\n",
              "        \n",
              "  <svg xmlns=\"http://www.w3.org/2000/svg\" height=\"24px\"viewBox=\"0 0 24 24\"\n",
              "       width=\"24px\">\n",
              "    <path d=\"M0 0h24v24H0V0z\" fill=\"none\"/>\n",
              "    <path d=\"M18.56 5.44l.94 2.06.94-2.06 2.06-.94-2.06-.94-.94-2.06-.94 2.06-2.06.94zm-11 1L8.5 8.5l.94-2.06 2.06-.94-2.06-.94L8.5 2.5l-.94 2.06-2.06.94zm10 10l.94 2.06.94-2.06 2.06-.94-2.06-.94-.94-2.06-.94 2.06-2.06.94z\"/><path d=\"M17.41 7.96l-1.37-1.37c-.4-.4-.92-.59-1.43-.59-.52 0-1.04.2-1.43.59L10.3 9.45l-7.72 7.72c-.78.78-.78 2.05 0 2.83L4 21.41c.39.39.9.59 1.41.59.51 0 1.02-.2 1.41-.59l7.78-7.78 2.81-2.81c.8-.78.8-2.07 0-2.86zM5.41 20L4 18.59l7.72-7.72 1.47 1.35L5.41 20z\"/>\n",
              "  </svg>\n",
              "      </button>\n",
              "      \n",
              "  <style>\n",
              "    .colab-df-container {\n",
              "      display:flex;\n",
              "      flex-wrap:wrap;\n",
              "      gap: 12px;\n",
              "    }\n",
              "\n",
              "    .colab-df-convert {\n",
              "      background-color: #E8F0FE;\n",
              "      border: none;\n",
              "      border-radius: 50%;\n",
              "      cursor: pointer;\n",
              "      display: none;\n",
              "      fill: #1967D2;\n",
              "      height: 32px;\n",
              "      padding: 0 0 0 0;\n",
              "      width: 32px;\n",
              "    }\n",
              "\n",
              "    .colab-df-convert:hover {\n",
              "      background-color: #E2EBFA;\n",
              "      box-shadow: 0px 1px 2px rgba(60, 64, 67, 0.3), 0px 1px 3px 1px rgba(60, 64, 67, 0.15);\n",
              "      fill: #174EA6;\n",
              "    }\n",
              "\n",
              "    [theme=dark] .colab-df-convert {\n",
              "      background-color: #3B4455;\n",
              "      fill: #D2E3FC;\n",
              "    }\n",
              "\n",
              "    [theme=dark] .colab-df-convert:hover {\n",
              "      background-color: #434B5C;\n",
              "      box-shadow: 0px 1px 3px 1px rgba(0, 0, 0, 0.15);\n",
              "      filter: drop-shadow(0px 1px 2px rgba(0, 0, 0, 0.3));\n",
              "      fill: #FFFFFF;\n",
              "    }\n",
              "  </style>\n",
              "\n",
              "      <script>\n",
              "        const buttonEl =\n",
              "          document.querySelector('#df-b6108026-ba34-47b6-9155-a7f7f9fdbc17 button.colab-df-convert');\n",
              "        buttonEl.style.display =\n",
              "          google.colab.kernel.accessAllowed ? 'block' : 'none';\n",
              "\n",
              "        async function convertToInteractive(key) {\n",
              "          const element = document.querySelector('#df-b6108026-ba34-47b6-9155-a7f7f9fdbc17');\n",
              "          const dataTable =\n",
              "            await google.colab.kernel.invokeFunction('convertToInteractive',\n",
              "                                                     [key], {});\n",
              "          if (!dataTable) return;\n",
              "\n",
              "          const docLinkHtml = 'Like what you see? Visit the ' +\n",
              "            '<a target=\"_blank\" href=https://colab.research.google.com/notebooks/data_table.ipynb>data table notebook</a>'\n",
              "            + ' to learn more about interactive tables.';\n",
              "          element.innerHTML = '';\n",
              "          dataTable['output_type'] = 'display_data';\n",
              "          await google.colab.output.renderOutput(dataTable, element);\n",
              "          const docLink = document.createElement('div');\n",
              "          docLink.innerHTML = docLinkHtml;\n",
              "          element.appendChild(docLink);\n",
              "        }\n",
              "      </script>\n",
              "    </div>\n",
              "  </div>\n",
              "  "
            ]
          },
          "metadata": {},
          "execution_count": 87
        }
      ]
    },
    {
      "cell_type": "markdown",
      "source": [
        "# Predictions vs Actual CLV"
      ],
      "metadata": {
        "id": "VTxYLY6R5XAB"
      }
    },
    {
      "cell_type": "markdown",
      "source": [
        "## Evaluation of the model in terms of prediction error"
      ],
      "metadata": {
        "id": "WEnMSgo5q1bq"
      }
    },
    {
      "cell_type": "markdown",
      "source": [
        "For the assessment, we will use median absolute error, because is robust to outliers. The loss is calculated by taking the median of all absolute differences between the target and the prediction. The best value is 0.0."
      ],
      "metadata": {
        "id": "rdYWR-bUA8ys"
      }
    },
    {
      "cell_type": "markdown",
      "source": [
        "### CLV with Linear Regression"
      ],
      "metadata": {
        "id": "QQiriEemCj7I"
      }
    },
    {
      "cell_type": "code",
      "source": [
        "median_absolute_error( CLV['real_CLV'] , CLV_pred['CLV'] )"
      ],
      "metadata": {
        "colab": {
          "base_uri": "https://localhost:8080/"
        },
        "id": "g2RhJW9Y-4qY",
        "outputId": "118f1365-fd04-46ca-c705-08a192028219"
      },
      "execution_count": null,
      "outputs": [
        {
          "output_type": "execute_result",
          "data": {
            "text/plain": [
              "0.7163480402945213"
            ]
          },
          "metadata": {},
          "execution_count": 89
        }
      ]
    },
    {
      "cell_type": "markdown",
      "source": [
        "Unfortunately, MedAE = 0.716 which is not near zero, hence the model did not predict CLV accurately."
      ],
      "metadata": {
        "id": "fJtDL9Y2ByOu"
      }
    },
    {
      "cell_type": "markdown",
      "source": [
        "### CLV with Gamma Gamma"
      ],
      "metadata": {
        "id": "QmONiXxCCsPb"
      }
    },
    {
      "cell_type": "code",
      "source": [
        "median_absolute_error( CLV_GG['real_CLV'] , CLV_gg['clv'] )"
      ],
      "metadata": {
        "colab": {
          "base_uri": "https://localhost:8080/"
        },
        "id": "bgzd-umDChjE",
        "outputId": "abd59d08-bbbd-4c47-e89b-5a3185aac695"
      },
      "execution_count": null,
      "outputs": [
        {
          "output_type": "execute_result",
          "data": {
            "text/plain": [
              "0.5154973899795913"
            ]
          },
          "metadata": {},
          "execution_count": 88
        }
      ]
    },
    {
      "cell_type": "markdown",
      "source": [
        "The predicted Customer Lifetime Values for the remaining customers are better than Linear Regressions. Thus, the Gamma Gamma model in combination with the BG-NBD is more accurate."
      ],
      "metadata": {
        "id": "oSYInjrYFYET"
      }
    },
    {
      "cell_type": "markdown",
      "source": [
        "## Business-oriented evaluation"
      ],
      "metadata": {
        "id": "SlQvLXjDqp6M"
      }
    },
    {
      "cell_type": "markdown",
      "source": [
        "We will assess the two models in terms of the best accuracy of the CLV of the highest-value consumers. We will use k-means to find the highest spenders."
      ],
      "metadata": {
        "id": "IMFlp2rWq8YV"
      }
    },
    {
      "cell_type": "code",
      "source": [
        "Clusters = CLV_GG[['real_CLV']]\n",
        "kmeans = KMeans(n_clusters = 5)\n",
        "kmeans.fit(Clusters)\n",
        "\n",
        "Clusters = Clusters.assign(cluster=kmeans.labels_)\n",
        "Clusters.groupby('cluster')['real_CLV'].mean().sort_values(ascending=False).to_frame()"
      ],
      "metadata": {
        "colab": {
          "base_uri": "https://localhost:8080/",
          "height": 238
        },
        "id": "-Gofx1FdtgB8",
        "outputId": "b95bc0d6-094e-4d77-95db-a2ee9862267c"
      },
      "execution_count": null,
      "outputs": [
        {
          "output_type": "execute_result",
          "data": {
            "text/plain": [
              "              real_CLV\n",
              "cluster               \n",
              "1        286852.941176\n",
              "2         79283.936502\n",
              "4         21883.746947\n",
              "0            63.831750\n",
              "3       -125573.000000"
            ],
            "text/html": [
              "\n",
              "  <div id=\"df-095f11bd-292a-4be8-b39c-b2b81a0894a5\">\n",
              "    <div class=\"colab-df-container\">\n",
              "      <div>\n",
              "<style scoped>\n",
              "    .dataframe tbody tr th:only-of-type {\n",
              "        vertical-align: middle;\n",
              "    }\n",
              "\n",
              "    .dataframe tbody tr th {\n",
              "        vertical-align: top;\n",
              "    }\n",
              "\n",
              "    .dataframe thead th {\n",
              "        text-align: right;\n",
              "    }\n",
              "</style>\n",
              "<table border=\"1\" class=\"dataframe\">\n",
              "  <thead>\n",
              "    <tr style=\"text-align: right;\">\n",
              "      <th></th>\n",
              "      <th>real_CLV</th>\n",
              "    </tr>\n",
              "    <tr>\n",
              "      <th>cluster</th>\n",
              "      <th></th>\n",
              "    </tr>\n",
              "  </thead>\n",
              "  <tbody>\n",
              "    <tr>\n",
              "      <th>1</th>\n",
              "      <td>286852.941176</td>\n",
              "    </tr>\n",
              "    <tr>\n",
              "      <th>2</th>\n",
              "      <td>79283.936502</td>\n",
              "    </tr>\n",
              "    <tr>\n",
              "      <th>4</th>\n",
              "      <td>21883.746947</td>\n",
              "    </tr>\n",
              "    <tr>\n",
              "      <th>0</th>\n",
              "      <td>63.831750</td>\n",
              "    </tr>\n",
              "    <tr>\n",
              "      <th>3</th>\n",
              "      <td>-125573.000000</td>\n",
              "    </tr>\n",
              "  </tbody>\n",
              "</table>\n",
              "</div>\n",
              "      <button class=\"colab-df-convert\" onclick=\"convertToInteractive('df-095f11bd-292a-4be8-b39c-b2b81a0894a5')\"\n",
              "              title=\"Convert this dataframe to an interactive table.\"\n",
              "              style=\"display:none;\">\n",
              "        \n",
              "  <svg xmlns=\"http://www.w3.org/2000/svg\" height=\"24px\"viewBox=\"0 0 24 24\"\n",
              "       width=\"24px\">\n",
              "    <path d=\"M0 0h24v24H0V0z\" fill=\"none\"/>\n",
              "    <path d=\"M18.56 5.44l.94 2.06.94-2.06 2.06-.94-2.06-.94-.94-2.06-.94 2.06-2.06.94zm-11 1L8.5 8.5l.94-2.06 2.06-.94-2.06-.94L8.5 2.5l-.94 2.06-2.06.94zm10 10l.94 2.06.94-2.06 2.06-.94-2.06-.94-.94-2.06-.94 2.06-2.06.94z\"/><path d=\"M17.41 7.96l-1.37-1.37c-.4-.4-.92-.59-1.43-.59-.52 0-1.04.2-1.43.59L10.3 9.45l-7.72 7.72c-.78.78-.78 2.05 0 2.83L4 21.41c.39.39.9.59 1.41.59.51 0 1.02-.2 1.41-.59l7.78-7.78 2.81-2.81c.8-.78.8-2.07 0-2.86zM5.41 20L4 18.59l7.72-7.72 1.47 1.35L5.41 20z\"/>\n",
              "  </svg>\n",
              "      </button>\n",
              "      \n",
              "  <style>\n",
              "    .colab-df-container {\n",
              "      display:flex;\n",
              "      flex-wrap:wrap;\n",
              "      gap: 12px;\n",
              "    }\n",
              "\n",
              "    .colab-df-convert {\n",
              "      background-color: #E8F0FE;\n",
              "      border: none;\n",
              "      border-radius: 50%;\n",
              "      cursor: pointer;\n",
              "      display: none;\n",
              "      fill: #1967D2;\n",
              "      height: 32px;\n",
              "      padding: 0 0 0 0;\n",
              "      width: 32px;\n",
              "    }\n",
              "\n",
              "    .colab-df-convert:hover {\n",
              "      background-color: #E2EBFA;\n",
              "      box-shadow: 0px 1px 2px rgba(60, 64, 67, 0.3), 0px 1px 3px 1px rgba(60, 64, 67, 0.15);\n",
              "      fill: #174EA6;\n",
              "    }\n",
              "\n",
              "    [theme=dark] .colab-df-convert {\n",
              "      background-color: #3B4455;\n",
              "      fill: #D2E3FC;\n",
              "    }\n",
              "\n",
              "    [theme=dark] .colab-df-convert:hover {\n",
              "      background-color: #434B5C;\n",
              "      box-shadow: 0px 1px 3px 1px rgba(0, 0, 0, 0.15);\n",
              "      filter: drop-shadow(0px 1px 2px rgba(0, 0, 0, 0.3));\n",
              "      fill: #FFFFFF;\n",
              "    }\n",
              "  </style>\n",
              "\n",
              "      <script>\n",
              "        const buttonEl =\n",
              "          document.querySelector('#df-095f11bd-292a-4be8-b39c-b2b81a0894a5 button.colab-df-convert');\n",
              "        buttonEl.style.display =\n",
              "          google.colab.kernel.accessAllowed ? 'block' : 'none';\n",
              "\n",
              "        async function convertToInteractive(key) {\n",
              "          const element = document.querySelector('#df-095f11bd-292a-4be8-b39c-b2b81a0894a5');\n",
              "          const dataTable =\n",
              "            await google.colab.kernel.invokeFunction('convertToInteractive',\n",
              "                                                     [key], {});\n",
              "          if (!dataTable) return;\n",
              "\n",
              "          const docLinkHtml = 'Like what you see? Visit the ' +\n",
              "            '<a target=\"_blank\" href=https://colab.research.google.com/notebooks/data_table.ipynb>data table notebook</a>'\n",
              "            + ' to learn more about interactive tables.';\n",
              "          element.innerHTML = '';\n",
              "          dataTable['output_type'] = 'display_data';\n",
              "          await google.colab.output.renderOutput(dataTable, element);\n",
              "          const docLink = document.createElement('div');\n",
              "          docLink.innerHTML = docLinkHtml;\n",
              "          element.appendChild(docLink);\n",
              "        }\n",
              "      </script>\n",
              "    </div>\n",
              "  </div>\n",
              "  "
            ]
          },
          "metadata": {},
          "execution_count": 98
        }
      ]
    },
    {
      "cell_type": "code",
      "source": [
        "Clusters.groupby('cluster').count()"
      ],
      "metadata": {
        "colab": {
          "base_uri": "https://localhost:8080/",
          "height": 238
        },
        "id": "QPtSlhMNuKJP",
        "outputId": "b2142601-5582-41c5-8667-3208d8321887"
      },
      "execution_count": null,
      "outputs": [
        {
          "output_type": "execute_result",
          "data": {
            "text/plain": [
              "         real_CLV\n",
              "cluster          \n",
              "0            5238\n",
              "1               2\n",
              "2               7\n",
              "3               1\n",
              "4              33"
            ],
            "text/html": [
              "\n",
              "  <div id=\"df-221efc03-a6db-49df-842f-1b5f6aca418a\">\n",
              "    <div class=\"colab-df-container\">\n",
              "      <div>\n",
              "<style scoped>\n",
              "    .dataframe tbody tr th:only-of-type {\n",
              "        vertical-align: middle;\n",
              "    }\n",
              "\n",
              "    .dataframe tbody tr th {\n",
              "        vertical-align: top;\n",
              "    }\n",
              "\n",
              "    .dataframe thead th {\n",
              "        text-align: right;\n",
              "    }\n",
              "</style>\n",
              "<table border=\"1\" class=\"dataframe\">\n",
              "  <thead>\n",
              "    <tr style=\"text-align: right;\">\n",
              "      <th></th>\n",
              "      <th>real_CLV</th>\n",
              "    </tr>\n",
              "    <tr>\n",
              "      <th>cluster</th>\n",
              "      <th></th>\n",
              "    </tr>\n",
              "  </thead>\n",
              "  <tbody>\n",
              "    <tr>\n",
              "      <th>0</th>\n",
              "      <td>5238</td>\n",
              "    </tr>\n",
              "    <tr>\n",
              "      <th>1</th>\n",
              "      <td>2</td>\n",
              "    </tr>\n",
              "    <tr>\n",
              "      <th>2</th>\n",
              "      <td>7</td>\n",
              "    </tr>\n",
              "    <tr>\n",
              "      <th>3</th>\n",
              "      <td>1</td>\n",
              "    </tr>\n",
              "    <tr>\n",
              "      <th>4</th>\n",
              "      <td>33</td>\n",
              "    </tr>\n",
              "  </tbody>\n",
              "</table>\n",
              "</div>\n",
              "      <button class=\"colab-df-convert\" onclick=\"convertToInteractive('df-221efc03-a6db-49df-842f-1b5f6aca418a')\"\n",
              "              title=\"Convert this dataframe to an interactive table.\"\n",
              "              style=\"display:none;\">\n",
              "        \n",
              "  <svg xmlns=\"http://www.w3.org/2000/svg\" height=\"24px\"viewBox=\"0 0 24 24\"\n",
              "       width=\"24px\">\n",
              "    <path d=\"M0 0h24v24H0V0z\" fill=\"none\"/>\n",
              "    <path d=\"M18.56 5.44l.94 2.06.94-2.06 2.06-.94-2.06-.94-.94-2.06-.94 2.06-2.06.94zm-11 1L8.5 8.5l.94-2.06 2.06-.94-2.06-.94L8.5 2.5l-.94 2.06-2.06.94zm10 10l.94 2.06.94-2.06 2.06-.94-2.06-.94-.94-2.06-.94 2.06-2.06.94z\"/><path d=\"M17.41 7.96l-1.37-1.37c-.4-.4-.92-.59-1.43-.59-.52 0-1.04.2-1.43.59L10.3 9.45l-7.72 7.72c-.78.78-.78 2.05 0 2.83L4 21.41c.39.39.9.59 1.41.59.51 0 1.02-.2 1.41-.59l7.78-7.78 2.81-2.81c.8-.78.8-2.07 0-2.86zM5.41 20L4 18.59l7.72-7.72 1.47 1.35L5.41 20z\"/>\n",
              "  </svg>\n",
              "      </button>\n",
              "      \n",
              "  <style>\n",
              "    .colab-df-container {\n",
              "      display:flex;\n",
              "      flex-wrap:wrap;\n",
              "      gap: 12px;\n",
              "    }\n",
              "\n",
              "    .colab-df-convert {\n",
              "      background-color: #E8F0FE;\n",
              "      border: none;\n",
              "      border-radius: 50%;\n",
              "      cursor: pointer;\n",
              "      display: none;\n",
              "      fill: #1967D2;\n",
              "      height: 32px;\n",
              "      padding: 0 0 0 0;\n",
              "      width: 32px;\n",
              "    }\n",
              "\n",
              "    .colab-df-convert:hover {\n",
              "      background-color: #E2EBFA;\n",
              "      box-shadow: 0px 1px 2px rgba(60, 64, 67, 0.3), 0px 1px 3px 1px rgba(60, 64, 67, 0.15);\n",
              "      fill: #174EA6;\n",
              "    }\n",
              "\n",
              "    [theme=dark] .colab-df-convert {\n",
              "      background-color: #3B4455;\n",
              "      fill: #D2E3FC;\n",
              "    }\n",
              "\n",
              "    [theme=dark] .colab-df-convert:hover {\n",
              "      background-color: #434B5C;\n",
              "      box-shadow: 0px 1px 3px 1px rgba(0, 0, 0, 0.15);\n",
              "      filter: drop-shadow(0px 1px 2px rgba(0, 0, 0, 0.3));\n",
              "      fill: #FFFFFF;\n",
              "    }\n",
              "  </style>\n",
              "\n",
              "      <script>\n",
              "        const buttonEl =\n",
              "          document.querySelector('#df-221efc03-a6db-49df-842f-1b5f6aca418a button.colab-df-convert');\n",
              "        buttonEl.style.display =\n",
              "          google.colab.kernel.accessAllowed ? 'block' : 'none';\n",
              "\n",
              "        async function convertToInteractive(key) {\n",
              "          const element = document.querySelector('#df-221efc03-a6db-49df-842f-1b5f6aca418a');\n",
              "          const dataTable =\n",
              "            await google.colab.kernel.invokeFunction('convertToInteractive',\n",
              "                                                     [key], {});\n",
              "          if (!dataTable) return;\n",
              "\n",
              "          const docLinkHtml = 'Like what you see? Visit the ' +\n",
              "            '<a target=\"_blank\" href=https://colab.research.google.com/notebooks/data_table.ipynb>data table notebook</a>'\n",
              "            + ' to learn more about interactive tables.';\n",
              "          element.innerHTML = '';\n",
              "          dataTable['output_type'] = 'display_data';\n",
              "          await google.colab.output.renderOutput(dataTable, element);\n",
              "          const docLink = document.createElement('div');\n",
              "          docLink.innerHTML = docLinkHtml;\n",
              "          element.appendChild(docLink);\n",
              "        }\n",
              "      </script>\n",
              "    </div>\n",
              "  </div>\n",
              "  "
            ]
          },
          "metadata": {},
          "execution_count": 99
        }
      ]
    },
    {
      "cell_type": "markdown",
      "source": [
        "Firstly, we will sort the actual CLV and take the first 42 consumers - the higher-value consumers. The number 42 came from the k-means clusters, excluding the clusters with the low spenders."
      ],
      "metadata": {
        "id": "dGjg6XEwrNVH"
      }
    },
    {
      "cell_type": "code",
      "source": [
        "High_Value_Customers_CLV = CLV_GG.sort_values('real_CLV' , ascending = False).head(42)"
      ],
      "metadata": {
        "id": "MrzuTMiCsHFu"
      },
      "execution_count": null,
      "outputs": []
    },
    {
      "cell_type": "markdown",
      "source": [
        "Now we will assess the models again, but first, we will extract the predicted CVs for the high-value customers."
      ],
      "metadata": {
        "id": "lCBqRV1gu1tB"
      }
    },
    {
      "cell_type": "code",
      "source": [
        "results = High_Value_Customers_CLV.merge(CLV_pred , on = 'id')\n",
        "results.rename(columns = { 'CLV' : 'LR' }, inplace = True)\n",
        "results = results.merge(CLV_gg , on = 'id')\n",
        "results.rename(columns = { 'clv' : 'GG' }, inplace = True)"
      ],
      "metadata": {
        "id": "ffukfyVzvtwP"
      },
      "execution_count": null,
      "outputs": []
    },
    {
      "cell_type": "code",
      "source": [
        "results.head()"
      ],
      "metadata": {
        "colab": {
          "base_uri": "https://localhost:8080/",
          "height": 206
        },
        "id": "oT0uRBLvvfik",
        "outputId": "f2ebb735-8a32-4360-f7dc-2f55139325f3"
      },
      "execution_count": null,
      "outputs": [
        {
          "output_type": "execute_result",
          "data": {
            "text/plain": [
              "         id       real_CLV            LR           GG\n",
              "0   55451.0  300000.000000    140.001065    40.023770\n",
              "1   41692.0  273705.882353  52548.485467  9055.431696\n",
              "2   65796.0  123450.000000  11706.244100  2591.935678\n",
              "3  107886.0   95000.000000   1093.881282   373.887427\n",
              "4   17380.0   86050.000000  11733.809938  2200.071341"
            ],
            "text/html": [
              "\n",
              "  <div id=\"df-72dd8725-a321-4e0f-90b3-9c5115f28545\">\n",
              "    <div class=\"colab-df-container\">\n",
              "      <div>\n",
              "<style scoped>\n",
              "    .dataframe tbody tr th:only-of-type {\n",
              "        vertical-align: middle;\n",
              "    }\n",
              "\n",
              "    .dataframe tbody tr th {\n",
              "        vertical-align: top;\n",
              "    }\n",
              "\n",
              "    .dataframe thead th {\n",
              "        text-align: right;\n",
              "    }\n",
              "</style>\n",
              "<table border=\"1\" class=\"dataframe\">\n",
              "  <thead>\n",
              "    <tr style=\"text-align: right;\">\n",
              "      <th></th>\n",
              "      <th>id</th>\n",
              "      <th>real_CLV</th>\n",
              "      <th>LR</th>\n",
              "      <th>GG</th>\n",
              "    </tr>\n",
              "  </thead>\n",
              "  <tbody>\n",
              "    <tr>\n",
              "      <th>0</th>\n",
              "      <td>55451.0</td>\n",
              "      <td>300000.000000</td>\n",
              "      <td>140.001065</td>\n",
              "      <td>40.023770</td>\n",
              "    </tr>\n",
              "    <tr>\n",
              "      <th>1</th>\n",
              "      <td>41692.0</td>\n",
              "      <td>273705.882353</td>\n",
              "      <td>52548.485467</td>\n",
              "      <td>9055.431696</td>\n",
              "    </tr>\n",
              "    <tr>\n",
              "      <th>2</th>\n",
              "      <td>65796.0</td>\n",
              "      <td>123450.000000</td>\n",
              "      <td>11706.244100</td>\n",
              "      <td>2591.935678</td>\n",
              "    </tr>\n",
              "    <tr>\n",
              "      <th>3</th>\n",
              "      <td>107886.0</td>\n",
              "      <td>95000.000000</td>\n",
              "      <td>1093.881282</td>\n",
              "      <td>373.887427</td>\n",
              "    </tr>\n",
              "    <tr>\n",
              "      <th>4</th>\n",
              "      <td>17380.0</td>\n",
              "      <td>86050.000000</td>\n",
              "      <td>11733.809938</td>\n",
              "      <td>2200.071341</td>\n",
              "    </tr>\n",
              "  </tbody>\n",
              "</table>\n",
              "</div>\n",
              "      <button class=\"colab-df-convert\" onclick=\"convertToInteractive('df-72dd8725-a321-4e0f-90b3-9c5115f28545')\"\n",
              "              title=\"Convert this dataframe to an interactive table.\"\n",
              "              style=\"display:none;\">\n",
              "        \n",
              "  <svg xmlns=\"http://www.w3.org/2000/svg\" height=\"24px\"viewBox=\"0 0 24 24\"\n",
              "       width=\"24px\">\n",
              "    <path d=\"M0 0h24v24H0V0z\" fill=\"none\"/>\n",
              "    <path d=\"M18.56 5.44l.94 2.06.94-2.06 2.06-.94-2.06-.94-.94-2.06-.94 2.06-2.06.94zm-11 1L8.5 8.5l.94-2.06 2.06-.94-2.06-.94L8.5 2.5l-.94 2.06-2.06.94zm10 10l.94 2.06.94-2.06 2.06-.94-2.06-.94-.94-2.06-.94 2.06-2.06.94z\"/><path d=\"M17.41 7.96l-1.37-1.37c-.4-.4-.92-.59-1.43-.59-.52 0-1.04.2-1.43.59L10.3 9.45l-7.72 7.72c-.78.78-.78 2.05 0 2.83L4 21.41c.39.39.9.59 1.41.59.51 0 1.02-.2 1.41-.59l7.78-7.78 2.81-2.81c.8-.78.8-2.07 0-2.86zM5.41 20L4 18.59l7.72-7.72 1.47 1.35L5.41 20z\"/>\n",
              "  </svg>\n",
              "      </button>\n",
              "      \n",
              "  <style>\n",
              "    .colab-df-container {\n",
              "      display:flex;\n",
              "      flex-wrap:wrap;\n",
              "      gap: 12px;\n",
              "    }\n",
              "\n",
              "    .colab-df-convert {\n",
              "      background-color: #E8F0FE;\n",
              "      border: none;\n",
              "      border-radius: 50%;\n",
              "      cursor: pointer;\n",
              "      display: none;\n",
              "      fill: #1967D2;\n",
              "      height: 32px;\n",
              "      padding: 0 0 0 0;\n",
              "      width: 32px;\n",
              "    }\n",
              "\n",
              "    .colab-df-convert:hover {\n",
              "      background-color: #E2EBFA;\n",
              "      box-shadow: 0px 1px 2px rgba(60, 64, 67, 0.3), 0px 1px 3px 1px rgba(60, 64, 67, 0.15);\n",
              "      fill: #174EA6;\n",
              "    }\n",
              "\n",
              "    [theme=dark] .colab-df-convert {\n",
              "      background-color: #3B4455;\n",
              "      fill: #D2E3FC;\n",
              "    }\n",
              "\n",
              "    [theme=dark] .colab-df-convert:hover {\n",
              "      background-color: #434B5C;\n",
              "      box-shadow: 0px 1px 3px 1px rgba(0, 0, 0, 0.15);\n",
              "      filter: drop-shadow(0px 1px 2px rgba(0, 0, 0, 0.3));\n",
              "      fill: #FFFFFF;\n",
              "    }\n",
              "  </style>\n",
              "\n",
              "      <script>\n",
              "        const buttonEl =\n",
              "          document.querySelector('#df-72dd8725-a321-4e0f-90b3-9c5115f28545 button.colab-df-convert');\n",
              "        buttonEl.style.display =\n",
              "          google.colab.kernel.accessAllowed ? 'block' : 'none';\n",
              "\n",
              "        async function convertToInteractive(key) {\n",
              "          const element = document.querySelector('#df-72dd8725-a321-4e0f-90b3-9c5115f28545');\n",
              "          const dataTable =\n",
              "            await google.colab.kernel.invokeFunction('convertToInteractive',\n",
              "                                                     [key], {});\n",
              "          if (!dataTable) return;\n",
              "\n",
              "          const docLinkHtml = 'Like what you see? Visit the ' +\n",
              "            '<a target=\"_blank\" href=https://colab.research.google.com/notebooks/data_table.ipynb>data table notebook</a>'\n",
              "            + ' to learn more about interactive tables.';\n",
              "          element.innerHTML = '';\n",
              "          dataTable['output_type'] = 'display_data';\n",
              "          await google.colab.output.renderOutput(dataTable, element);\n",
              "          const docLink = document.createElement('div');\n",
              "          docLink.innerHTML = docLinkHtml;\n",
              "          element.appendChild(docLink);\n",
              "        }\n",
              "      </script>\n",
              "    </div>\n",
              "  </div>\n",
              "  "
            ]
          },
          "metadata": {},
          "execution_count": 107
        }
      ]
    },
    {
      "cell_type": "markdown",
      "source": [
        "Linear Regression:"
      ],
      "metadata": {
        "id": "t_pSCG_oxutJ"
      }
    },
    {
      "cell_type": "code",
      "source": [
        "median_absolute_error( results['real_CLV'] , results['LR'] )"
      ],
      "metadata": {
        "colab": {
          "base_uri": "https://localhost:8080/"
        },
        "id": "U122wk39u5Qm",
        "outputId": "aad26de1-68ae-473d-c244-c005f6d411a2"
      },
      "execution_count": null,
      "outputs": [
        {
          "output_type": "execute_result",
          "data": {
            "text/plain": [
              "20716.9217965762"
            ]
          },
          "metadata": {},
          "execution_count": 108
        }
      ]
    },
    {
      "cell_type": "markdown",
      "source": [
        "Gamma-Gamma:"
      ],
      "metadata": {
        "id": "oTzUxQ8OxxrL"
      }
    },
    {
      "cell_type": "code",
      "source": [
        "median_absolute_error( results['real_CLV'] , results['GG'] )"
      ],
      "metadata": {
        "colab": {
          "base_uri": "https://localhost:8080/"
        },
        "id": "wVd5GEVXx8hd",
        "outputId": "127e9109-edab-4f87-a6af-0652a2c6a843"
      },
      "execution_count": null,
      "outputs": [
        {
          "output_type": "execute_result",
          "data": {
            "text/plain": [
              "22022.03606044963"
            ]
          },
          "metadata": {},
          "execution_count": 109
        }
      ]
    },
    {
      "cell_type": "markdown",
      "source": [
        "Although both results are very bad, Linear Regression predicted more accurately the higher value consumers, thus Linear Regression is the best model of the two."
      ],
      "metadata": {
        "id": "NXsgVbbEyOl-"
      }
    },
    {
      "cell_type": "markdown",
      "source": [
        "# Summary\n",
        "\n",
        "---\n"
      ],
      "metadata": {
        "id": "HoJYABoDGxpq"
      }
    },
    {
      "cell_type": "markdown",
      "source": [
        "The task of this project was to model and predict the Customer's Lifetime Value, which can be calculated by the multiplication of transaction frequency and transaction average value. To achieve this, we firstly performed data preprocessing to our data so it could fit a certain format. For data preprocessing, we replaced boolean values of the 'ftd' column, performed NLP to the 'settledAt' column as well as changed its data type to DateTime, and also deleted any invalid transaction of the dataframe. Secondly, we computed the necessary metrics, like Frequency, Recency , Tenure and Monetary Value and then did Data Visualization and Analysis. From the analysis we concluded that most consumers purchased a single low value transaction. In addition, most customers are likely innactive and only the most frequent consumers with high recency are classified as still alive. Furthermore, the probability of a customer being churned increases rapidly the longer the customer stays inactive after its last transaction. Thirdly, we splitted the data based on calibration and observation periods, which is a similar process to the train-test split. After the split, we predicted the customers expected figure of transactions in the last 3-month period using the BG-NBD model. For the prediction of customers' expected value of purchases, we used two models, Gamma-Gamma and Linear Regression. Additionally,for the model assessment, the measure used was the median square error, which is a measure used for regression models and has the advantage of being resilient to outliers. The two approaches for evaluation were 1)evaluating the models according to prediction error, and 2) a business-oriented evaluation, where we took into account the prediction error of only the higher-value consumers. Lastly, both models had their pros and cons. The Gamma-Gamma model, although it is the more accurate one in terms of prediction error, cannot input any non-positive monetary value, and unfortunately, this does not apply to our case. On the other hand, Linear regression could predict any CLV and achieved the best accuracy business-wise. However, the two models are far near perfect as both are poorly assessed."
      ],
      "metadata": {
        "id": "IG9_aC67GsHf"
      }
    },
    {
      "cell_type": "markdown",
      "metadata": {
        "id": "0KaE4IJzn3UP"
      },
      "source": [
        "# Bibliography"
      ]
    },
    {
      "cell_type": "markdown",
      "metadata": {
        "id": "2pPh1sien5bP"
      },
      "source": [
        "https://practicaldatascience.co.uk/data-science/how-to-segment-customers-based-on-their-value-using-rfm-and-abc\n",
        "\n",
        "https://www.kaggle.com/code/dddddddddd1/customer-lifetime-value-prediction-bg-nbd-model\n",
        "\n",
        "https://lifetimes.readthedocs.io/en/latest/lifetimes.html#module-lifetimes.utils\n",
        "\n",
        "https://lifetimes.readthedocs.io/en/latest/lifetimes.fitters.html\n",
        "\n",
        "https://practicaldatascience.co.uk/data-science/how-to-calculate-clv-using-bgnbd-and-gamma-gamma\n",
        "\n",
        "https://towardsdatascience.com/measuring-customers-value-using-python-lifetimes-d8b19a04e9c1\n",
        "\n",
        "https://medium.com/swlh/predict-customer-lifetime-value-with-machine-learning-545624073d14\n",
        "\n",
        "https://www.investopedia.com/terms/r/r-squared.asp\n",
        "\n",
        "https://scikit-learn.org/stable/modules/model_evaluation.html#median-absolute-error"
      ]
    }
  ],
  "metadata": {
    "colab": {
      "provenance": []
    },
    "kernelspec": {
      "display_name": "Python 3",
      "name": "python3"
    },
    "language_info": {
      "name": "python"
    }
  },
  "nbformat": 4,
  "nbformat_minor": 0
}